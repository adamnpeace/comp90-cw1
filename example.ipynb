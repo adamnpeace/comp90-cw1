{
 "cells": [
  {
   "cell_type": "markdown",
   "metadata": {},
   "source": [
    "# Example IJulia Notebook\n",
    "\n",
    "Check your installation"
   ]
  },
  {
   "cell_type": "code",
   "execution_count": 1,
   "metadata": {},
   "outputs": [
    {
     "data": {
      "text/plain": [
       "f (generic function with 1 method)"
      ]
     },
     "execution_count": 1,
     "metadata": {},
     "output_type": "execute_result"
    }
   ],
   "source": [
    "f(x, y) = x + y"
   ]
  },
  {
   "cell_type": "code",
   "execution_count": 2,
   "metadata": {},
   "outputs": [
    {
     "data": {
      "text/plain": [
       "5"
      ]
     },
     "execution_count": 2,
     "metadata": {},
     "output_type": "execute_result"
    }
   ],
   "source": [
    "f(2, 3)"
   ]
  },
  {
   "cell_type": "markdown",
   "metadata": {},
   "source": [
    "# Variables and Printing"
   ]
  },
  {
   "cell_type": "code",
   "execution_count": 1,
   "metadata": {},
   "outputs": [
    {
     "name": "stdout",
     "output_type": "stream",
     "text": [
      "Hi there\n"
     ]
    }
   ],
   "source": [
    "println(\"Hi there\")"
   ]
  },
  {
   "cell_type": "code",
   "execution_count": 5,
   "metadata": {},
   "outputs": [],
   "source": [
    "123\n",
    "456; # Supressed"
   ]
  },
  {
   "cell_type": "code",
   "execution_count": 10,
   "metadata": {},
   "outputs": [
    {
     "data": {
      "text/plain": [
       "100"
      ]
     },
     "execution_count": 10,
     "metadata": {},
     "output_type": "execute_result"
    }
   ],
   "source": [
    "power = 10 ^ 2"
   ]
  },
  {
   "cell_type": "markdown",
   "metadata": {},
   "source": [
    "# Strings"
   ]
  },
  {
   "cell_type": "code",
   "execution_count": 11,
   "metadata": {},
   "outputs": [
    {
     "data": {
      "text/plain": [
       "\"hi, I'm a string\""
      ]
     },
     "execution_count": 11,
     "metadata": {},
     "output_type": "execute_result"
    }
   ],
   "source": [
    "s1 = \"hi, I'm a string\""
   ]
  },
  {
   "cell_type": "code",
   "execution_count": 12,
   "metadata": {},
   "outputs": [
    {
     "data": {
      "text/plain": [
       "\"Just like Python\\nwe can do this\""
      ]
     },
     "execution_count": 12,
     "metadata": {},
     "output_type": "execute_result"
    }
   ],
   "source": [
    "s2 = \"\"\"Just like Python\n",
    "we can do this\"\"\""
   ]
  },
  {
   "cell_type": "code",
   "execution_count": 13,
   "metadata": {},
   "outputs": [
    {
     "data": {
      "text/plain": [
       "Char"
      ]
     },
     "execution_count": 13,
     "metadata": {},
     "output_type": "execute_result"
    }
   ],
   "source": [
    "typeof('a')"
   ]
  },
  {
   "cell_type": "code",
   "execution_count": 19,
   "metadata": {},
   "outputs": [
    {
     "ename": "LoadError",
     "evalue": "syntax: character literal contains multiple characters",
     "output_type": "error",
     "traceback": [
      "syntax: character literal contains multiple characters",
      "",
      "Stacktrace:",
      " [1] top-level scope at In[19]:1",
      " [2] include_string(::Function, ::Module, ::String, ::String) at ./loading.jl:1091",
      " [3] execute_code(::String, ::String) at /Users/ap/.julia/packages/IJulia/rWZ9e/src/execute_request.jl:27",
      " [4] execute_request(::ZMQ.Socket, ::IJulia.Msg) at /Users/ap/.julia/packages/IJulia/rWZ9e/src/execute_request.jl:86",
      " [5] #invokelatest#1 at ./essentials.jl:710 [inlined]",
      " [6] invokelatest at ./essentials.jl:709 [inlined]",
      " [7] eventloop(::ZMQ.Socket) at /Users/ap/.julia/packages/IJulia/rWZ9e/src/eventloop.jl:8",
      " [8] (::IJulia.var\"#15#18\")() at ./task.jl:356"
     ]
    }
   ],
   "source": [
    "'this is not allowed like in c'"
   ]
  },
  {
   "cell_type": "code",
   "execution_count": 24,
   "metadata": {},
   "outputs": [
    {
     "name": "stdout",
     "output_type": "stream",
     "text": [
      "Hi, my name is Adam and I'm 170.4cm tall.\n"
     ]
    }
   ],
   "source": [
    "name = \"Adam\"\n",
    "heightIn = 71\n",
    "println(\"Hi, my name is $(name) and I'm $(heightIn*2.4)cm tall.\")"
   ]
  },
  {
   "cell_type": "code",
   "execution_count": 26,
   "metadata": {},
   "outputs": [
    {
     "data": {
      "text/plain": [
       "\"We live in a society\""
      ]
     },
     "execution_count": 26,
     "metadata": {},
     "output_type": "execute_result"
    }
   ],
   "source": [
    "string(\"We live in\", \" a society\")"
   ]
  },
  {
   "cell_type": "code",
   "execution_count": 28,
   "metadata": {},
   "outputs": [
    {
     "data": {
      "text/plain": [
       "\"3 times 3 is 4\""
      ]
     },
     "execution_count": 28,
     "metadata": {},
     "output_type": "execute_result"
    }
   ],
   "source": [
    "string(3, \" times \", 3, \" is \", 4)"
   ]
  },
  {
   "cell_type": "code",
   "execution_count": 31,
   "metadata": {},
   "outputs": [],
   "source": [
    "s3 = \"we all live\";\n",
    "s4 = \"in a yellow submarine\";"
   ]
  },
  {
   "cell_type": "code",
   "execution_count": 32,
   "metadata": {},
   "outputs": [
    {
     "data": {
      "text/plain": [
       "\"we all livein a yellow submarine\""
      ]
     },
     "execution_count": 32,
     "metadata": {},
     "output_type": "execute_result"
    }
   ],
   "source": [
    "s3*s4"
   ]
  },
  {
   "cell_type": "code",
   "execution_count": 33,
   "metadata": {},
   "outputs": [
    {
     "data": {
      "text/plain": [
       "\"we all livein a yellow submarine\""
      ]
     },
     "execution_count": 33,
     "metadata": {},
     "output_type": "execute_result"
    }
   ],
   "source": [
    "\"$s3$s4\""
   ]
  },
  {
   "cell_type": "markdown",
   "metadata": {},
   "source": [
    "# Data Structures"
   ]
  },
  {
   "cell_type": "code",
   "execution_count": 49,
   "metadata": {},
   "outputs": [
    {
     "data": {
      "text/plain": [
       "1-element Array{String,1}:\n",
       " \"a\""
      ]
     },
     "execution_count": 49,
     "metadata": {},
     "output_type": "execute_result"
    }
   ],
   "source": [
    "a = [\"a\"]"
   ]
  },
  {
   "cell_type": "code",
   "execution_count": null,
   "metadata": {},
   "outputs": [],
   "source": [
    "a.append"
   ]
  },
  {
   "cell_type": "markdown",
   "metadata": {},
   "source": [
    "## Dictionaries"
   ]
  },
  {
   "cell_type": "code",
   "execution_count": 44,
   "metadata": {},
   "outputs": [
    {
     "data": {
      "text/plain": [
       "Dict{String,String} with 2 entries:\n",
       "  \"mango\"     => \"10p\"\n",
       "  \"pineapple\" => \"15p\""
      ]
     },
     "execution_count": 44,
     "metadata": {},
     "output_type": "execute_result"
    }
   ],
   "source": [
    "prices = Dict(\"mango\" => \"10p\", \"pineapple\" => \"15p\")\n",
    "# Type is any if multiple values are used in constructor\n",
    "# - Otherwise, the types are enforced"
   ]
  },
  {
   "cell_type": "code",
   "execution_count": 45,
   "metadata": {},
   "outputs": [
    {
     "data": {
      "text/plain": [
       "\"10p\""
      ]
     },
     "execution_count": 45,
     "metadata": {},
     "output_type": "execute_result"
    }
   ],
   "source": [
    "# prices[\"bananaaa\"] = 10 # Invalid\n",
    "prices[\"bananaaa\"] = \"10p\""
   ]
  },
  {
   "cell_type": "code",
   "execution_count": 46,
   "metadata": {},
   "outputs": [
    {
     "data": {
      "text/plain": [
       "Dict{String,String} with 3 entries:\n",
       "  \"mango\"     => \"10p\"\n",
       "  \"bananaaa\"  => \"10p\"\n",
       "  \"pineapple\" => \"15p\""
      ]
     },
     "execution_count": 46,
     "metadata": {},
     "output_type": "execute_result"
    }
   ],
   "source": [
    "prices"
   ]
  },
  {
   "cell_type": "code",
   "execution_count": 47,
   "metadata": {},
   "outputs": [
    {
     "data": {
      "text/plain": [
       "\"10p\""
      ]
     },
     "execution_count": 47,
     "metadata": {},
     "output_type": "execute_result"
    }
   ],
   "source": [
    "prices[\"mango\"]"
   ]
  },
  {
   "cell_type": "code",
   "execution_count": 48,
   "metadata": {},
   "outputs": [
    {
     "data": {
      "text/plain": [
       "\"15p\""
      ]
     },
     "execution_count": 48,
     "metadata": {},
     "output_type": "execute_result"
    }
   ],
   "source": [
    "a = pop!(prices, \"pineapple\")"
   ]
  },
  {
   "cell_type": "markdown",
   "metadata": {},
   "source": [
    "## Tuples"
   ]
  },
  {
   "cell_type": "code",
   "execution_count": 50,
   "metadata": {},
   "outputs": [
    {
     "data": {
      "text/plain": [
       "(\"cats\", \"doggos\", \"zebras\")"
      ]
     },
     "execution_count": 50,
     "metadata": {},
     "output_type": "execute_result"
    }
   ],
   "source": [
    "bestAnimals = (\"cats\", \"doggos\", \"zebras\")"
   ]
  },
  {
   "cell_type": "code",
   "execution_count": 53,
   "metadata": {},
   "outputs": [
    {
     "data": {
      "text/plain": [
       "\"cats\""
      ]
     },
     "execution_count": 53,
     "metadata": {},
     "output_type": "execute_result"
    }
   ],
   "source": [
    "bestAnimals[1] # Julia is 1-indexed!!"
   ]
  },
  {
   "cell_type": "code",
   "execution_count": 62,
   "metadata": {},
   "outputs": [],
   "source": [
    "# bestAnimals[1] = \"bunnies\" # Error: Tuples are immutable"
   ]
  },
  {
   "cell_type": "markdown",
   "metadata": {},
   "source": [
    "## Arrays"
   ]
  },
  {
   "cell_type": "code",
   "execution_count": 63,
   "metadata": {},
   "outputs": [
    {
     "data": {
      "text/plain": [
       "7-element Array{Int64,1}:\n",
       "  1\n",
       "  1\n",
       "  2\n",
       "  3\n",
       "  5\n",
       "  8\n",
       " 13"
      ]
     },
     "execution_count": 63,
     "metadata": {},
     "output_type": "execute_result"
    }
   ],
   "source": [
    "fibonacci = [1, 1, 2, 3, 5, 8, 13] # Creates Array{Int64, 1}"
   ]
  },
  {
   "cell_type": "code",
   "execution_count": 65,
   "metadata": {},
   "outputs": [
    {
     "data": {
      "text/plain": [
       "3-element Array{Any,1}:\n",
       " 1\n",
       " 2\n",
       "  \"3\""
      ]
     },
     "execution_count": 65,
     "metadata": {},
     "output_type": "execute_result"
    }
   ],
   "source": [
    "mixed = [1, 2, \"3\"] # Creates Array{Any, 1}"
   ]
  },
  {
   "cell_type": "code",
   "execution_count": 70,
   "metadata": {},
   "outputs": [
    {
     "data": {
      "text/plain": [
       "3-element Array{String,1}:\n",
       " \"apple\"\n",
       " \"google\"\n",
       " \"microsoft\""
      ]
     },
     "execution_count": 70,
     "metadata": {},
     "output_type": "execute_result"
    }
   ],
   "source": [
    "companies = [\"apple\", \"google\", \"microsoft\"]"
   ]
  },
  {
   "cell_type": "code",
   "execution_count": 71,
   "metadata": {},
   "outputs": [
    {
     "data": {
      "text/plain": [
       "\"apple\""
      ]
     },
     "execution_count": 71,
     "metadata": {},
     "output_type": "execute_result"
    }
   ],
   "source": [
    "companies[1]"
   ]
  },
  {
   "cell_type": "code",
   "execution_count": 72,
   "metadata": {},
   "outputs": [],
   "source": [
    "companies[3] = \"amazon\";"
   ]
  },
  {
   "cell_type": "code",
   "execution_count": 73,
   "metadata": {},
   "outputs": [
    {
     "data": {
      "text/plain": [
       "3-element Array{String,1}:\n",
       " \"apple\"\n",
       " \"google\"\n",
       " \"amazon\""
      ]
     },
     "execution_count": 73,
     "metadata": {},
     "output_type": "execute_result"
    }
   ],
   "source": [
    "companies"
   ]
  },
  {
   "cell_type": "code",
   "execution_count": 74,
   "metadata": {},
   "outputs": [
    {
     "data": {
      "text/plain": [
       "4-element Array{String,1}:\n",
       " \"apple\"\n",
       " \"google\"\n",
       " \"amazon\"\n",
       " \"netflix\""
      ]
     },
     "execution_count": 74,
     "metadata": {},
     "output_type": "execute_result"
    }
   ],
   "source": [
    "push!(companies, \"netflix\")"
   ]
  },
  {
   "cell_type": "code",
   "execution_count": 75,
   "metadata": {},
   "outputs": [
    {
     "data": {
      "text/plain": [
       "\"netflix\""
      ]
     },
     "execution_count": 75,
     "metadata": {},
     "output_type": "execute_result"
    }
   ],
   "source": [
    "lastCompany = pop!(companies)"
   ]
  },
  {
   "cell_type": "markdown",
   "metadata": {},
   "source": [
    "Arrays therefore are like stacks (LIFO)"
   ]
  },
  {
   "cell_type": "code",
   "execution_count": 76,
   "metadata": {},
   "outputs": [
    {
     "data": {
      "text/plain": [
       "3-element Array{Array{Int64,1},1}:\n",
       " [1, 2, 3]\n",
       " [4, 5]\n",
       " [6, 7, 8, 9]"
      ]
     },
     "execution_count": 76,
     "metadata": {},
     "output_type": "execute_result"
    }
   ],
   "source": [
    "numbers = [[1, 2, 3], [4, 5], [6, 7, 8, 9]] # Can have different sized"
   ]
  },
  {
   "cell_type": "code",
   "execution_count": 82,
   "metadata": {},
   "outputs": [
    {
     "data": {
      "text/plain": [
       "2×5 Array{Float64,2}:\n",
       " 0.140022  0.282759  0.994019  0.507056  0.645241\n",
       " 0.761187  0.200193  0.112678  0.910874  0.382978"
      ]
     },
     "execution_count": 82,
     "metadata": {},
     "output_type": "execute_result"
    }
   ],
   "source": [
    "rand(2, 5)"
   ]
  },
  {
   "cell_type": "code",
   "execution_count": 83,
   "metadata": {},
   "outputs": [
    {
     "data": {
      "text/plain": [
       "0.94837633877236"
      ]
     },
     "execution_count": 83,
     "metadata": {},
     "output_type": "execute_result"
    }
   ],
   "source": [
    "rand()"
   ]
  },
  {
   "cell_type": "code",
   "execution_count": 86,
   "metadata": {},
   "outputs": [
    {
     "data": {
      "text/plain": [
       "5×5 Array{Float64,2}:\n",
       " 0.0  0.0  0.0  0.0  0.0\n",
       " 0.0  0.0  0.0  0.0  0.0\n",
       " 0.0  0.0  0.0  0.0  0.0\n",
       " 0.0  0.0  0.0  0.0  0.0\n",
       " 0.0  0.0  0.0  0.0  0.0"
      ]
     },
     "execution_count": 86,
     "metadata": {},
     "output_type": "execute_result"
    }
   ],
   "source": [
    "zeros(5, 5)"
   ]
  },
  {
   "cell_type": "markdown",
   "metadata": {},
   "source": [
    "# Loops"
   ]
  },
  {
   "cell_type": "markdown",
   "metadata": {},
   "source": [
    "## While Loops"
   ]
  },
  {
   "cell_type": "code",
   "execution_count": 89,
   "metadata": {},
   "outputs": [
    {
     "name": "stdout",
     "output_type": "stream",
     "text": [
      "1\n",
      "2\n",
      "3\n",
      "4\n",
      "5\n"
     ]
    }
   ],
   "source": [
    "a = 0\n",
    "while a < 5\n",
    "    a += 1\n",
    "    println(a)\n",
    "end"
   ]
  },
  {
   "cell_type": "markdown",
   "metadata": {},
   "source": [
    "## For Loops"
   ]
  },
  {
   "cell_type": "code",
   "execution_count": 90,
   "metadata": {},
   "outputs": [
    {
     "name": "stdout",
     "output_type": "stream",
     "text": [
      "1\n",
      "2\n",
      "3\n",
      "4\n",
      "5\n"
     ]
    }
   ],
   "source": [
    "for n in 1:5\n",
    "    println(n)\n",
    "end"
   ]
  },
  {
   "cell_type": "code",
   "execution_count": 91,
   "metadata": {},
   "outputs": [
    {
     "name": "stdout",
     "output_type": "stream",
     "text": [
      "I have a cat\n",
      "I have a dog\n",
      "I have a panda\n"
     ]
    }
   ],
   "source": [
    "pets = [\"cat\", \"dog\", \"panda\"]\n",
    "\n",
    "for pet in pets\n",
    "    println(\"I have a $pet\")\n",
    "end"
   ]
  },
  {
   "cell_type": "code",
   "execution_count": 95,
   "metadata": {},
   "outputs": [
    {
     "name": "stdout",
     "output_type": "stream",
     "text": [
      "I can use this syntax to show my cat\n",
      "I can use this syntax to show my dog\n",
      "I can use this syntax to show my panda\n",
      "Or I can use ∈ to show my cat\n",
      "Or I can use ∈ to show my dog\n",
      "Or I can use ∈ to show my panda\n"
     ]
    }
   ],
   "source": [
    "for pet = pets\n",
    "    println(\"I can use this syntax to show my $pet\")\n",
    "end\n",
    "\n",
    "for pet ∈ pets\n",
    "    println(\"Or I can use ∈ to show my $pet\")\n",
    "end"
   ]
  },
  {
   "cell_type": "markdown",
   "metadata": {},
   "source": [
    "### Example\n",
    "\n",
    "Create an addition table"
   ]
  },
  {
   "cell_type": "code",
   "execution_count": 96,
   "metadata": {},
   "outputs": [
    {
     "data": {
      "text/plain": [
       "5×5 Array{Float64,2}:\n",
       " 0.0  0.0  0.0  0.0  0.0\n",
       " 0.0  0.0  0.0  0.0  0.0\n",
       " 0.0  0.0  0.0  0.0  0.0\n",
       " 0.0  0.0  0.0  0.0  0.0\n",
       " 0.0  0.0  0.0  0.0  0.0"
      ]
     },
     "execution_count": 96,
     "metadata": {},
     "output_type": "execute_result"
    }
   ],
   "source": [
    "m, n = 5, 5\n",
    "A = zeros(m, n)"
   ]
  },
  {
   "cell_type": "code",
   "execution_count": 98,
   "metadata": {},
   "outputs": [
    {
     "data": {
      "text/plain": [
       "5×5 Array{Float64,2}:\n",
       " 2.0  3.0  4.0  5.0   6.0\n",
       " 3.0  4.0  5.0  6.0   7.0\n",
       " 4.0  5.0  6.0  7.0   8.0\n",
       " 5.0  6.0  7.0  8.0   9.0\n",
       " 6.0  7.0  8.0  9.0  10.0"
      ]
     },
     "execution_count": 98,
     "metadata": {},
     "output_type": "execute_result"
    }
   ],
   "source": [
    "for i in 1:m\n",
    "    for j in 1:n\n",
    "        A[i, j] = i + j\n",
    "    end\n",
    "end\n",
    "A"
   ]
  },
  {
   "cell_type": "markdown",
   "metadata": {},
   "source": [
    "Or we can condense this with some syntactic sugar"
   ]
  },
  {
   "cell_type": "code",
   "execution_count": 100,
   "metadata": {},
   "outputs": [
    {
     "data": {
      "text/plain": [
       "5×5 Array{Float64,2}:\n",
       " 2.0  3.0  4.0  5.0   6.0\n",
       " 3.0  4.0  5.0  6.0   7.0\n",
       " 4.0  5.0  6.0  7.0   8.0\n",
       " 5.0  6.0  7.0  8.0   9.0\n",
       " 6.0  7.0  8.0  9.0  10.0"
      ]
     },
     "execution_count": 100,
     "metadata": {},
     "output_type": "execute_result"
    }
   ],
   "source": [
    "B = zeros(m, n)\n",
    "for i in 1:m, j in 1:n\n",
    "    B[i, j] = i + j\n",
    "end\n",
    "B"
   ]
  },
  {
   "cell_type": "markdown",
   "metadata": {},
   "source": [
    "Or we can use array comprehension"
   ]
  },
  {
   "cell_type": "code",
   "execution_count": 101,
   "metadata": {},
   "outputs": [
    {
     "data": {
      "text/plain": [
       "5×5 Array{Int64,2}:\n",
       " 2  3  4  5   6\n",
       " 3  4  5  6   7\n",
       " 4  5  6  7   8\n",
       " 5  6  7  8   9\n",
       " 6  7  8  9  10"
      ]
     },
     "execution_count": 101,
     "metadata": {},
     "output_type": "execute_result"
    }
   ],
   "source": [
    "C = [i + j for i in 1:m, j in 1:n] # Kind of like python but prettier"
   ]
  },
  {
   "cell_type": "markdown",
   "metadata": {},
   "source": [
    "# Functions"
   ]
  },
  {
   "cell_type": "markdown",
   "metadata": {},
   "source": [
    "## How to declare a function"
   ]
  },
  {
   "cell_type": "code",
   "execution_count": 106,
   "metadata": {},
   "outputs": [
    {
     "data": {
      "text/plain": [
       "sayhi (generic function with 1 method)"
      ]
     },
     "execution_count": 106,
     "metadata": {},
     "output_type": "execute_result"
    }
   ],
   "source": [
    "function sayhi(name)\n",
    "    println(\"Hi there $name\")\n",
    "end"
   ]
  },
  {
   "cell_type": "code",
   "execution_count": 107,
   "metadata": {},
   "outputs": [
    {
     "data": {
      "text/plain": [
       "f (generic function with 1 method)"
      ]
     },
     "execution_count": 107,
     "metadata": {},
     "output_type": "execute_result"
    }
   ],
   "source": [
    "function f(x)\n",
    "    x^2\n",
    "end"
   ]
  },
  {
   "cell_type": "code",
   "execution_count": 108,
   "metadata": {},
   "outputs": [
    {
     "name": "stdout",
     "output_type": "stream",
     "text": [
      "Hi there Bob\n"
     ]
    }
   ],
   "source": [
    "sayhi(\"Bob\")"
   ]
  },
  {
   "cell_type": "code",
   "execution_count": 109,
   "metadata": {},
   "outputs": [
    {
     "data": {
      "text/plain": [
       "16"
      ]
     },
     "execution_count": 109,
     "metadata": {},
     "output_type": "execute_result"
    }
   ],
   "source": [
    "f(4)"
   ]
  },
  {
   "cell_type": "markdown",
   "metadata": {},
   "source": [
    "### Single Line Functions"
   ]
  },
  {
   "cell_type": "code",
   "execution_count": 110,
   "metadata": {},
   "outputs": [
    {
     "data": {
      "text/plain": [
       "sayhi2 (generic function with 1 method)"
      ]
     },
     "execution_count": 110,
     "metadata": {},
     "output_type": "execute_result"
    }
   ],
   "source": [
    "sayhi2(name) = println(\"Hi $name, this is cool\")"
   ]
  },
  {
   "cell_type": "code",
   "execution_count": 112,
   "metadata": {},
   "outputs": [
    {
     "name": "stdout",
     "output_type": "stream",
     "text": [
      "Hi Waluigi, this is cool\n"
     ]
    }
   ],
   "source": [
    "sayhi2(\"Waluigi\")"
   ]
  },
  {
   "cell_type": "markdown",
   "metadata": {},
   "source": [
    "### Anonymous (lambda) functions"
   ]
  },
  {
   "cell_type": "code",
   "execution_count": 113,
   "metadata": {},
   "outputs": [
    {
     "data": {
      "text/plain": [
       "#3 (generic function with 1 method)"
      ]
     },
     "execution_count": 113,
     "metadata": {},
     "output_type": "execute_result"
    }
   ],
   "source": [
    "sayhi3 = name -> println(\"Hi $name, what's up\")"
   ]
  },
  {
   "cell_type": "code",
   "execution_count": 114,
   "metadata": {},
   "outputs": [
    {
     "name": "stdout",
     "output_type": "stream",
     "text": [
      "Hi Adam, what's up\n"
     ]
    }
   ],
   "source": [
    "sayhi3(\"Adam\")"
   ]
  },
  {
   "cell_type": "markdown",
   "metadata": {},
   "source": [
    "## Duck-typing in Julia\n",
    "\n",
    "Functions will work on any input that makes sense"
   ]
  },
  {
   "cell_type": "code",
   "execution_count": 115,
   "metadata": {},
   "outputs": [
    {
     "name": "stdout",
     "output_type": "stream",
     "text": [
      "Hi there 55595472\n"
     ]
    }
   ],
   "source": [
    "sayhi(55595472)"
   ]
  },
  {
   "cell_type": "code",
   "execution_count": 116,
   "metadata": {},
   "outputs": [
    {
     "data": {
      "text/plain": [
       "3×3 Array{Float64,2}:\n",
       " 0.381147  0.974354  0.776939\n",
       " 0.123093  0.379669  0.513829\n",
       " 0.516271  0.956759  0.180523"
      ]
     },
     "execution_count": 116,
     "metadata": {},
     "output_type": "execute_result"
    }
   ],
   "source": [
    "A = rand(3, 3)"
   ]
  },
  {
   "cell_type": "code",
   "execution_count": 118,
   "metadata": {},
   "outputs": [
    {
     "data": {
      "text/plain": [
       "3×3 Array{Float64,2}:\n",
       " 0.666321  1.48465   0.937035\n",
       " 0.358927  0.755695  0.383479\n",
       " 0.407745  1.039     0.92531"
      ]
     },
     "execution_count": 118,
     "metadata": {},
     "output_type": "execute_result"
    }
   ],
   "source": [
    "f(A) # Square of a matrix is well defined"
   ]
  },
  {
   "cell_type": "code",
   "execution_count": 119,
   "metadata": {},
   "outputs": [
    {
     "data": {
      "text/plain": [
       "3-element Array{Float64,1}:\n",
       " 0.3331748698991739\n",
       " 0.23258953123412396\n",
       " 0.49466893190351624"
      ]
     },
     "execution_count": 119,
     "metadata": {},
     "output_type": "execute_result"
    }
   ],
   "source": [
    "v = rand(3)"
   ]
  },
  {
   "cell_type": "code",
   "execution_count": 121,
   "metadata": {},
   "outputs": [],
   "source": [
    "# f(v) # Error: Not well-defined"
   ]
  },
  {
   "cell_type": "markdown",
   "metadata": {},
   "source": [
    "## Mutating vs non-mutating functions\n",
    "\n",
    "By convention, functions followed by `!` alter their contents and functions lacking `!` do not.\n",
    "\n",
    "For example, lets compare `sort` and `sort!`"
   ]
  },
  {
   "cell_type": "code",
   "execution_count": 122,
   "metadata": {},
   "outputs": [
    {
     "data": {
      "text/plain": [
       "3-element Array{Int64,1}:\n",
       " 3\n",
       " 5\n",
       " 2"
      ]
     },
     "execution_count": 122,
     "metadata": {},
     "output_type": "execute_result"
    }
   ],
   "source": [
    "v = [3, 5, 2]"
   ]
  },
  {
   "cell_type": "code",
   "execution_count": 123,
   "metadata": {},
   "outputs": [
    {
     "data": {
      "text/plain": [
       "3-element Array{Int64,1}:\n",
       " 2\n",
       " 3\n",
       " 5"
      ]
     },
     "execution_count": 123,
     "metadata": {},
     "output_type": "execute_result"
    }
   ],
   "source": [
    "sort(v)"
   ]
  },
  {
   "cell_type": "code",
   "execution_count": 124,
   "metadata": {},
   "outputs": [
    {
     "data": {
      "text/plain": [
       "3-element Array{Int64,1}:\n",
       " 3\n",
       " 5\n",
       " 2"
      ]
     },
     "execution_count": 124,
     "metadata": {},
     "output_type": "execute_result"
    }
   ],
   "source": [
    "v"
   ]
  },
  {
   "cell_type": "code",
   "execution_count": 125,
   "metadata": {},
   "outputs": [
    {
     "data": {
      "text/plain": [
       "3-element Array{Int64,1}:\n",
       " 2\n",
       " 3\n",
       " 5"
      ]
     },
     "execution_count": 125,
     "metadata": {},
     "output_type": "execute_result"
    }
   ],
   "source": [
    "sort!(v)"
   ]
  },
  {
   "cell_type": "code",
   "execution_count": 126,
   "metadata": {},
   "outputs": [
    {
     "data": {
      "text/plain": [
       "3-element Array{Int64,1}:\n",
       " 2\n",
       " 3\n",
       " 5"
      ]
     },
     "execution_count": 126,
     "metadata": {},
     "output_type": "execute_result"
    }
   ],
   "source": [
    "v"
   ]
  },
  {
   "cell_type": "markdown",
   "metadata": {},
   "source": [
    "## Broadcasting\n",
    "\n",
    "By placing a `.` between any function name and its arguments, we tell that function to broadcast over the elements of the input objects.\n",
    "\n",
    "Lets look at the difference between `f()` and `f.()`"
   ]
  },
  {
   "cell_type": "code",
   "execution_count": 128,
   "metadata": {},
   "outputs": [
    {
     "data": {
      "text/plain": [
       "3×3 Array{Int64,2}:\n",
       " 1  2  3\n",
       " 4  5  6\n",
       " 7  8  9"
      ]
     },
     "execution_count": 128,
     "metadata": {},
     "output_type": "execute_result"
    }
   ],
   "source": [
    "A = [i + 3*j for j in 0:2, i in 1:3]"
   ]
  },
  {
   "cell_type": "code",
   "execution_count": 129,
   "metadata": {},
   "outputs": [
    {
     "data": {
      "text/plain": [
       "3×3 Array{Int64,2}:\n",
       "  30   36   42\n",
       "  66   81   96\n",
       " 102  126  150"
      ]
     },
     "execution_count": 129,
     "metadata": {},
     "output_type": "execute_result"
    }
   ],
   "source": [
    "f(A)"
   ]
  },
  {
   "cell_type": "markdown",
   "metadata": {},
   "source": [
    "As we saw before, we have\n",
    "\n",
    "```\n",
    "f(A) = A^2 = A * A\n",
    "\n",
    "```"
   ]
  },
  {
   "cell_type": "code",
   "execution_count": 130,
   "metadata": {},
   "outputs": [
    {
     "data": {
      "text/plain": [
       "3×3 Array{Int64,2}:\n",
       "  1   4   9\n",
       " 16  25  36\n",
       " 49  64  81"
      ]
     },
     "execution_count": 130,
     "metadata": {},
     "output_type": "execute_result"
    }
   ],
   "source": [
    "f.(A)"
   ]
  },
  {
   "cell_type": "markdown",
   "metadata": {},
   "source": [
    "Now, you can see that the function is passed to each individual element of `A`, rather than treating `A` as a whole.\n",
    "\n",
    "So now we can use `f.()` on `v`"
   ]
  },
  {
   "cell_type": "code",
   "execution_count": 131,
   "metadata": {},
   "outputs": [
    {
     "data": {
      "text/plain": [
       "3-element Array{Int64,1}:\n",
       "  4\n",
       "  9\n",
       " 25"
      ]
     },
     "execution_count": 131,
     "metadata": {},
     "output_type": "execute_result"
    }
   ],
   "source": [
    "f.(v)"
   ]
  },
  {
   "cell_type": "code",
   "execution_count": 134,
   "metadata": {},
   "outputs": [
    {
     "data": {
      "text/plain": [
       "3×3 Array{Float64,2}:\n",
       "  3.0   6.0   9.0\n",
       " 12.0  15.0  18.0\n",
       " 21.0  24.0  27.0"
      ]
     },
     "execution_count": 134,
     "metadata": {},
     "output_type": "execute_result"
    }
   ],
   "source": [
    "A .+ 2 .* f.(A) ./ A # All are element-wise operations"
   ]
  },
  {
   "cell_type": "markdown",
   "metadata": {},
   "source": [
    "This is equivalent to `broadcast(x -> x + 2 * f(x) / x, A)`"
   ]
  },
  {
   "cell_type": "markdown",
   "metadata": {},
   "source": [
    "# Packages\n",
    "\n",
    "Load packages with:\n",
    "\n",
    "```julia\n",
    "using PkgName\n",
    "```\n",
    "\n",
    "This also adds all the member functions to the namespace, similar to `using namespace PkgName` or `import * from PkgName`"
   ]
  },
  {
   "cell_type": "code",
   "execution_count": 138,
   "metadata": {},
   "outputs": [],
   "source": [
    "# using PkgName # Loads the package and adds them to the namespace"
   ]
  },
  {
   "cell_type": "markdown",
   "metadata": {},
   "source": [
    "# Plotting"
   ]
  },
  {
   "cell_type": "code",
   "execution_count": 169,
   "metadata": {},
   "outputs": [
    {
     "name": "stderr",
     "output_type": "stream",
     "text": [
      "\u001b[32m\u001b[1m  Resolving\u001b[22m\u001b[39m package versions...\n",
      "\u001b[32m\u001b[1mNo Changes\u001b[22m\u001b[39m to `~/.julia/environments/v1.5/Project.toml`\n",
      "\u001b[32m\u001b[1mNo Changes\u001b[22m\u001b[39m to `~/.julia/environments/v1.5/Manifest.toml`\n"
     ]
    }
   ],
   "source": [
    "import Pkg; Pkg.add(\"PlotlyJS\")"
   ]
  },
  {
   "cell_type": "code",
   "execution_count": 170,
   "metadata": {},
   "outputs": [],
   "source": [
    "using PlotlyJS"
   ]
  },
  {
   "cell_type": "code",
   "execution_count": 150,
   "metadata": {},
   "outputs": [
    {
     "data": {
      "text/plain": [
       "61-element Array{Float64,1}:\n",
       " 9.0\n",
       " 8.41\n",
       " 7.839999999999999\n",
       " 7.290000000000001\n",
       " 6.760000000000001\n",
       " 6.25\n",
       " 5.76\n",
       " 5.289999999999999\n",
       " 4.840000000000001\n",
       " 4.41\n",
       " 4.0\n",
       " 3.61\n",
       " 3.24\n",
       " ⋮\n",
       " 3.61\n",
       " 4.0\n",
       " 4.41\n",
       " 4.840000000000001\n",
       " 5.289999999999999\n",
       " 5.76\n",
       " 6.25\n",
       " 6.760000000000001\n",
       " 7.290000000000001\n",
       " 7.839999999999999\n",
       " 8.41\n",
       " 9.0"
      ]
     },
     "execution_count": 150,
     "metadata": {},
     "output_type": "execute_result"
    }
   ],
   "source": [
    "x = -3:0.1:3 # Range from -3 to 3 with 0.1 increments\n",
    "f(x) = x^2\n",
    "y = f.(x)"
   ]
  },
  {
   "cell_type": "code",
   "execution_count": 161,
   "metadata": {},
   "outputs": [
    {
     "data": {
      "text/plain": [
       "Plots.PlotlyJSBackend()"
      ]
     },
     "execution_count": 161,
     "metadata": {},
     "output_type": "execute_result"
    }
   ],
   "source": [
    "plotlyjs()"
   ]
  },
  {
   "cell_type": "code",
   "execution_count": 162,
   "metadata": {},
   "outputs": [
    {
     "data": {
      "application/vnd.plotly.v1+json": {
       "data": [
        {
         "colorbar": {
          "title": ""
         },
         "legendgroup": "line",
         "line": {
          "color": "rgba(0, 154, 250, 1.000)",
          "dash": "solid",
          "shape": "linear",
          "width": 1
         },
         "mode": "lines",
         "name": "line",
         "showlegend": true,
         "type": "scatter",
         "x": [
          -3,
          -2.9,
          -2.8,
          -2.7,
          -2.6,
          -2.5,
          -2.4,
          -2.3,
          -2.2,
          -2.1,
          -2,
          -1.9,
          -1.8,
          -1.7,
          -1.6,
          -1.5,
          -1.4,
          -1.3,
          -1.2,
          -1.1,
          -1,
          -0.9,
          -0.8,
          -0.7,
          -0.6,
          -0.5,
          -0.4,
          -0.3,
          -0.2,
          -0.1,
          0,
          0.1,
          0.2,
          0.3,
          0.4,
          0.5,
          0.6,
          0.7,
          0.8,
          0.9,
          1,
          1.1,
          1.2,
          1.3,
          1.4,
          1.5,
          1.6,
          1.7,
          1.8,
          1.9,
          2,
          2.1,
          2.2,
          2.3,
          2.4,
          2.5,
          2.6,
          2.7,
          2.8,
          2.9,
          3
         ],
         "xaxis": "x",
         "y": [
          9,
          8.41,
          7.839999999999999,
          7.290000000000001,
          6.760000000000001,
          6.25,
          5.76,
          5.289999999999999,
          4.840000000000001,
          4.41,
          4,
          3.61,
          3.24,
          2.8899999999999997,
          2.5600000000000005,
          2.25,
          1.9599999999999997,
          1.6900000000000002,
          1.44,
          1.2100000000000002,
          1,
          0.81,
          0.6400000000000001,
          0.48999999999999994,
          0.36,
          0.25,
          0.16000000000000003,
          0.09,
          0.04000000000000001,
          0.010000000000000002,
          0,
          0.010000000000000002,
          0.04000000000000001,
          0.09,
          0.16000000000000003,
          0.25,
          0.36,
          0.48999999999999994,
          0.6400000000000001,
          0.81,
          1,
          1.2100000000000002,
          1.44,
          1.6900000000000002,
          1.9599999999999997,
          2.25,
          2.5600000000000005,
          2.8899999999999997,
          3.24,
          3.61,
          4,
          4.41,
          4.840000000000001,
          5.289999999999999,
          5.76,
          6.25,
          6.760000000000001,
          7.290000000000001,
          7.839999999999999,
          8.41,
          9
         ],
         "yaxis": "y",
         "zmax": null,
         "zmin": null
        },
        {
         "colorbar": {
          "title": ""
         },
         "legendgroup": "points",
         "marker": {
          "color": "rgba(227, 111, 71, 1.000)",
          "line": {
           "color": "rgba(0, 0, 0, 1.000)",
           "width": 1
          },
          "size": 8,
          "symbol": "circle"
         },
         "mode": "markers",
         "name": "points",
         "showlegend": true,
         "type": "scatter",
         "x": [
          -3,
          -2.9,
          -2.8,
          -2.7,
          -2.6,
          -2.5,
          -2.4,
          -2.3,
          -2.2,
          -2.1,
          -2,
          -1.9,
          -1.8,
          -1.7,
          -1.6,
          -1.5,
          -1.4,
          -1.3,
          -1.2,
          -1.1,
          -1,
          -0.9,
          -0.8,
          -0.7,
          -0.6,
          -0.5,
          -0.4,
          -0.3,
          -0.2,
          -0.1,
          0,
          0.1,
          0.2,
          0.3,
          0.4,
          0.5,
          0.6,
          0.7,
          0.8,
          0.9,
          1,
          1.1,
          1.2,
          1.3,
          1.4,
          1.5,
          1.6,
          1.7,
          1.8,
          1.9,
          2,
          2.1,
          2.2,
          2.3,
          2.4,
          2.5,
          2.6,
          2.7,
          2.8,
          2.9,
          3
         ],
         "xaxis": "x",
         "y": [
          9,
          8.41,
          7.839999999999999,
          7.290000000000001,
          6.760000000000001,
          6.25,
          5.76,
          5.289999999999999,
          4.840000000000001,
          4.41,
          4,
          3.61,
          3.24,
          2.8899999999999997,
          2.5600000000000005,
          2.25,
          1.9599999999999997,
          1.6900000000000002,
          1.44,
          1.2100000000000002,
          1,
          0.81,
          0.6400000000000001,
          0.48999999999999994,
          0.36,
          0.25,
          0.16000000000000003,
          0.09,
          0.04000000000000001,
          0.010000000000000002,
          0,
          0.010000000000000002,
          0.04000000000000001,
          0.09,
          0.16000000000000003,
          0.25,
          0.36,
          0.48999999999999994,
          0.6400000000000001,
          0.81,
          1,
          1.2100000000000002,
          1.44,
          1.6900000000000002,
          1.9599999999999997,
          2.25,
          2.5600000000000005,
          2.8899999999999997,
          3.24,
          3.61,
          4,
          4.41,
          4.840000000000001,
          5.289999999999999,
          5.76,
          6.25,
          6.760000000000001,
          7.290000000000001,
          7.839999999999999,
          8.41,
          9
         ],
         "yaxis": "y",
         "zmax": null,
         "zmin": null
        }
       ],
       "layout": {
        "annotations": [],
        "height": 400,
        "legend": {
         "bgcolor": "rgba(255, 255, 255, 1.000)",
         "bordercolor": "rgba(0, 0, 0, 1.000)",
         "borderwidth": 1,
         "font": {
          "color": "rgba(0, 0, 0, 1.000)",
          "family": "sans-serif",
          "size": 11
         },
         "tracegroupgap": 0,
         "traceorder": "normal",
         "x": 1,
         "xanchor": "auto",
         "y": 1,
         "yanchor": "auto"
        },
        "margin": {
         "b": 20,
         "l": 0,
         "r": 0,
         "t": 20
        },
        "paper_bgcolor": "rgba(255, 255, 255, 1.000)",
        "plot_bgcolor": "rgba(255, 255, 255, 1.000)",
        "showlegend": true,
        "width": 600,
        "xaxis": {
         "anchor": "y",
         "domain": [
          0.02137649460484106,
          0.9934383202099737
         ],
         "gridcolor": "rgba(0, 0, 0, 0.100)",
         "gridwidth": 0.5,
         "linecolor": "rgba(0, 0, 0, 1.000)",
         "mirror": false,
         "range": [
          -3.18,
          3.18
         ],
         "showgrid": true,
         "showline": true,
         "showticklabels": true,
         "tickangle": 0,
         "tickcolor": "rgb(0, 0, 0)",
         "tickfont": {
          "color": "rgba(0, 0, 0, 1.000)",
          "family": "sans-serif",
          "size": 11
         },
         "tickmode": "array",
         "ticks": "inside",
         "ticktext": [
          "-3",
          "-2",
          "-1",
          "0",
          "1",
          "2",
          "3"
         ],
         "tickvals": [
          -3,
          -2,
          -1,
          0,
          1,
          2,
          3
         ],
         "title": "",
         "titlefont": {
          "color": "rgba(0, 0, 0, 1.000)",
          "family": "sans-serif",
          "size": 15
         },
         "type": "-",
         "visible": true,
         "zeroline": false,
         "zerolinecolor": "rgba(0, 0, 0, 1.000)"
        },
        "yaxis": {
         "anchor": "x",
         "domain": [
          0.03762029746281716,
          0.9901574803149606
         ],
         "gridcolor": "rgba(0, 0, 0, 0.100)",
         "gridwidth": 0.5,
         "linecolor": "rgba(0, 0, 0, 1.000)",
         "mirror": false,
         "range": [
          -0.27,
          9.27
         ],
         "showgrid": true,
         "showline": true,
         "showticklabels": true,
         "tickangle": 0,
         "tickcolor": "rgb(0, 0, 0)",
         "tickfont": {
          "color": "rgba(0, 0, 0, 1.000)",
          "family": "sans-serif",
          "size": 11
         },
         "tickmode": "array",
         "ticks": "inside",
         "ticktext": [
          "0",
          "2",
          "4",
          "6",
          "8"
         ],
         "tickvals": [
          0,
          2,
          4,
          6,
          8
         ],
         "title": "",
         "titlefont": {
          "color": "rgba(0, 0, 0, 1.000)",
          "family": "sans-serif",
          "size": 15
         },
         "type": "-",
         "visible": true,
         "zeroline": false,
         "zerolinecolor": "rgba(0, 0, 0, 1.000)"
        }
       }
      },
      "text/html": [
       "<!DOCTYPE html>\n",
       "<html>\n",
       "    <head>\n",
       "        <title>Plots.jl</title>\n",
       "        <meta http-equiv=\"content-type\" content=\"text/html; charset=UTF-8\">\n",
       "        <script src=\"https://cdn.plot.ly/plotly-1.54.2.min.js\"></script>\n",
       "    </head>\n",
       "    <body>\n",
       "            <div id=\"73e82172-56d6-43ff-a99e-551dd2e55cac\" style=\"width:600px;height:400px;\"></div>\n",
       "    <script>\n",
       "    PLOT = document.getElementById('73e82172-56d6-43ff-a99e-551dd2e55cac');\n",
       "    Plotly.plot(PLOT, [\n",
       "    {\n",
       "        \"xaxis\": \"x\",\n",
       "        \"colorbar\": {\n",
       "            \"title\": \"\"\n",
       "        },\n",
       "        \"yaxis\": \"y\",\n",
       "        \"x\": [\n",
       "            -3.0,\n",
       "            -2.9,\n",
       "            -2.8,\n",
       "            -2.7,\n",
       "            -2.6,\n",
       "            -2.5,\n",
       "            -2.4,\n",
       "            -2.3,\n",
       "            -2.2,\n",
       "            -2.1,\n",
       "            -2.0,\n",
       "            -1.9,\n",
       "            -1.8,\n",
       "            -1.7,\n",
       "            -1.6,\n",
       "            -1.5,\n",
       "            -1.4,\n",
       "            -1.3,\n",
       "            -1.2,\n",
       "            -1.1,\n",
       "            -1.0,\n",
       "            -0.9,\n",
       "            -0.8,\n",
       "            -0.7,\n",
       "            -0.6,\n",
       "            -0.5,\n",
       "            -0.4,\n",
       "            -0.3,\n",
       "            -0.2,\n",
       "            -0.1,\n",
       "            0.0,\n",
       "            0.1,\n",
       "            0.2,\n",
       "            0.3,\n",
       "            0.4,\n",
       "            0.5,\n",
       "            0.6,\n",
       "            0.7,\n",
       "            0.8,\n",
       "            0.9,\n",
       "            1.0,\n",
       "            1.1,\n",
       "            1.2,\n",
       "            1.3,\n",
       "            1.4,\n",
       "            1.5,\n",
       "            1.6,\n",
       "            1.7,\n",
       "            1.8,\n",
       "            1.9,\n",
       "            2.0,\n",
       "            2.1,\n",
       "            2.2,\n",
       "            2.3,\n",
       "            2.4,\n",
       "            2.5,\n",
       "            2.6,\n",
       "            2.7,\n",
       "            2.8,\n",
       "            2.9,\n",
       "            3.0\n",
       "        ],\n",
       "        \"showlegend\": true,\n",
       "        \"mode\": \"lines\",\n",
       "        \"name\": \"line\",\n",
       "        \"zmin\": null,\n",
       "        \"legendgroup\": \"line\",\n",
       "        \"zmax\": null,\n",
       "        \"line\": {\n",
       "            \"color\": \"rgba(0, 154, 250, 1.000)\",\n",
       "            \"shape\": \"linear\",\n",
       "            \"dash\": \"solid\",\n",
       "            \"width\": 1\n",
       "        },\n",
       "        \"y\": [\n",
       "            9.0,\n",
       "            8.41,\n",
       "            7.839999999999999,\n",
       "            7.290000000000001,\n",
       "            6.760000000000001,\n",
       "            6.25,\n",
       "            5.76,\n",
       "            5.289999999999999,\n",
       "            4.840000000000001,\n",
       "            4.41,\n",
       "            4.0,\n",
       "            3.61,\n",
       "            3.24,\n",
       "            2.8899999999999997,\n",
       "            2.5600000000000005,\n",
       "            2.25,\n",
       "            1.9599999999999997,\n",
       "            1.6900000000000002,\n",
       "            1.44,\n",
       "            1.2100000000000002,\n",
       "            1.0,\n",
       "            0.81,\n",
       "            0.6400000000000001,\n",
       "            0.48999999999999994,\n",
       "            0.36,\n",
       "            0.25,\n",
       "            0.16000000000000003,\n",
       "            0.09,\n",
       "            0.04000000000000001,\n",
       "            0.010000000000000002,\n",
       "            0.0,\n",
       "            0.010000000000000002,\n",
       "            0.04000000000000001,\n",
       "            0.09,\n",
       "            0.16000000000000003,\n",
       "            0.25,\n",
       "            0.36,\n",
       "            0.48999999999999994,\n",
       "            0.6400000000000001,\n",
       "            0.81,\n",
       "            1.0,\n",
       "            1.2100000000000002,\n",
       "            1.44,\n",
       "            1.6900000000000002,\n",
       "            1.9599999999999997,\n",
       "            2.25,\n",
       "            2.5600000000000005,\n",
       "            2.8899999999999997,\n",
       "            3.24,\n",
       "            3.61,\n",
       "            4.0,\n",
       "            4.41,\n",
       "            4.840000000000001,\n",
       "            5.289999999999999,\n",
       "            5.76,\n",
       "            6.25,\n",
       "            6.760000000000001,\n",
       "            7.290000000000001,\n",
       "            7.839999999999999,\n",
       "            8.41,\n",
       "            9.0\n",
       "        ],\n",
       "        \"type\": \"scatter\"\n",
       "    },\n",
       "    {\n",
       "        \"xaxis\": \"x\",\n",
       "        \"colorbar\": {\n",
       "            \"title\": \"\"\n",
       "        },\n",
       "        \"yaxis\": \"y\",\n",
       "        \"x\": [\n",
       "            -3.0,\n",
       "            -2.9,\n",
       "            -2.8,\n",
       "            -2.7,\n",
       "            -2.6,\n",
       "            -2.5,\n",
       "            -2.4,\n",
       "            -2.3,\n",
       "            -2.2,\n",
       "            -2.1,\n",
       "            -2.0,\n",
       "            -1.9,\n",
       "            -1.8,\n",
       "            -1.7,\n",
       "            -1.6,\n",
       "            -1.5,\n",
       "            -1.4,\n",
       "            -1.3,\n",
       "            -1.2,\n",
       "            -1.1,\n",
       "            -1.0,\n",
       "            -0.9,\n",
       "            -0.8,\n",
       "            -0.7,\n",
       "            -0.6,\n",
       "            -0.5,\n",
       "            -0.4,\n",
       "            -0.3,\n",
       "            -0.2,\n",
       "            -0.1,\n",
       "            0.0,\n",
       "            0.1,\n",
       "            0.2,\n",
       "            0.3,\n",
       "            0.4,\n",
       "            0.5,\n",
       "            0.6,\n",
       "            0.7,\n",
       "            0.8,\n",
       "            0.9,\n",
       "            1.0,\n",
       "            1.1,\n",
       "            1.2,\n",
       "            1.3,\n",
       "            1.4,\n",
       "            1.5,\n",
       "            1.6,\n",
       "            1.7,\n",
       "            1.8,\n",
       "            1.9,\n",
       "            2.0,\n",
       "            2.1,\n",
       "            2.2,\n",
       "            2.3,\n",
       "            2.4,\n",
       "            2.5,\n",
       "            2.6,\n",
       "            2.7,\n",
       "            2.8,\n",
       "            2.9,\n",
       "            3.0\n",
       "        ],\n",
       "        \"showlegend\": true,\n",
       "        \"mode\": \"markers\",\n",
       "        \"name\": \"points\",\n",
       "        \"zmin\": null,\n",
       "        \"legendgroup\": \"points\",\n",
       "        \"marker\": {\n",
       "            \"symbol\": \"circle\",\n",
       "            \"color\": \"rgba(227, 111, 71, 1.000)\",\n",
       "            \"line\": {\n",
       "                \"color\": \"rgba(0, 0, 0, 1.000)\",\n",
       "                \"width\": 1\n",
       "            },\n",
       "            \"size\": 8\n",
       "        },\n",
       "        \"zmax\": null,\n",
       "        \"y\": [\n",
       "            9.0,\n",
       "            8.41,\n",
       "            7.839999999999999,\n",
       "            7.290000000000001,\n",
       "            6.760000000000001,\n",
       "            6.25,\n",
       "            5.76,\n",
       "            5.289999999999999,\n",
       "            4.840000000000001,\n",
       "            4.41,\n",
       "            4.0,\n",
       "            3.61,\n",
       "            3.24,\n",
       "            2.8899999999999997,\n",
       "            2.5600000000000005,\n",
       "            2.25,\n",
       "            1.9599999999999997,\n",
       "            1.6900000000000002,\n",
       "            1.44,\n",
       "            1.2100000000000002,\n",
       "            1.0,\n",
       "            0.81,\n",
       "            0.6400000000000001,\n",
       "            0.48999999999999994,\n",
       "            0.36,\n",
       "            0.25,\n",
       "            0.16000000000000003,\n",
       "            0.09,\n",
       "            0.04000000000000001,\n",
       "            0.010000000000000002,\n",
       "            0.0,\n",
       "            0.010000000000000002,\n",
       "            0.04000000000000001,\n",
       "            0.09,\n",
       "            0.16000000000000003,\n",
       "            0.25,\n",
       "            0.36,\n",
       "            0.48999999999999994,\n",
       "            0.6400000000000001,\n",
       "            0.81,\n",
       "            1.0,\n",
       "            1.2100000000000002,\n",
       "            1.44,\n",
       "            1.6900000000000002,\n",
       "            1.9599999999999997,\n",
       "            2.25,\n",
       "            2.5600000000000005,\n",
       "            2.8899999999999997,\n",
       "            3.24,\n",
       "            3.61,\n",
       "            4.0,\n",
       "            4.41,\n",
       "            4.840000000000001,\n",
       "            5.289999999999999,\n",
       "            5.76,\n",
       "            6.25,\n",
       "            6.760000000000001,\n",
       "            7.290000000000001,\n",
       "            7.839999999999999,\n",
       "            8.41,\n",
       "            9.0\n",
       "        ],\n",
       "        \"type\": \"scatter\"\n",
       "    }\n",
       "]\n",
       ", {\n",
       "    \"showlegend\": true,\n",
       "    \"xaxis\": {\n",
       "        \"showticklabels\": true,\n",
       "        \"gridwidth\": 0.5,\n",
       "        \"tickvals\": [\n",
       "            -3.0,\n",
       "            -2.0,\n",
       "            -1.0,\n",
       "            0.0,\n",
       "            1.0,\n",
       "            2.0,\n",
       "            3.0\n",
       "        ],\n",
       "        \"visible\": true,\n",
       "        \"ticks\": \"inside\",\n",
       "        \"range\": [\n",
       "            -3.18,\n",
       "            3.18\n",
       "        ],\n",
       "        \"domain\": [\n",
       "            0.02137649460484106,\n",
       "            0.9934383202099737\n",
       "        ],\n",
       "        \"tickmode\": \"array\",\n",
       "        \"linecolor\": \"rgba(0, 0, 0, 1.000)\",\n",
       "        \"showgrid\": true,\n",
       "        \"title\": \"\",\n",
       "        \"mirror\": false,\n",
       "        \"tickangle\": 0,\n",
       "        \"showline\": true,\n",
       "        \"gridcolor\": \"rgba(0, 0, 0, 0.100)\",\n",
       "        \"titlefont\": {\n",
       "            \"color\": \"rgba(0, 0, 0, 1.000)\",\n",
       "            \"family\": \"sans-serif\",\n",
       "            \"size\": 15\n",
       "        },\n",
       "        \"tickcolor\": \"rgb(0, 0, 0)\",\n",
       "        \"ticktext\": [\n",
       "            \"-3\",\n",
       "            \"-2\",\n",
       "            \"-1\",\n",
       "            \"0\",\n",
       "            \"1\",\n",
       "            \"2\",\n",
       "            \"3\"\n",
       "        ],\n",
       "        \"zeroline\": false,\n",
       "        \"type\": \"-\",\n",
       "        \"tickfont\": {\n",
       "            \"color\": \"rgba(0, 0, 0, 1.000)\",\n",
       "            \"family\": \"sans-serif\",\n",
       "            \"size\": 11\n",
       "        },\n",
       "        \"zerolinecolor\": \"rgba(0, 0, 0, 1.000)\",\n",
       "        \"anchor\": \"y\"\n",
       "    },\n",
       "    \"paper_bgcolor\": \"rgba(255, 255, 255, 1.000)\",\n",
       "    \"annotations\": [],\n",
       "    \"height\": 400,\n",
       "    \"margin\": {\n",
       "        \"l\": 0,\n",
       "        \"b\": 20,\n",
       "        \"r\": 0,\n",
       "        \"t\": 20\n",
       "    },\n",
       "    \"plot_bgcolor\": \"rgba(255, 255, 255, 1.000)\",\n",
       "    \"yaxis\": {\n",
       "        \"showticklabels\": true,\n",
       "        \"gridwidth\": 0.5,\n",
       "        \"tickvals\": [\n",
       "            0.0,\n",
       "            2.0,\n",
       "            4.0,\n",
       "            6.0,\n",
       "            8.0\n",
       "        ],\n",
       "        \"visible\": true,\n",
       "        \"ticks\": \"inside\",\n",
       "        \"range\": [\n",
       "            -0.27,\n",
       "            9.27\n",
       "        ],\n",
       "        \"domain\": [\n",
       "            0.03762029746281716,\n",
       "            0.9901574803149606\n",
       "        ],\n",
       "        \"tickmode\": \"array\",\n",
       "        \"linecolor\": \"rgba(0, 0, 0, 1.000)\",\n",
       "        \"showgrid\": true,\n",
       "        \"title\": \"\",\n",
       "        \"mirror\": false,\n",
       "        \"tickangle\": 0,\n",
       "        \"showline\": true,\n",
       "        \"gridcolor\": \"rgba(0, 0, 0, 0.100)\",\n",
       "        \"titlefont\": {\n",
       "            \"color\": \"rgba(0, 0, 0, 1.000)\",\n",
       "            \"family\": \"sans-serif\",\n",
       "            \"size\": 15\n",
       "        },\n",
       "        \"tickcolor\": \"rgb(0, 0, 0)\",\n",
       "        \"ticktext\": [\n",
       "            \"0\",\n",
       "            \"2\",\n",
       "            \"4\",\n",
       "            \"6\",\n",
       "            \"8\"\n",
       "        ],\n",
       "        \"zeroline\": false,\n",
       "        \"type\": \"-\",\n",
       "        \"tickfont\": {\n",
       "            \"color\": \"rgba(0, 0, 0, 1.000)\",\n",
       "            \"family\": \"sans-serif\",\n",
       "            \"size\": 11\n",
       "        },\n",
       "        \"zerolinecolor\": \"rgba(0, 0, 0, 1.000)\",\n",
       "        \"anchor\": \"x\"\n",
       "    },\n",
       "    \"legend\": {\n",
       "        \"yanchor\": \"auto\",\n",
       "        \"xanchor\": \"auto\",\n",
       "        \"bordercolor\": \"rgba(0, 0, 0, 1.000)\",\n",
       "        \"bgcolor\": \"rgba(255, 255, 255, 1.000)\",\n",
       "        \"font\": {\n",
       "            \"color\": \"rgba(0, 0, 0, 1.000)\",\n",
       "            \"family\": \"sans-serif\",\n",
       "            \"size\": 11\n",
       "        },\n",
       "        \"tracegroupgap\": 0,\n",
       "        \"y\": 1.0,\n",
       "        \"borderwidth\": 1,\n",
       "        \"traceorder\": \"normal\",\n",
       "        \"x\": 1.0\n",
       "    },\n",
       "    \"width\": 600\n",
       "}\n",
       ");\n",
       "    </script>\n",
       "\n",
       "    </body>\n",
       "</html>\n"
      ]
     },
     "execution_count": 162,
     "metadata": {},
     "output_type": "execute_result"
    }
   ],
   "source": [
    "plot(x, y, label=\"line\")\n",
    "scatter!(x, y, label=\"points\") # We use scatter! to mutate the existing plot"
   ]
  },
  {
   "cell_type": "markdown",
   "metadata": {},
   "source": [
    "## Fancier Example"
   ]
  },
  {
   "cell_type": "code",
   "execution_count": 163,
   "metadata": {},
   "outputs": [
    {
     "data": {
      "text/plain": [
       "6-element Array{Int64,1}:\n",
       " 45000\n",
       " 20000\n",
       " 15000\n",
       "  5000\n",
       "   400\n",
       "    17"
      ]
     },
     "execution_count": 163,
     "metadata": {},
     "output_type": "execute_result"
    }
   ],
   "source": [
    "globaltemperatures = [14.4, 14.5, 14.8, 15.2, 15.5, 15.8]\n",
    "numpirates = [45000, 20000, 15000, 5000, 400, 17]"
   ]
  },
  {
   "cell_type": "code",
   "execution_count": 168,
   "metadata": {},
   "outputs": [
    {
     "data": {
      "application/vnd.plotly.v1+json": {
       "data": [
        {
         "colorbar": {
          "title": ""
         },
         "legendgroup": "y1",
         "line": {
          "color": "rgba(0, 154, 250, 1.000)",
          "dash": "solid",
          "shape": "linear",
          "width": 1
         },
         "mode": "lines",
         "name": "y1",
         "showlegend": true,
         "type": "scatter",
         "x": [
          45000,
          20000,
          15000,
          5000,
          400,
          17
         ],
         "xaxis": "x",
         "y": [
          14.4,
          14.5,
          14.8,
          15.2,
          15.5,
          15.8
         ],
         "yaxis": "y",
         "zmax": null,
         "zmin": null
        },
        {
         "colorbar": {
          "title": ""
         },
         "legendgroup": "y2",
         "marker": {
          "color": "rgba(227, 111, 71, 1.000)",
          "line": {
           "color": "rgba(0, 0, 0, 1.000)",
           "width": 1
          },
          "size": 8,
          "symbol": "circle"
         },
         "mode": "markers",
         "name": "y2",
         "showlegend": true,
         "type": "scatter",
         "x": [
          45000,
          20000,
          15000,
          5000,
          400,
          17
         ],
         "xaxis": "x",
         "y": [
          14.4,
          14.5,
          14.8,
          15.2,
          15.5,
          15.8
         ],
         "yaxis": "y",
         "zmax": null,
         "zmin": null
        }
       ],
       "layout": {
        "annotations": [
         {
          "font": {
           "color": "rgba(0, 0, 0, 1.000)",
           "family": "sans-serif",
           "size": 20
          },
          "rotation": 0,
          "showarrow": false,
          "text": "Influence of pirate population on global temperature",
          "x": 0.5497685185185185,
          "xanchor": "center",
          "xref": "paper",
          "y": 1,
          "yanchor": "top",
          "yref": "paper"
         }
        ],
        "height": 400,
        "margin": {
         "b": 20,
         "l": 0,
         "r": 0,
         "t": 20
        },
        "paper_bgcolor": "rgba(255, 255, 255, 1.000)",
        "plot_bgcolor": "rgba(255, 255, 255, 1.000)",
        "showlegend": false,
        "width": 600,
        "xaxis": {
         "anchor": "y",
         "domain": [
          0.10609871682706327,
          0.9934383202099737
         ],
         "gridcolor": "rgba(0, 0, 0, 0.100)",
         "gridwidth": 0.5,
         "linecolor": "rgba(0, 0, 0, 1.000)",
         "mirror": false,
         "range": [
          46349.49,
          -1332.49
         ],
         "showgrid": true,
         "showline": true,
         "showticklabels": true,
         "tickangle": 0,
         "tickcolor": "rgb(0, 0, 0)",
         "tickfont": {
          "color": "rgba(0, 0, 0, 1.000)",
          "family": "sans-serif",
          "size": 11
         },
         "tickmode": "array",
         "ticks": "inside",
         "ticktext": [
          "0",
          "1×10⁴",
          "2×10⁴",
          "3×10⁴",
          "4×10⁴"
         ],
         "tickvals": [
          0,
          10000,
          20000,
          30000,
          40000
         ],
         "title": "Number of pirates [approximate]",
         "titlefont": {
          "color": "rgba(0, 0, 0, 1.000)",
          "family": "sans-serif",
          "size": 15
         },
         "type": "-",
         "visible": true,
         "zeroline": false,
         "zerolinecolor": "rgba(0, 0, 0, 1.000)"
        },
        "yaxis": {
         "anchor": "x",
         "domain": [
          0.07581474190726165,
          0.9415463692038496
         ],
         "gridcolor": "rgba(0, 0, 0, 0.100)",
         "gridwidth": 0.5,
         "linecolor": "rgba(0, 0, 0, 1.000)",
         "mirror": false,
         "range": [
          14.358,
          15.842
         ],
         "showgrid": true,
         "showline": true,
         "showticklabels": true,
         "tickangle": 0,
         "tickcolor": "rgb(0, 0, 0)",
         "tickfont": {
          "color": "rgba(0, 0, 0, 1.000)",
          "family": "sans-serif",
          "size": 11
         },
         "tickmode": "array",
         "ticks": "inside",
         "ticktext": [
          "14.50",
          "14.75",
          "15.00",
          "15.25",
          "15.50",
          "15.75"
         ],
         "tickvals": [
          14.5,
          14.75,
          15,
          15.25,
          15.5,
          15.75
         ],
         "title": "Global Temperature (*C)",
         "titlefont": {
          "color": "rgba(0, 0, 0, 1.000)",
          "family": "sans-serif",
          "size": 15
         },
         "type": "-",
         "visible": true,
         "zeroline": false,
         "zerolinecolor": "rgba(0, 0, 0, 1.000)"
        }
       }
      },
      "text/html": [
       "<!DOCTYPE html>\n",
       "<html>\n",
       "    <head>\n",
       "        <title>Plots.jl</title>\n",
       "        <meta http-equiv=\"content-type\" content=\"text/html; charset=UTF-8\">\n",
       "        <script src=\"https://cdn.plot.ly/plotly-1.54.2.min.js\"></script>\n",
       "    </head>\n",
       "    <body>\n",
       "            <div id=\"e03b3619-d675-4179-860b-da5390ae68ed\" style=\"width:600px;height:400px;\"></div>\n",
       "    <script>\n",
       "    PLOT = document.getElementById('e03b3619-d675-4179-860b-da5390ae68ed');\n",
       "    Plotly.plot(PLOT, [\n",
       "    {\n",
       "        \"xaxis\": \"x\",\n",
       "        \"colorbar\": {\n",
       "            \"title\": \"\"\n",
       "        },\n",
       "        \"yaxis\": \"y\",\n",
       "        \"x\": [\n",
       "            45000.0,\n",
       "            20000.0,\n",
       "            15000.0,\n",
       "            5000.0,\n",
       "            400.0,\n",
       "            17.0\n",
       "        ],\n",
       "        \"showlegend\": true,\n",
       "        \"mode\": \"lines\",\n",
       "        \"name\": \"y1\",\n",
       "        \"zmin\": null,\n",
       "        \"legendgroup\": \"y1\",\n",
       "        \"zmax\": null,\n",
       "        \"line\": {\n",
       "            \"color\": \"rgba(0, 154, 250, 1.000)\",\n",
       "            \"shape\": \"linear\",\n",
       "            \"dash\": \"solid\",\n",
       "            \"width\": 1\n",
       "        },\n",
       "        \"y\": [\n",
       "            14.4,\n",
       "            14.5,\n",
       "            14.8,\n",
       "            15.2,\n",
       "            15.5,\n",
       "            15.8\n",
       "        ],\n",
       "        \"type\": \"scatter\"\n",
       "    },\n",
       "    {\n",
       "        \"xaxis\": \"x\",\n",
       "        \"colorbar\": {\n",
       "            \"title\": \"\"\n",
       "        },\n",
       "        \"yaxis\": \"y\",\n",
       "        \"x\": [\n",
       "            45000.0,\n",
       "            20000.0,\n",
       "            15000.0,\n",
       "            5000.0,\n",
       "            400.0,\n",
       "            17.0\n",
       "        ],\n",
       "        \"showlegend\": true,\n",
       "        \"mode\": \"markers\",\n",
       "        \"name\": \"y2\",\n",
       "        \"zmin\": null,\n",
       "        \"legendgroup\": \"y2\",\n",
       "        \"marker\": {\n",
       "            \"symbol\": \"circle\",\n",
       "            \"color\": \"rgba(227, 111, 71, 1.000)\",\n",
       "            \"line\": {\n",
       "                \"color\": \"rgba(0, 0, 0, 1.000)\",\n",
       "                \"width\": 1\n",
       "            },\n",
       "            \"size\": 8\n",
       "        },\n",
       "        \"zmax\": null,\n",
       "        \"y\": [\n",
       "            14.4,\n",
       "            14.5,\n",
       "            14.8,\n",
       "            15.2,\n",
       "            15.5,\n",
       "            15.8\n",
       "        ],\n",
       "        \"type\": \"scatter\"\n",
       "    }\n",
       "]\n",
       ", {\n",
       "    \"showlegend\": false,\n",
       "    \"xaxis\": {\n",
       "        \"showticklabels\": true,\n",
       "        \"gridwidth\": 0.5,\n",
       "        \"tickvals\": [\n",
       "            0.0,\n",
       "            10000.0,\n",
       "            20000.0,\n",
       "            30000.0,\n",
       "            40000.0\n",
       "        ],\n",
       "        \"visible\": true,\n",
       "        \"ticks\": \"inside\",\n",
       "        \"range\": [\n",
       "            46349.49,\n",
       "            -1332.49\n",
       "        ],\n",
       "        \"domain\": [\n",
       "            0.10609871682706327,\n",
       "            0.9934383202099737\n",
       "        ],\n",
       "        \"tickmode\": \"array\",\n",
       "        \"linecolor\": \"rgba(0, 0, 0, 1.000)\",\n",
       "        \"showgrid\": true,\n",
       "        \"title\": \"Number of pirates [approximate]\",\n",
       "        \"mirror\": false,\n",
       "        \"tickangle\": 0,\n",
       "        \"showline\": true,\n",
       "        \"gridcolor\": \"rgba(0, 0, 0, 0.100)\",\n",
       "        \"titlefont\": {\n",
       "            \"color\": \"rgba(0, 0, 0, 1.000)\",\n",
       "            \"family\": \"sans-serif\",\n",
       "            \"size\": 15\n",
       "        },\n",
       "        \"tickcolor\": \"rgb(0, 0, 0)\",\n",
       "        \"ticktext\": [\n",
       "            \"0\",\n",
       "            \"1×10⁴\",\n",
       "            \"2×10⁴\",\n",
       "            \"3×10⁴\",\n",
       "            \"4×10⁴\"\n",
       "        ],\n",
       "        \"zeroline\": false,\n",
       "        \"type\": \"-\",\n",
       "        \"tickfont\": {\n",
       "            \"color\": \"rgba(0, 0, 0, 1.000)\",\n",
       "            \"family\": \"sans-serif\",\n",
       "            \"size\": 11\n",
       "        },\n",
       "        \"zerolinecolor\": \"rgba(0, 0, 0, 1.000)\",\n",
       "        \"anchor\": \"y\"\n",
       "    },\n",
       "    \"paper_bgcolor\": \"rgba(255, 255, 255, 1.000)\",\n",
       "    \"annotations\": [\n",
       "        {\n",
       "            \"yanchor\": \"top\",\n",
       "            \"xanchor\": \"center\",\n",
       "            \"rotation\": -0.0,\n",
       "            \"y\": 1.0,\n",
       "            \"font\": {\n",
       "                \"color\": \"rgba(0, 0, 0, 1.000)\",\n",
       "                \"family\": \"sans-serif\",\n",
       "                \"size\": 20\n",
       "            },\n",
       "            \"yref\": \"paper\",\n",
       "            \"showarrow\": false,\n",
       "            \"text\": \"Influence of pirate population on global temperature\",\n",
       "            \"xref\": \"paper\",\n",
       "            \"x\": 0.5497685185185185\n",
       "        }\n",
       "    ],\n",
       "    \"height\": 400,\n",
       "    \"margin\": {\n",
       "        \"l\": 0,\n",
       "        \"b\": 20,\n",
       "        \"r\": 0,\n",
       "        \"t\": 20\n",
       "    },\n",
       "    \"plot_bgcolor\": \"rgba(255, 255, 255, 1.000)\",\n",
       "    \"yaxis\": {\n",
       "        \"showticklabels\": true,\n",
       "        \"gridwidth\": 0.5,\n",
       "        \"tickvals\": [\n",
       "            14.5,\n",
       "            14.75,\n",
       "            15.0,\n",
       "            15.25,\n",
       "            15.5,\n",
       "            15.75\n",
       "        ],\n",
       "        \"visible\": true,\n",
       "        \"ticks\": \"inside\",\n",
       "        \"range\": [\n",
       "            14.358,\n",
       "            15.842\n",
       "        ],\n",
       "        \"domain\": [\n",
       "            0.07581474190726165,\n",
       "            0.9415463692038496\n",
       "        ],\n",
       "        \"tickmode\": \"array\",\n",
       "        \"linecolor\": \"rgba(0, 0, 0, 1.000)\",\n",
       "        \"showgrid\": true,\n",
       "        \"title\": \"Global Temperature (*C)\",\n",
       "        \"mirror\": false,\n",
       "        \"tickangle\": 0,\n",
       "        \"showline\": true,\n",
       "        \"gridcolor\": \"rgba(0, 0, 0, 0.100)\",\n",
       "        \"titlefont\": {\n",
       "            \"color\": \"rgba(0, 0, 0, 1.000)\",\n",
       "            \"family\": \"sans-serif\",\n",
       "            \"size\": 15\n",
       "        },\n",
       "        \"tickcolor\": \"rgb(0, 0, 0)\",\n",
       "        \"ticktext\": [\n",
       "            \"14.50\",\n",
       "            \"14.75\",\n",
       "            \"15.00\",\n",
       "            \"15.25\",\n",
       "            \"15.50\",\n",
       "            \"15.75\"\n",
       "        ],\n",
       "        \"zeroline\": false,\n",
       "        \"type\": \"-\",\n",
       "        \"tickfont\": {\n",
       "            \"color\": \"rgba(0, 0, 0, 1.000)\",\n",
       "            \"family\": \"sans-serif\",\n",
       "            \"size\": 11\n",
       "        },\n",
       "        \"zerolinecolor\": \"rgba(0, 0, 0, 1.000)\",\n",
       "        \"anchor\": \"x\"\n",
       "    },\n",
       "    \"width\": 600\n",
       "}\n",
       ");\n",
       "    </script>\n",
       "\n",
       "    </body>\n",
       "</html>\n"
      ]
     },
     "execution_count": 168,
     "metadata": {},
     "output_type": "execute_result"
    }
   ],
   "source": [
    "plot(numpirates, globaltemperatures, legend=false)\n",
    "scatter!(numpirates, globaltemperatures, legend=false)\n",
    "\n",
    "# Reverse x axis to see how temperature changes with time\n",
    "xflip!()\n",
    "\n",
    "# Add titles and labels\n",
    "xlabel!(\"Number of pirates [approximate]\")\n",
    "ylabel!(\"Global Temperature (*C)\")\n",
    "title!(\"Influence of pirate population on global temperature\")"
   ]
  },
  {
   "cell_type": "markdown",
   "metadata": {},
   "source": [
    "## Subplots\n",
    "\n",
    "To create subplots, we just name each of the infividual subplots and then wrap those names, along with a layout specification, in another `plot` call"
   ]
  },
  {
   "cell_type": "code",
   "execution_count": 173,
   "metadata": {},
   "outputs": [
    {
     "data": {
      "application/vnd.plotly.v1+json": {
       "data": [
        {
         "colorbar": {
          "title": ""
         },
         "legendgroup": "y1",
         "line": {
          "color": "rgba(0, 154, 250, 1.000)",
          "dash": "solid",
          "shape": "linear",
          "width": 1
         },
         "mode": "lines",
         "name": "y1",
         "showlegend": true,
         "type": "scatter",
         "x": [
          -3,
          -2.9,
          -2.8,
          -2.7,
          -2.6,
          -2.5,
          -2.4,
          -2.3,
          -2.2,
          -2.1,
          -2,
          -1.9,
          -1.8,
          -1.7,
          -1.6,
          -1.5,
          -1.4,
          -1.3,
          -1.2,
          -1.1,
          -1,
          -0.9,
          -0.8,
          -0.7,
          -0.6,
          -0.5,
          -0.4,
          -0.3,
          -0.2,
          -0.1,
          0,
          0.1,
          0.2,
          0.3,
          0.4,
          0.5,
          0.6,
          0.7,
          0.8,
          0.9,
          1,
          1.1,
          1.2,
          1.3,
          1.4,
          1.5,
          1.6,
          1.7,
          1.8,
          1.9,
          2,
          2.1,
          2.2,
          2.3,
          2.4,
          2.5,
          2.6,
          2.7,
          2.8,
          2.9,
          3
         ],
         "xaxis": "x1",
         "y": [
          -3,
          -2.9,
          -2.8,
          -2.7,
          -2.6,
          -2.5,
          -2.4,
          -2.3,
          -2.2,
          -2.1,
          -2,
          -1.9,
          -1.8,
          -1.7,
          -1.6,
          -1.5,
          -1.4,
          -1.3,
          -1.2,
          -1.1,
          -1,
          -0.9,
          -0.8,
          -0.7,
          -0.6,
          -0.5,
          -0.4,
          -0.3,
          -0.2,
          -0.1,
          0,
          0.1,
          0.2,
          0.3,
          0.4,
          0.5,
          0.6,
          0.7,
          0.8,
          0.9,
          1,
          1.1,
          1.2,
          1.3,
          1.4,
          1.5,
          1.6,
          1.7,
          1.8,
          1.9,
          2,
          2.1,
          2.2,
          2.3,
          2.4,
          2.5,
          2.6,
          2.7,
          2.8,
          2.9,
          3
         ],
         "yaxis": "y1",
         "zmax": null,
         "zmin": null
        },
        {
         "colorbar": {
          "title": ""
         },
         "legendgroup": "y1",
         "line": {
          "color": "rgba(0, 154, 250, 1.000)",
          "dash": "solid",
          "shape": "linear",
          "width": 1
         },
         "mode": "lines",
         "name": "y1",
         "showlegend": true,
         "type": "scatter",
         "x": [
          -3,
          -2.9,
          -2.8,
          -2.7,
          -2.6,
          -2.5,
          -2.4,
          -2.3,
          -2.2,
          -2.1,
          -2,
          -1.9,
          -1.8,
          -1.7,
          -1.6,
          -1.5,
          -1.4,
          -1.3,
          -1.2,
          -1.1,
          -1,
          -0.9,
          -0.8,
          -0.7,
          -0.6,
          -0.5,
          -0.4,
          -0.3,
          -0.2,
          -0.1,
          0,
          0.1,
          0.2,
          0.3,
          0.4,
          0.5,
          0.6,
          0.7,
          0.8,
          0.9,
          1,
          1.1,
          1.2,
          1.3,
          1.4,
          1.5,
          1.6,
          1.7,
          1.8,
          1.9,
          2,
          2.1,
          2.2,
          2.3,
          2.4,
          2.5,
          2.6,
          2.7,
          2.8,
          2.9,
          3
         ],
         "xaxis": "x2",
         "y": [
          9,
          8.41,
          7.839999999999999,
          7.290000000000001,
          6.760000000000001,
          6.25,
          5.76,
          5.289999999999999,
          4.840000000000001,
          4.41,
          4,
          3.61,
          3.24,
          2.8899999999999997,
          2.5600000000000005,
          2.25,
          1.9599999999999997,
          1.6900000000000002,
          1.44,
          1.2100000000000002,
          1,
          0.81,
          0.6400000000000001,
          0.48999999999999994,
          0.36,
          0.25,
          0.16000000000000003,
          0.09,
          0.04000000000000001,
          0.010000000000000002,
          0,
          0.010000000000000002,
          0.04000000000000001,
          0.09,
          0.16000000000000003,
          0.25,
          0.36,
          0.48999999999999994,
          0.6400000000000001,
          0.81,
          1,
          1.2100000000000002,
          1.44,
          1.6900000000000002,
          1.9599999999999997,
          2.25,
          2.5600000000000005,
          2.8899999999999997,
          3.24,
          3.61,
          4,
          4.41,
          4.840000000000001,
          5.289999999999999,
          5.76,
          6.25,
          6.760000000000001,
          7.290000000000001,
          7.839999999999999,
          8.41,
          9
         ],
         "yaxis": "y2",
         "zmax": null,
         "zmin": null
        },
        {
         "colorbar": {
          "title": ""
         },
         "legendgroup": "y1",
         "line": {
          "color": "rgba(0, 154, 250, 1.000)",
          "dash": "solid",
          "shape": "linear",
          "width": 1
         },
         "mode": "lines",
         "name": "y1",
         "showlegend": true,
         "type": "scatter",
         "x": [
          -3,
          -2.9,
          -2.8,
          -2.7,
          -2.6,
          -2.5,
          -2.4,
          -2.3,
          -2.2,
          -2.1,
          -2,
          -1.9,
          -1.8,
          -1.7,
          -1.6,
          -1.5,
          -1.4,
          -1.3,
          -1.2,
          -1.1,
          -1,
          -0.9,
          -0.8,
          -0.7,
          -0.6,
          -0.5,
          -0.4,
          -0.3,
          -0.2,
          -0.1,
          0,
          0.1,
          0.2,
          0.3,
          0.4,
          0.5,
          0.6,
          0.7,
          0.8,
          0.9,
          1,
          1.1,
          1.2,
          1.3,
          1.4,
          1.5,
          1.6,
          1.7,
          1.8,
          1.9,
          2,
          2.1,
          2.2,
          2.3,
          2.4,
          2.5,
          2.6,
          2.7,
          2.8,
          2.9,
          3
         ],
         "xaxis": "x3",
         "y": [
          -27,
          -24.389,
          -21.951999999999995,
          -19.683000000000003,
          -17.576000000000004,
          -15.625,
          -13.824,
          -12.166999999999996,
          -10.648000000000003,
          -9.261000000000001,
          -8,
          -6.858999999999999,
          -5.832000000000001,
          -4.912999999999999,
          -4.096000000000001,
          -3.375,
          -2.7439999999999993,
          -2.1970000000000005,
          -1.728,
          -1.3310000000000004,
          -1,
          -0.7290000000000001,
          -0.5120000000000001,
          -0.3429999999999999,
          -0.216,
          -0.125,
          -0.06400000000000002,
          -0.027,
          -0.008000000000000002,
          -0.0010000000000000002,
          0,
          0.0010000000000000002,
          0.008000000000000002,
          0.027,
          0.06400000000000002,
          0.125,
          0.216,
          0.3429999999999999,
          0.5120000000000001,
          0.7290000000000001,
          1,
          1.3310000000000004,
          1.728,
          2.1970000000000005,
          2.7439999999999993,
          3.375,
          4.096000000000001,
          4.912999999999999,
          5.832000000000001,
          6.858999999999999,
          8,
          9.261000000000001,
          10.648000000000003,
          12.166999999999996,
          13.824,
          15.625,
          17.576000000000004,
          19.683000000000003,
          21.951999999999995,
          24.389,
          27
         ],
         "yaxis": "y3",
         "zmax": null,
         "zmin": null
        },
        {
         "colorbar": {
          "title": ""
         },
         "legendgroup": "y1",
         "line": {
          "color": "rgba(0, 154, 250, 1.000)",
          "dash": "solid",
          "shape": "linear",
          "width": 1
         },
         "mode": "lines",
         "name": "y1",
         "showlegend": true,
         "type": "scatter",
         "x": [
          -3,
          -2.9,
          -2.8,
          -2.7,
          -2.6,
          -2.5,
          -2.4,
          -2.3,
          -2.2,
          -2.1,
          -2,
          -1.9,
          -1.8,
          -1.7,
          -1.6,
          -1.5,
          -1.4,
          -1.3,
          -1.2,
          -1.1,
          -1,
          -0.9,
          -0.8,
          -0.7,
          -0.6,
          -0.5,
          -0.4,
          -0.3,
          -0.2,
          -0.1,
          0,
          0.1,
          0.2,
          0.3,
          0.4,
          0.5,
          0.6,
          0.7,
          0.8,
          0.9,
          1,
          1.1,
          1.2,
          1.3,
          1.4,
          1.5,
          1.6,
          1.7,
          1.8,
          1.9,
          2,
          2.1,
          2.2,
          2.3,
          2.4,
          2.5,
          2.6,
          2.7,
          2.8,
          2.9,
          3
         ],
         "xaxis": "x4",
         "y": [
          81,
          70.7281,
          61.46559999999999,
          53.144100000000016,
          45.69760000000001,
          39.0625,
          33.1776,
          27.98409999999999,
          23.425600000000006,
          19.448100000000004,
          16,
          13.032099999999998,
          10.4976,
          8.352099999999998,
          6.553600000000001,
          5.0625,
          3.8415999999999992,
          2.8561000000000005,
          2.0736,
          1.4641000000000004,
          1,
          0.6561,
          0.4096000000000001,
          0.24009999999999995,
          0.1296,
          0.0625,
          0.025600000000000005,
          0.0081,
          0.0016000000000000003,
          0.00010000000000000002,
          0,
          0.00010000000000000002,
          0.0016000000000000003,
          0.0081,
          0.025600000000000005,
          0.0625,
          0.1296,
          0.24009999999999995,
          0.4096000000000001,
          0.6561,
          1,
          1.4641000000000004,
          2.0736,
          2.8561000000000005,
          3.8415999999999992,
          5.0625,
          6.553600000000001,
          8.352099999999998,
          10.4976,
          13.032099999999998,
          16,
          19.448100000000004,
          23.425600000000006,
          27.98409999999999,
          33.1776,
          39.0625,
          45.69760000000001,
          53.144100000000016,
          61.46559999999999,
          70.7281,
          81
         ],
         "yaxis": "y4",
         "zmax": null,
         "zmin": null
        }
       ],
       "layout": {
        "annotations": [],
        "height": 400,
        "margin": {
         "b": 20,
         "l": 0,
         "r": 0,
         "t": 20
        },
        "paper_bgcolor": "rgba(255, 255, 255, 1.000)",
        "plot_bgcolor": "rgba(255, 255, 255, 1.000)",
        "showlegend": false,
        "width": 600,
        "xaxis1": {
         "anchor": "y1",
         "domain": [
          0.05100612423447069,
          0.500845727617381
         ],
         "gridcolor": "rgba(0, 0, 0, 0.100)",
         "gridwidth": 0.5,
         "linecolor": "rgba(0, 0, 0, 1.000)",
         "mirror": false,
         "range": [
          -3.18,
          3.18
         ],
         "showgrid": true,
         "showline": true,
         "showticklabels": true,
         "tickangle": 0,
         "tickcolor": "rgb(0, 0, 0)",
         "tickfont": {
          "color": "rgba(0, 0, 0, 1.000)",
          "family": "sans-serif",
          "size": 11
         },
         "tickmode": "array",
         "ticks": "inside",
         "ticktext": [
          "-3",
          "-2",
          "-1",
          "0",
          "1",
          "2",
          "3"
         ],
         "tickvals": [
          -3,
          -2,
          -1,
          0,
          1,
          2,
          3
         ],
         "title": "",
         "titlefont": {
          "color": "rgba(0, 0, 0, 1.000)",
          "family": "sans-serif",
          "size": 15
         },
         "type": "-",
         "visible": true,
         "zeroline": false,
         "zerolinecolor": "rgba(0, 0, 0, 1.000)"
        },
        "xaxis2": {
         "anchor": "y2",
         "domain": [
          0.5435987168270632,
          0.9934383202099737
         ],
         "gridcolor": "rgba(0, 0, 0, 0.100)",
         "gridwidth": 0.5,
         "linecolor": "rgba(0, 0, 0, 1.000)",
         "mirror": false,
         "range": [
          -3.18,
          3.18
         ],
         "showgrid": true,
         "showline": true,
         "showticklabels": true,
         "tickangle": 0,
         "tickcolor": "rgb(0, 0, 0)",
         "tickfont": {
          "color": "rgba(0, 0, 0, 1.000)",
          "family": "sans-serif",
          "size": 11
         },
         "tickmode": "array",
         "ticks": "inside",
         "ticktext": [
          "-3",
          "-2",
          "-1",
          "0",
          "1",
          "2",
          "3"
         ],
         "tickvals": [
          -3,
          -2,
          -1,
          0,
          1,
          2,
          3
         ],
         "title": "",
         "titlefont": {
          "color": "rgba(0, 0, 0, 1.000)",
          "family": "sans-serif",
          "size": 15
         },
         "type": "-",
         "visible": true,
         "zeroline": false,
         "zerolinecolor": "rgba(0, 0, 0, 1.000)"
        },
        "xaxis3": {
         "anchor": "y3",
         "domain": [
          0.05100612423447069,
          0.500845727617381
         ],
         "gridcolor": "rgba(0, 0, 0, 0.100)",
         "gridwidth": 0.5,
         "linecolor": "rgba(0, 0, 0, 1.000)",
         "mirror": false,
         "range": [
          -3.18,
          3.18
         ],
         "showgrid": true,
         "showline": true,
         "showticklabels": true,
         "tickangle": 0,
         "tickcolor": "rgb(0, 0, 0)",
         "tickfont": {
          "color": "rgba(0, 0, 0, 1.000)",
          "family": "sans-serif",
          "size": 11
         },
         "tickmode": "array",
         "ticks": "inside",
         "ticktext": [
          "-3",
          "-2",
          "-1",
          "0",
          "1",
          "2",
          "3"
         ],
         "tickvals": [
          -3,
          -2,
          -1,
          0,
          1,
          2,
          3
         ],
         "title": "",
         "titlefont": {
          "color": "rgba(0, 0, 0, 1.000)",
          "family": "sans-serif",
          "size": 15
         },
         "type": "-",
         "visible": true,
         "zeroline": false,
         "zerolinecolor": "rgba(0, 0, 0, 1.000)"
        },
        "xaxis4": {
         "anchor": "y4",
         "domain": [
          0.5435987168270632,
          0.9934383202099737
         ],
         "gridcolor": "rgba(0, 0, 0, 0.100)",
         "gridwidth": 0.5,
         "linecolor": "rgba(0, 0, 0, 1.000)",
         "mirror": false,
         "range": [
          -3.18,
          3.18
         ],
         "showgrid": true,
         "showline": true,
         "showticklabels": true,
         "tickangle": 0,
         "tickcolor": "rgb(0, 0, 0)",
         "tickfont": {
          "color": "rgba(0, 0, 0, 1.000)",
          "family": "sans-serif",
          "size": 11
         },
         "tickmode": "array",
         "ticks": "inside",
         "ticktext": [
          "-3",
          "-2",
          "-1",
          "0",
          "1",
          "2",
          "3"
         ],
         "tickvals": [
          -3,
          -2,
          -1,
          0,
          1,
          2,
          3
         ],
         "title": "",
         "titlefont": {
          "color": "rgba(0, 0, 0, 1.000)",
          "family": "sans-serif",
          "size": 15
         },
         "type": "-",
         "visible": true,
         "zeroline": false,
         "zerolinecolor": "rgba(0, 0, 0, 1.000)"
        },
        "yaxis1": {
         "anchor": "x1",
         "domain": [
          0.5376202974628171,
          0.9901574803149606
         ],
         "gridcolor": "rgba(0, 0, 0, 0.100)",
         "gridwidth": 0.5,
         "linecolor": "rgba(0, 0, 0, 1.000)",
         "mirror": false,
         "range": [
          -3.18,
          3.18
         ],
         "showgrid": true,
         "showline": true,
         "showticklabels": true,
         "tickangle": 0,
         "tickcolor": "rgb(0, 0, 0)",
         "tickfont": {
          "color": "rgba(0, 0, 0, 1.000)",
          "family": "sans-serif",
          "size": 11
         },
         "tickmode": "array",
         "ticks": "inside",
         "ticktext": [
          "-3",
          "-2",
          "-1",
          "0",
          "1",
          "2",
          "3"
         ],
         "tickvals": [
          -3,
          -2,
          -1,
          0,
          1,
          2,
          3
         ],
         "title": "",
         "titlefont": {
          "color": "rgba(0, 0, 0, 1.000)",
          "family": "sans-serif",
          "size": 15
         },
         "type": "-",
         "visible": true,
         "zeroline": false,
         "zerolinecolor": "rgba(0, 0, 0, 1.000)"
        },
        "yaxis2": {
         "anchor": "x2",
         "domain": [
          0.5376202974628171,
          0.9901574803149606
         ],
         "gridcolor": "rgba(0, 0, 0, 0.100)",
         "gridwidth": 0.5,
         "linecolor": "rgba(0, 0, 0, 1.000)",
         "mirror": false,
         "range": [
          -0.27,
          9.27
         ],
         "showgrid": true,
         "showline": true,
         "showticklabels": true,
         "tickangle": 0,
         "tickcolor": "rgb(0, 0, 0)",
         "tickfont": {
          "color": "rgba(0, 0, 0, 1.000)",
          "family": "sans-serif",
          "size": 11
         },
         "tickmode": "array",
         "ticks": "inside",
         "ticktext": [
          "0",
          "2",
          "4",
          "6",
          "8"
         ],
         "tickvals": [
          0,
          2,
          4,
          6,
          8
         ],
         "title": "",
         "titlefont": {
          "color": "rgba(0, 0, 0, 1.000)",
          "family": "sans-serif",
          "size": 15
         },
         "type": "-",
         "visible": true,
         "zeroline": false,
         "zerolinecolor": "rgba(0, 0, 0, 1.000)"
        },
        "yaxis3": {
         "anchor": "x3",
         "domain": [
          0.03762029746281716,
          0.4901574803149606
         ],
         "gridcolor": "rgba(0, 0, 0, 0.100)",
         "gridwidth": 0.5,
         "linecolor": "rgba(0, 0, 0, 1.000)",
         "mirror": false,
         "range": [
          -28.62,
          28.62
         ],
         "showgrid": true,
         "showline": true,
         "showticklabels": true,
         "tickangle": 0,
         "tickcolor": "rgb(0, 0, 0)",
         "tickfont": {
          "color": "rgba(0, 0, 0, 1.000)",
          "family": "sans-serif",
          "size": 11
         },
         "tickmode": "array",
         "ticks": "inside",
         "ticktext": [
          "-20",
          "-10",
          "0",
          "10",
          "20"
         ],
         "tickvals": [
          -20,
          -10,
          0,
          10,
          20
         ],
         "title": "",
         "titlefont": {
          "color": "rgba(0, 0, 0, 1.000)",
          "family": "sans-serif",
          "size": 15
         },
         "type": "-",
         "visible": true,
         "zeroline": false,
         "zerolinecolor": "rgba(0, 0, 0, 1.000)"
        },
        "yaxis4": {
         "anchor": "x4",
         "domain": [
          0.03762029746281716,
          0.4901574803149606
         ],
         "gridcolor": "rgba(0, 0, 0, 0.100)",
         "gridwidth": 0.5,
         "linecolor": "rgba(0, 0, 0, 1.000)",
         "mirror": false,
         "range": [
          -2.4299999999999997,
          83.43
         ],
         "showgrid": true,
         "showline": true,
         "showticklabels": true,
         "tickangle": 0,
         "tickcolor": "rgb(0, 0, 0)",
         "tickfont": {
          "color": "rgba(0, 0, 0, 1.000)",
          "family": "sans-serif",
          "size": 11
         },
         "tickmode": "array",
         "ticks": "inside",
         "ticktext": [
          "0",
          "20",
          "40",
          "60",
          "80"
         ],
         "tickvals": [
          0,
          20,
          40,
          60,
          80
         ],
         "title": "",
         "titlefont": {
          "color": "rgba(0, 0, 0, 1.000)",
          "family": "sans-serif",
          "size": 15
         },
         "type": "-",
         "visible": true,
         "zeroline": false,
         "zerolinecolor": "rgba(0, 0, 0, 1.000)"
        }
       }
      },
      "text/html": [
       "<!DOCTYPE html>\n",
       "<html>\n",
       "    <head>\n",
       "        <title>Plots.jl</title>\n",
       "        <meta http-equiv=\"content-type\" content=\"text/html; charset=UTF-8\">\n",
       "        <script src=\"https://cdn.plot.ly/plotly-1.54.2.min.js\"></script>\n",
       "    </head>\n",
       "    <body>\n",
       "            <div id=\"30bf268b-a96f-4ac1-b04a-f9f14fe6fd36\" style=\"width:600px;height:400px;\"></div>\n",
       "    <script>\n",
       "    PLOT = document.getElementById('30bf268b-a96f-4ac1-b04a-f9f14fe6fd36');\n",
       "    Plotly.plot(PLOT, [\n",
       "    {\n",
       "        \"xaxis\": \"x1\",\n",
       "        \"colorbar\": {\n",
       "            \"title\": \"\"\n",
       "        },\n",
       "        \"yaxis\": \"y1\",\n",
       "        \"x\": [\n",
       "            -3.0,\n",
       "            -2.9,\n",
       "            -2.8,\n",
       "            -2.7,\n",
       "            -2.6,\n",
       "            -2.5,\n",
       "            -2.4,\n",
       "            -2.3,\n",
       "            -2.2,\n",
       "            -2.1,\n",
       "            -2.0,\n",
       "            -1.9,\n",
       "            -1.8,\n",
       "            -1.7,\n",
       "            -1.6,\n",
       "            -1.5,\n",
       "            -1.4,\n",
       "            -1.3,\n",
       "            -1.2,\n",
       "            -1.1,\n",
       "            -1.0,\n",
       "            -0.9,\n",
       "            -0.8,\n",
       "            -0.7,\n",
       "            -0.6,\n",
       "            -0.5,\n",
       "            -0.4,\n",
       "            -0.3,\n",
       "            -0.2,\n",
       "            -0.1,\n",
       "            0.0,\n",
       "            0.1,\n",
       "            0.2,\n",
       "            0.3,\n",
       "            0.4,\n",
       "            0.5,\n",
       "            0.6,\n",
       "            0.7,\n",
       "            0.8,\n",
       "            0.9,\n",
       "            1.0,\n",
       "            1.1,\n",
       "            1.2,\n",
       "            1.3,\n",
       "            1.4,\n",
       "            1.5,\n",
       "            1.6,\n",
       "            1.7,\n",
       "            1.8,\n",
       "            1.9,\n",
       "            2.0,\n",
       "            2.1,\n",
       "            2.2,\n",
       "            2.3,\n",
       "            2.4,\n",
       "            2.5,\n",
       "            2.6,\n",
       "            2.7,\n",
       "            2.8,\n",
       "            2.9,\n",
       "            3.0\n",
       "        ],\n",
       "        \"showlegend\": true,\n",
       "        \"mode\": \"lines\",\n",
       "        \"name\": \"y1\",\n",
       "        \"zmin\": null,\n",
       "        \"legendgroup\": \"y1\",\n",
       "        \"zmax\": null,\n",
       "        \"line\": {\n",
       "            \"color\": \"rgba(0, 154, 250, 1.000)\",\n",
       "            \"shape\": \"linear\",\n",
       "            \"dash\": \"solid\",\n",
       "            \"width\": 1\n",
       "        },\n",
       "        \"y\": [\n",
       "            -3.0,\n",
       "            -2.9,\n",
       "            -2.8,\n",
       "            -2.7,\n",
       "            -2.6,\n",
       "            -2.5,\n",
       "            -2.4,\n",
       "            -2.3,\n",
       "            -2.2,\n",
       "            -2.1,\n",
       "            -2.0,\n",
       "            -1.9,\n",
       "            -1.8,\n",
       "            -1.7,\n",
       "            -1.6,\n",
       "            -1.5,\n",
       "            -1.4,\n",
       "            -1.3,\n",
       "            -1.2,\n",
       "            -1.1,\n",
       "            -1.0,\n",
       "            -0.9,\n",
       "            -0.8,\n",
       "            -0.7,\n",
       "            -0.6,\n",
       "            -0.5,\n",
       "            -0.4,\n",
       "            -0.3,\n",
       "            -0.2,\n",
       "            -0.1,\n",
       "            0.0,\n",
       "            0.1,\n",
       "            0.2,\n",
       "            0.3,\n",
       "            0.4,\n",
       "            0.5,\n",
       "            0.6,\n",
       "            0.7,\n",
       "            0.8,\n",
       "            0.9,\n",
       "            1.0,\n",
       "            1.1,\n",
       "            1.2,\n",
       "            1.3,\n",
       "            1.4,\n",
       "            1.5,\n",
       "            1.6,\n",
       "            1.7,\n",
       "            1.8,\n",
       "            1.9,\n",
       "            2.0,\n",
       "            2.1,\n",
       "            2.2,\n",
       "            2.3,\n",
       "            2.4,\n",
       "            2.5,\n",
       "            2.6,\n",
       "            2.7,\n",
       "            2.8,\n",
       "            2.9,\n",
       "            3.0\n",
       "        ],\n",
       "        \"type\": \"scatter\"\n",
       "    },\n",
       "    {\n",
       "        \"xaxis\": \"x2\",\n",
       "        \"colorbar\": {\n",
       "            \"title\": \"\"\n",
       "        },\n",
       "        \"yaxis\": \"y2\",\n",
       "        \"x\": [\n",
       "            -3.0,\n",
       "            -2.9,\n",
       "            -2.8,\n",
       "            -2.7,\n",
       "            -2.6,\n",
       "            -2.5,\n",
       "            -2.4,\n",
       "            -2.3,\n",
       "            -2.2,\n",
       "            -2.1,\n",
       "            -2.0,\n",
       "            -1.9,\n",
       "            -1.8,\n",
       "            -1.7,\n",
       "            -1.6,\n",
       "            -1.5,\n",
       "            -1.4,\n",
       "            -1.3,\n",
       "            -1.2,\n",
       "            -1.1,\n",
       "            -1.0,\n",
       "            -0.9,\n",
       "            -0.8,\n",
       "            -0.7,\n",
       "            -0.6,\n",
       "            -0.5,\n",
       "            -0.4,\n",
       "            -0.3,\n",
       "            -0.2,\n",
       "            -0.1,\n",
       "            0.0,\n",
       "            0.1,\n",
       "            0.2,\n",
       "            0.3,\n",
       "            0.4,\n",
       "            0.5,\n",
       "            0.6,\n",
       "            0.7,\n",
       "            0.8,\n",
       "            0.9,\n",
       "            1.0,\n",
       "            1.1,\n",
       "            1.2,\n",
       "            1.3,\n",
       "            1.4,\n",
       "            1.5,\n",
       "            1.6,\n",
       "            1.7,\n",
       "            1.8,\n",
       "            1.9,\n",
       "            2.0,\n",
       "            2.1,\n",
       "            2.2,\n",
       "            2.3,\n",
       "            2.4,\n",
       "            2.5,\n",
       "            2.6,\n",
       "            2.7,\n",
       "            2.8,\n",
       "            2.9,\n",
       "            3.0\n",
       "        ],\n",
       "        \"showlegend\": true,\n",
       "        \"mode\": \"lines\",\n",
       "        \"name\": \"y1\",\n",
       "        \"zmin\": null,\n",
       "        \"legendgroup\": \"y1\",\n",
       "        \"zmax\": null,\n",
       "        \"line\": {\n",
       "            \"color\": \"rgba(0, 154, 250, 1.000)\",\n",
       "            \"shape\": \"linear\",\n",
       "            \"dash\": \"solid\",\n",
       "            \"width\": 1\n",
       "        },\n",
       "        \"y\": [\n",
       "            9.0,\n",
       "            8.41,\n",
       "            7.839999999999999,\n",
       "            7.290000000000001,\n",
       "            6.760000000000001,\n",
       "            6.25,\n",
       "            5.76,\n",
       "            5.289999999999999,\n",
       "            4.840000000000001,\n",
       "            4.41,\n",
       "            4.0,\n",
       "            3.61,\n",
       "            3.24,\n",
       "            2.8899999999999997,\n",
       "            2.5600000000000005,\n",
       "            2.25,\n",
       "            1.9599999999999997,\n",
       "            1.6900000000000002,\n",
       "            1.44,\n",
       "            1.2100000000000002,\n",
       "            1.0,\n",
       "            0.81,\n",
       "            0.6400000000000001,\n",
       "            0.48999999999999994,\n",
       "            0.36,\n",
       "            0.25,\n",
       "            0.16000000000000003,\n",
       "            0.09,\n",
       "            0.04000000000000001,\n",
       "            0.010000000000000002,\n",
       "            0.0,\n",
       "            0.010000000000000002,\n",
       "            0.04000000000000001,\n",
       "            0.09,\n",
       "            0.16000000000000003,\n",
       "            0.25,\n",
       "            0.36,\n",
       "            0.48999999999999994,\n",
       "            0.6400000000000001,\n",
       "            0.81,\n",
       "            1.0,\n",
       "            1.2100000000000002,\n",
       "            1.44,\n",
       "            1.6900000000000002,\n",
       "            1.9599999999999997,\n",
       "            2.25,\n",
       "            2.5600000000000005,\n",
       "            2.8899999999999997,\n",
       "            3.24,\n",
       "            3.61,\n",
       "            4.0,\n",
       "            4.41,\n",
       "            4.840000000000001,\n",
       "            5.289999999999999,\n",
       "            5.76,\n",
       "            6.25,\n",
       "            6.760000000000001,\n",
       "            7.290000000000001,\n",
       "            7.839999999999999,\n",
       "            8.41,\n",
       "            9.0\n",
       "        ],\n",
       "        \"type\": \"scatter\"\n",
       "    },\n",
       "    {\n",
       "        \"xaxis\": \"x3\",\n",
       "        \"colorbar\": {\n",
       "            \"title\": \"\"\n",
       "        },\n",
       "        \"yaxis\": \"y3\",\n",
       "        \"x\": [\n",
       "            -3.0,\n",
       "            -2.9,\n",
       "            -2.8,\n",
       "            -2.7,\n",
       "            -2.6,\n",
       "            -2.5,\n",
       "            -2.4,\n",
       "            -2.3,\n",
       "            -2.2,\n",
       "            -2.1,\n",
       "            -2.0,\n",
       "            -1.9,\n",
       "            -1.8,\n",
       "            -1.7,\n",
       "            -1.6,\n",
       "            -1.5,\n",
       "            -1.4,\n",
       "            -1.3,\n",
       "            -1.2,\n",
       "            -1.1,\n",
       "            -1.0,\n",
       "            -0.9,\n",
       "            -0.8,\n",
       "            -0.7,\n",
       "            -0.6,\n",
       "            -0.5,\n",
       "            -0.4,\n",
       "            -0.3,\n",
       "            -0.2,\n",
       "            -0.1,\n",
       "            0.0,\n",
       "            0.1,\n",
       "            0.2,\n",
       "            0.3,\n",
       "            0.4,\n",
       "            0.5,\n",
       "            0.6,\n",
       "            0.7,\n",
       "            0.8,\n",
       "            0.9,\n",
       "            1.0,\n",
       "            1.1,\n",
       "            1.2,\n",
       "            1.3,\n",
       "            1.4,\n",
       "            1.5,\n",
       "            1.6,\n",
       "            1.7,\n",
       "            1.8,\n",
       "            1.9,\n",
       "            2.0,\n",
       "            2.1,\n",
       "            2.2,\n",
       "            2.3,\n",
       "            2.4,\n",
       "            2.5,\n",
       "            2.6,\n",
       "            2.7,\n",
       "            2.8,\n",
       "            2.9,\n",
       "            3.0\n",
       "        ],\n",
       "        \"showlegend\": true,\n",
       "        \"mode\": \"lines\",\n",
       "        \"name\": \"y1\",\n",
       "        \"zmin\": null,\n",
       "        \"legendgroup\": \"y1\",\n",
       "        \"zmax\": null,\n",
       "        \"line\": {\n",
       "            \"color\": \"rgba(0, 154, 250, 1.000)\",\n",
       "            \"shape\": \"linear\",\n",
       "            \"dash\": \"solid\",\n",
       "            \"width\": 1\n",
       "        },\n",
       "        \"y\": [\n",
       "            -27.0,\n",
       "            -24.389,\n",
       "            -21.951999999999995,\n",
       "            -19.683000000000003,\n",
       "            -17.576000000000004,\n",
       "            -15.625,\n",
       "            -13.824,\n",
       "            -12.166999999999996,\n",
       "            -10.648000000000003,\n",
       "            -9.261000000000001,\n",
       "            -8.0,\n",
       "            -6.858999999999999,\n",
       "            -5.832000000000001,\n",
       "            -4.912999999999999,\n",
       "            -4.096000000000001,\n",
       "            -3.375,\n",
       "            -2.7439999999999993,\n",
       "            -2.1970000000000005,\n",
       "            -1.728,\n",
       "            -1.3310000000000004,\n",
       "            -1.0,\n",
       "            -0.7290000000000001,\n",
       "            -0.5120000000000001,\n",
       "            -0.3429999999999999,\n",
       "            -0.216,\n",
       "            -0.125,\n",
       "            -0.06400000000000002,\n",
       "            -0.027,\n",
       "            -0.008000000000000002,\n",
       "            -0.0010000000000000002,\n",
       "            0.0,\n",
       "            0.0010000000000000002,\n",
       "            0.008000000000000002,\n",
       "            0.027,\n",
       "            0.06400000000000002,\n",
       "            0.125,\n",
       "            0.216,\n",
       "            0.3429999999999999,\n",
       "            0.5120000000000001,\n",
       "            0.7290000000000001,\n",
       "            1.0,\n",
       "            1.3310000000000004,\n",
       "            1.728,\n",
       "            2.1970000000000005,\n",
       "            2.7439999999999993,\n",
       "            3.375,\n",
       "            4.096000000000001,\n",
       "            4.912999999999999,\n",
       "            5.832000000000001,\n",
       "            6.858999999999999,\n",
       "            8.0,\n",
       "            9.261000000000001,\n",
       "            10.648000000000003,\n",
       "            12.166999999999996,\n",
       "            13.824,\n",
       "            15.625,\n",
       "            17.576000000000004,\n",
       "            19.683000000000003,\n",
       "            21.951999999999995,\n",
       "            24.389,\n",
       "            27.0\n",
       "        ],\n",
       "        \"type\": \"scatter\"\n",
       "    },\n",
       "    {\n",
       "        \"xaxis\": \"x4\",\n",
       "        \"colorbar\": {\n",
       "            \"title\": \"\"\n",
       "        },\n",
       "        \"yaxis\": \"y4\",\n",
       "        \"x\": [\n",
       "            -3.0,\n",
       "            -2.9,\n",
       "            -2.8,\n",
       "            -2.7,\n",
       "            -2.6,\n",
       "            -2.5,\n",
       "            -2.4,\n",
       "            -2.3,\n",
       "            -2.2,\n",
       "            -2.1,\n",
       "            -2.0,\n",
       "            -1.9,\n",
       "            -1.8,\n",
       "            -1.7,\n",
       "            -1.6,\n",
       "            -1.5,\n",
       "            -1.4,\n",
       "            -1.3,\n",
       "            -1.2,\n",
       "            -1.1,\n",
       "            -1.0,\n",
       "            -0.9,\n",
       "            -0.8,\n",
       "            -0.7,\n",
       "            -0.6,\n",
       "            -0.5,\n",
       "            -0.4,\n",
       "            -0.3,\n",
       "            -0.2,\n",
       "            -0.1,\n",
       "            0.0,\n",
       "            0.1,\n",
       "            0.2,\n",
       "            0.3,\n",
       "            0.4,\n",
       "            0.5,\n",
       "            0.6,\n",
       "            0.7,\n",
       "            0.8,\n",
       "            0.9,\n",
       "            1.0,\n",
       "            1.1,\n",
       "            1.2,\n",
       "            1.3,\n",
       "            1.4,\n",
       "            1.5,\n",
       "            1.6,\n",
       "            1.7,\n",
       "            1.8,\n",
       "            1.9,\n",
       "            2.0,\n",
       "            2.1,\n",
       "            2.2,\n",
       "            2.3,\n",
       "            2.4,\n",
       "            2.5,\n",
       "            2.6,\n",
       "            2.7,\n",
       "            2.8,\n",
       "            2.9,\n",
       "            3.0\n",
       "        ],\n",
       "        \"showlegend\": true,\n",
       "        \"mode\": \"lines\",\n",
       "        \"name\": \"y1\",\n",
       "        \"zmin\": null,\n",
       "        \"legendgroup\": \"y1\",\n",
       "        \"zmax\": null,\n",
       "        \"line\": {\n",
       "            \"color\": \"rgba(0, 154, 250, 1.000)\",\n",
       "            \"shape\": \"linear\",\n",
       "            \"dash\": \"solid\",\n",
       "            \"width\": 1\n",
       "        },\n",
       "        \"y\": [\n",
       "            81.0,\n",
       "            70.7281,\n",
       "            61.46559999999999,\n",
       "            53.144100000000016,\n",
       "            45.69760000000001,\n",
       "            39.0625,\n",
       "            33.1776,\n",
       "            27.98409999999999,\n",
       "            23.425600000000006,\n",
       "            19.448100000000004,\n",
       "            16.0,\n",
       "            13.032099999999998,\n",
       "            10.4976,\n",
       "            8.352099999999998,\n",
       "            6.553600000000001,\n",
       "            5.0625,\n",
       "            3.8415999999999992,\n",
       "            2.8561000000000005,\n",
       "            2.0736,\n",
       "            1.4641000000000004,\n",
       "            1.0,\n",
       "            0.6561,\n",
       "            0.4096000000000001,\n",
       "            0.24009999999999995,\n",
       "            0.1296,\n",
       "            0.0625,\n",
       "            0.025600000000000005,\n",
       "            0.0081,\n",
       "            0.0016000000000000003,\n",
       "            0.00010000000000000002,\n",
       "            0.0,\n",
       "            0.00010000000000000002,\n",
       "            0.0016000000000000003,\n",
       "            0.0081,\n",
       "            0.025600000000000005,\n",
       "            0.0625,\n",
       "            0.1296,\n",
       "            0.24009999999999995,\n",
       "            0.4096000000000001,\n",
       "            0.6561,\n",
       "            1.0,\n",
       "            1.4641000000000004,\n",
       "            2.0736,\n",
       "            2.8561000000000005,\n",
       "            3.8415999999999992,\n",
       "            5.0625,\n",
       "            6.553600000000001,\n",
       "            8.352099999999998,\n",
       "            10.4976,\n",
       "            13.032099999999998,\n",
       "            16.0,\n",
       "            19.448100000000004,\n",
       "            23.425600000000006,\n",
       "            27.98409999999999,\n",
       "            33.1776,\n",
       "            39.0625,\n",
       "            45.69760000000001,\n",
       "            53.144100000000016,\n",
       "            61.46559999999999,\n",
       "            70.7281,\n",
       "            81.0\n",
       "        ],\n",
       "        \"type\": \"scatter\"\n",
       "    }\n",
       "]\n",
       ", {\n",
       "    \"paper_bgcolor\": \"rgba(255, 255, 255, 1.000)\",\n",
       "    \"height\": 400,\n",
       "    \"yaxis4\": {\n",
       "        \"showticklabels\": true,\n",
       "        \"gridwidth\": 0.5,\n",
       "        \"tickvals\": [\n",
       "            0.0,\n",
       "            20.0,\n",
       "            40.0,\n",
       "            60.0,\n",
       "            80.0\n",
       "        ],\n",
       "        \"visible\": true,\n",
       "        \"ticks\": \"inside\",\n",
       "        \"range\": [\n",
       "            -2.4299999999999997,\n",
       "            83.43\n",
       "        ],\n",
       "        \"domain\": [\n",
       "            0.03762029746281716,\n",
       "            0.4901574803149606\n",
       "        ],\n",
       "        \"tickmode\": \"array\",\n",
       "        \"linecolor\": \"rgba(0, 0, 0, 1.000)\",\n",
       "        \"showgrid\": true,\n",
       "        \"title\": \"\",\n",
       "        \"mirror\": false,\n",
       "        \"tickangle\": 0,\n",
       "        \"showline\": true,\n",
       "        \"gridcolor\": \"rgba(0, 0, 0, 0.100)\",\n",
       "        \"titlefont\": {\n",
       "            \"color\": \"rgba(0, 0, 0, 1.000)\",\n",
       "            \"family\": \"sans-serif\",\n",
       "            \"size\": 15\n",
       "        },\n",
       "        \"tickcolor\": \"rgb(0, 0, 0)\",\n",
       "        \"ticktext\": [\n",
       "            \"0\",\n",
       "            \"20\",\n",
       "            \"40\",\n",
       "            \"60\",\n",
       "            \"80\"\n",
       "        ],\n",
       "        \"zeroline\": false,\n",
       "        \"type\": \"-\",\n",
       "        \"tickfont\": {\n",
       "            \"color\": \"rgba(0, 0, 0, 1.000)\",\n",
       "            \"family\": \"sans-serif\",\n",
       "            \"size\": 11\n",
       "        },\n",
       "        \"zerolinecolor\": \"rgba(0, 0, 0, 1.000)\",\n",
       "        \"anchor\": \"x4\"\n",
       "    },\n",
       "    \"yaxis2\": {\n",
       "        \"showticklabels\": true,\n",
       "        \"gridwidth\": 0.5,\n",
       "        \"tickvals\": [\n",
       "            0.0,\n",
       "            2.0,\n",
       "            4.0,\n",
       "            6.0,\n",
       "            8.0\n",
       "        ],\n",
       "        \"visible\": true,\n",
       "        \"ticks\": \"inside\",\n",
       "        \"range\": [\n",
       "            -0.27,\n",
       "            9.27\n",
       "        ],\n",
       "        \"domain\": [\n",
       "            0.5376202974628171,\n",
       "            0.9901574803149606\n",
       "        ],\n",
       "        \"tickmode\": \"array\",\n",
       "        \"linecolor\": \"rgba(0, 0, 0, 1.000)\",\n",
       "        \"showgrid\": true,\n",
       "        \"title\": \"\",\n",
       "        \"mirror\": false,\n",
       "        \"tickangle\": 0,\n",
       "        \"showline\": true,\n",
       "        \"gridcolor\": \"rgba(0, 0, 0, 0.100)\",\n",
       "        \"titlefont\": {\n",
       "            \"color\": \"rgba(0, 0, 0, 1.000)\",\n",
       "            \"family\": \"sans-serif\",\n",
       "            \"size\": 15\n",
       "        },\n",
       "        \"tickcolor\": \"rgb(0, 0, 0)\",\n",
       "        \"ticktext\": [\n",
       "            \"0\",\n",
       "            \"2\",\n",
       "            \"4\",\n",
       "            \"6\",\n",
       "            \"8\"\n",
       "        ],\n",
       "        \"zeroline\": false,\n",
       "        \"type\": \"-\",\n",
       "        \"tickfont\": {\n",
       "            \"color\": \"rgba(0, 0, 0, 1.000)\",\n",
       "            \"family\": \"sans-serif\",\n",
       "            \"size\": 11\n",
       "        },\n",
       "        \"zerolinecolor\": \"rgba(0, 0, 0, 1.000)\",\n",
       "        \"anchor\": \"x2\"\n",
       "    },\n",
       "    \"xaxis3\": {\n",
       "        \"showticklabels\": true,\n",
       "        \"gridwidth\": 0.5,\n",
       "        \"tickvals\": [\n",
       "            -3.0,\n",
       "            -2.0,\n",
       "            -1.0,\n",
       "            0.0,\n",
       "            1.0,\n",
       "            2.0,\n",
       "            3.0\n",
       "        ],\n",
       "        \"visible\": true,\n",
       "        \"ticks\": \"inside\",\n",
       "        \"range\": [\n",
       "            -3.18,\n",
       "            3.18\n",
       "        ],\n",
       "        \"domain\": [\n",
       "            0.05100612423447069,\n",
       "            0.500845727617381\n",
       "        ],\n",
       "        \"tickmode\": \"array\",\n",
       "        \"linecolor\": \"rgba(0, 0, 0, 1.000)\",\n",
       "        \"showgrid\": true,\n",
       "        \"title\": \"\",\n",
       "        \"mirror\": false,\n",
       "        \"tickangle\": 0,\n",
       "        \"showline\": true,\n",
       "        \"gridcolor\": \"rgba(0, 0, 0, 0.100)\",\n",
       "        \"titlefont\": {\n",
       "            \"color\": \"rgba(0, 0, 0, 1.000)\",\n",
       "            \"family\": \"sans-serif\",\n",
       "            \"size\": 15\n",
       "        },\n",
       "        \"tickcolor\": \"rgb(0, 0, 0)\",\n",
       "        \"ticktext\": [\n",
       "            \"-3\",\n",
       "            \"-2\",\n",
       "            \"-1\",\n",
       "            \"0\",\n",
       "            \"1\",\n",
       "            \"2\",\n",
       "            \"3\"\n",
       "        ],\n",
       "        \"zeroline\": false,\n",
       "        \"type\": \"-\",\n",
       "        \"tickfont\": {\n",
       "            \"color\": \"rgba(0, 0, 0, 1.000)\",\n",
       "            \"family\": \"sans-serif\",\n",
       "            \"size\": 11\n",
       "        },\n",
       "        \"zerolinecolor\": \"rgba(0, 0, 0, 1.000)\",\n",
       "        \"anchor\": \"y3\"\n",
       "    },\n",
       "    \"xaxis4\": {\n",
       "        \"showticklabels\": true,\n",
       "        \"gridwidth\": 0.5,\n",
       "        \"tickvals\": [\n",
       "            -3.0,\n",
       "            -2.0,\n",
       "            -1.0,\n",
       "            0.0,\n",
       "            1.0,\n",
       "            2.0,\n",
       "            3.0\n",
       "        ],\n",
       "        \"visible\": true,\n",
       "        \"ticks\": \"inside\",\n",
       "        \"range\": [\n",
       "            -3.18,\n",
       "            3.18\n",
       "        ],\n",
       "        \"domain\": [\n",
       "            0.5435987168270632,\n",
       "            0.9934383202099737\n",
       "        ],\n",
       "        \"tickmode\": \"array\",\n",
       "        \"linecolor\": \"rgba(0, 0, 0, 1.000)\",\n",
       "        \"showgrid\": true,\n",
       "        \"title\": \"\",\n",
       "        \"mirror\": false,\n",
       "        \"tickangle\": 0,\n",
       "        \"showline\": true,\n",
       "        \"gridcolor\": \"rgba(0, 0, 0, 0.100)\",\n",
       "        \"titlefont\": {\n",
       "            \"color\": \"rgba(0, 0, 0, 1.000)\",\n",
       "            \"family\": \"sans-serif\",\n",
       "            \"size\": 15\n",
       "        },\n",
       "        \"tickcolor\": \"rgb(0, 0, 0)\",\n",
       "        \"ticktext\": [\n",
       "            \"-3\",\n",
       "            \"-2\",\n",
       "            \"-1\",\n",
       "            \"0\",\n",
       "            \"1\",\n",
       "            \"2\",\n",
       "            \"3\"\n",
       "        ],\n",
       "        \"zeroline\": false,\n",
       "        \"type\": \"-\",\n",
       "        \"tickfont\": {\n",
       "            \"color\": \"rgba(0, 0, 0, 1.000)\",\n",
       "            \"family\": \"sans-serif\",\n",
       "            \"size\": 11\n",
       "        },\n",
       "        \"zerolinecolor\": \"rgba(0, 0, 0, 1.000)\",\n",
       "        \"anchor\": \"y4\"\n",
       "    },\n",
       "    \"yaxis1\": {\n",
       "        \"showticklabels\": true,\n",
       "        \"gridwidth\": 0.5,\n",
       "        \"tickvals\": [\n",
       "            -3.0,\n",
       "            -2.0,\n",
       "            -1.0,\n",
       "            0.0,\n",
       "            1.0,\n",
       "            2.0,\n",
       "            3.0\n",
       "        ],\n",
       "        \"visible\": true,\n",
       "        \"ticks\": \"inside\",\n",
       "        \"range\": [\n",
       "            -3.18,\n",
       "            3.18\n",
       "        ],\n",
       "        \"domain\": [\n",
       "            0.5376202974628171,\n",
       "            0.9901574803149606\n",
       "        ],\n",
       "        \"tickmode\": \"array\",\n",
       "        \"linecolor\": \"rgba(0, 0, 0, 1.000)\",\n",
       "        \"showgrid\": true,\n",
       "        \"title\": \"\",\n",
       "        \"mirror\": false,\n",
       "        \"tickangle\": 0,\n",
       "        \"showline\": true,\n",
       "        \"gridcolor\": \"rgba(0, 0, 0, 0.100)\",\n",
       "        \"titlefont\": {\n",
       "            \"color\": \"rgba(0, 0, 0, 1.000)\",\n",
       "            \"family\": \"sans-serif\",\n",
       "            \"size\": 15\n",
       "        },\n",
       "        \"tickcolor\": \"rgb(0, 0, 0)\",\n",
       "        \"ticktext\": [\n",
       "            \"-3\",\n",
       "            \"-2\",\n",
       "            \"-1\",\n",
       "            \"0\",\n",
       "            \"1\",\n",
       "            \"2\",\n",
       "            \"3\"\n",
       "        ],\n",
       "        \"zeroline\": false,\n",
       "        \"type\": \"-\",\n",
       "        \"tickfont\": {\n",
       "            \"color\": \"rgba(0, 0, 0, 1.000)\",\n",
       "            \"family\": \"sans-serif\",\n",
       "            \"size\": 11\n",
       "        },\n",
       "        \"zerolinecolor\": \"rgba(0, 0, 0, 1.000)\",\n",
       "        \"anchor\": \"x1\"\n",
       "    },\n",
       "    \"annotations\": [],\n",
       "    \"plot_bgcolor\": \"rgba(255, 255, 255, 1.000)\",\n",
       "    \"showlegend\": false,\n",
       "    \"xaxis1\": {\n",
       "        \"showticklabels\": true,\n",
       "        \"gridwidth\": 0.5,\n",
       "        \"tickvals\": [\n",
       "            -3.0,\n",
       "            -2.0,\n",
       "            -1.0,\n",
       "            0.0,\n",
       "            1.0,\n",
       "            2.0,\n",
       "            3.0\n",
       "        ],\n",
       "        \"visible\": true,\n",
       "        \"ticks\": \"inside\",\n",
       "        \"range\": [\n",
       "            -3.18,\n",
       "            3.18\n",
       "        ],\n",
       "        \"domain\": [\n",
       "            0.05100612423447069,\n",
       "            0.500845727617381\n",
       "        ],\n",
       "        \"tickmode\": \"array\",\n",
       "        \"linecolor\": \"rgba(0, 0, 0, 1.000)\",\n",
       "        \"showgrid\": true,\n",
       "        \"title\": \"\",\n",
       "        \"mirror\": false,\n",
       "        \"tickangle\": 0,\n",
       "        \"showline\": true,\n",
       "        \"gridcolor\": \"rgba(0, 0, 0, 0.100)\",\n",
       "        \"titlefont\": {\n",
       "            \"color\": \"rgba(0, 0, 0, 1.000)\",\n",
       "            \"family\": \"sans-serif\",\n",
       "            \"size\": 15\n",
       "        },\n",
       "        \"tickcolor\": \"rgb(0, 0, 0)\",\n",
       "        \"ticktext\": [\n",
       "            \"-3\",\n",
       "            \"-2\",\n",
       "            \"-1\",\n",
       "            \"0\",\n",
       "            \"1\",\n",
       "            \"2\",\n",
       "            \"3\"\n",
       "        ],\n",
       "        \"zeroline\": false,\n",
       "        \"type\": \"-\",\n",
       "        \"tickfont\": {\n",
       "            \"color\": \"rgba(0, 0, 0, 1.000)\",\n",
       "            \"family\": \"sans-serif\",\n",
       "            \"size\": 11\n",
       "        },\n",
       "        \"zerolinecolor\": \"rgba(0, 0, 0, 1.000)\",\n",
       "        \"anchor\": \"y1\"\n",
       "    },\n",
       "    \"yaxis3\": {\n",
       "        \"showticklabels\": true,\n",
       "        \"gridwidth\": 0.5,\n",
       "        \"tickvals\": [\n",
       "            -20.0,\n",
       "            -10.0,\n",
       "            0.0,\n",
       "            10.0,\n",
       "            20.0\n",
       "        ],\n",
       "        \"visible\": true,\n",
       "        \"ticks\": \"inside\",\n",
       "        \"range\": [\n",
       "            -28.62,\n",
       "            28.62\n",
       "        ],\n",
       "        \"domain\": [\n",
       "            0.03762029746281716,\n",
       "            0.4901574803149606\n",
       "        ],\n",
       "        \"tickmode\": \"array\",\n",
       "        \"linecolor\": \"rgba(0, 0, 0, 1.000)\",\n",
       "        \"showgrid\": true,\n",
       "        \"title\": \"\",\n",
       "        \"mirror\": false,\n",
       "        \"tickangle\": 0,\n",
       "        \"showline\": true,\n",
       "        \"gridcolor\": \"rgba(0, 0, 0, 0.100)\",\n",
       "        \"titlefont\": {\n",
       "            \"color\": \"rgba(0, 0, 0, 1.000)\",\n",
       "            \"family\": \"sans-serif\",\n",
       "            \"size\": 15\n",
       "        },\n",
       "        \"tickcolor\": \"rgb(0, 0, 0)\",\n",
       "        \"ticktext\": [\n",
       "            \"-20\",\n",
       "            \"-10\",\n",
       "            \"0\",\n",
       "            \"10\",\n",
       "            \"20\"\n",
       "        ],\n",
       "        \"zeroline\": false,\n",
       "        \"type\": \"-\",\n",
       "        \"tickfont\": {\n",
       "            \"color\": \"rgba(0, 0, 0, 1.000)\",\n",
       "            \"family\": \"sans-serif\",\n",
       "            \"size\": 11\n",
       "        },\n",
       "        \"zerolinecolor\": \"rgba(0, 0, 0, 1.000)\",\n",
       "        \"anchor\": \"x3\"\n",
       "    },\n",
       "    \"xaxis2\": {\n",
       "        \"showticklabels\": true,\n",
       "        \"gridwidth\": 0.5,\n",
       "        \"tickvals\": [\n",
       "            -3.0,\n",
       "            -2.0,\n",
       "            -1.0,\n",
       "            0.0,\n",
       "            1.0,\n",
       "            2.0,\n",
       "            3.0\n",
       "        ],\n",
       "        \"visible\": true,\n",
       "        \"ticks\": \"inside\",\n",
       "        \"range\": [\n",
       "            -3.18,\n",
       "            3.18\n",
       "        ],\n",
       "        \"domain\": [\n",
       "            0.5435987168270632,\n",
       "            0.9934383202099737\n",
       "        ],\n",
       "        \"tickmode\": \"array\",\n",
       "        \"linecolor\": \"rgba(0, 0, 0, 1.000)\",\n",
       "        \"showgrid\": true,\n",
       "        \"title\": \"\",\n",
       "        \"mirror\": false,\n",
       "        \"tickangle\": 0,\n",
       "        \"showline\": true,\n",
       "        \"gridcolor\": \"rgba(0, 0, 0, 0.100)\",\n",
       "        \"titlefont\": {\n",
       "            \"color\": \"rgba(0, 0, 0, 1.000)\",\n",
       "            \"family\": \"sans-serif\",\n",
       "            \"size\": 15\n",
       "        },\n",
       "        \"tickcolor\": \"rgb(0, 0, 0)\",\n",
       "        \"ticktext\": [\n",
       "            \"-3\",\n",
       "            \"-2\",\n",
       "            \"-1\",\n",
       "            \"0\",\n",
       "            \"1\",\n",
       "            \"2\",\n",
       "            \"3\"\n",
       "        ],\n",
       "        \"zeroline\": false,\n",
       "        \"type\": \"-\",\n",
       "        \"tickfont\": {\n",
       "            \"color\": \"rgba(0, 0, 0, 1.000)\",\n",
       "            \"family\": \"sans-serif\",\n",
       "            \"size\": 11\n",
       "        },\n",
       "        \"zerolinecolor\": \"rgba(0, 0, 0, 1.000)\",\n",
       "        \"anchor\": \"y2\"\n",
       "    },\n",
       "    \"margin\": {\n",
       "        \"l\": 0,\n",
       "        \"b\": 20,\n",
       "        \"r\": 0,\n",
       "        \"t\": 20\n",
       "    },\n",
       "    \"width\": 600\n",
       "}\n",
       ");\n",
       "    </script>\n",
       "\n",
       "    </body>\n",
       "</html>\n"
      ]
     },
     "execution_count": 173,
     "metadata": {},
     "output_type": "execute_result"
    }
   ],
   "source": [
    "p1 = plot(x, x)\n",
    "p2 = plot(x, x.^2)\n",
    "p3 = plot(x, x.^3)\n",
    "p4 = plot(x, x.^4)\n",
    "plot(p1, p2, p3, p4, layout=(2,2), legend=false)"
   ]
  },
  {
   "cell_type": "markdown",
   "metadata": {},
   "source": [
    "# Multiple Dispatch\n",
    "\n",
    "Specifying different methods for different types"
   ]
  },
  {
   "cell_type": "code",
   "execution_count": 174,
   "metadata": {
    "collapsed": true,
    "jupyter": {
     "outputs_hidden": true
    }
   },
   "outputs": [
    {
     "data": {
      "text/html": [
       "# 207 methods for generic function <b>+</b>:<ul><li> +(dt::<b>Dates.DateTime</b>, z::<b>Dates.Month</b>) in Dates at <a href=\"file:///Users/julia/buildbot/worker/package_macos64/build/usr/share/julia/stdlib/v1.5/Dates/src/arithmetic.jl\" target=\"_blank\">/Applications/Julia-1.5.app/Contents/Resources/julia/share/julia/stdlib/v1.5/Dates/src/arithmetic.jl:47</a></li> <li> +(dt::<b>Dates.DateTime</b>, y::<b>Dates.Year</b>) in Dates at <a href=\"file:///Users/julia/buildbot/worker/package_macos64/build/usr/share/julia/stdlib/v1.5/Dates/src/arithmetic.jl\" target=\"_blank\">/Applications/Julia-1.5.app/Contents/Resources/julia/share/julia/stdlib/v1.5/Dates/src/arithmetic.jl:23</a></li> <li> +(x::<b>Dates.DateTime</b>, y::<b>Dates.Period</b>) in Dates at <a href=\"file:///Users/julia/buildbot/worker/package_macos64/build/usr/share/julia/stdlib/v1.5/Dates/src/arithmetic.jl\" target=\"_blank\">/Applications/Julia-1.5.app/Contents/Resources/julia/share/julia/stdlib/v1.5/Dates/src/arithmetic.jl:76</a></li> <li> +(z::<b>Complex{Bool}</b>, x::<b>Bool</b>) in Base at <a href=\"https://github.com/JuliaLang/julia/tree/539f3ce943f59dec8aff3f2238b083f1b27f41e5/base/complex.jl#L287\" target=\"_blank\">complex.jl:287</a></li> <li> +(z::<b>Complex{Bool}</b>, x::<b>Real</b>) in Base at <a href=\"https://github.com/JuliaLang/julia/tree/539f3ce943f59dec8aff3f2238b083f1b27f41e5/base/complex.jl#L301\" target=\"_blank\">complex.jl:301</a></li> <li> +(c::<b>BigInt</b>, x::<b>BigFloat</b>) in Base.MPFR at <a href=\"https://github.com/JuliaLang/julia/tree/539f3ce943f59dec8aff3f2238b083f1b27f41e5/base/mpfr.jl#L399\" target=\"_blank\">mpfr.jl:399</a></li> <li> +(a::<b>BigInt</b>, b::<b>BigInt</b>, c::<b>BigInt</b>, d::<b>BigInt</b>, e::<b>BigInt</b>) in Base.GMP at <a href=\"https://github.com/JuliaLang/julia/tree/539f3ce943f59dec8aff3f2238b083f1b27f41e5/base/gmp.jl#L518\" target=\"_blank\">gmp.jl:518</a></li> <li> +(a::<b>BigInt</b>, b::<b>BigInt</b>, c::<b>BigInt</b>, d::<b>BigInt</b>) in Base.GMP at <a href=\"https://github.com/JuliaLang/julia/tree/539f3ce943f59dec8aff3f2238b083f1b27f41e5/base/gmp.jl#L517\" target=\"_blank\">gmp.jl:517</a></li> <li> +(a::<b>BigInt</b>, b::<b>BigInt</b>, c::<b>BigInt</b>) in Base.GMP at <a href=\"https://github.com/JuliaLang/julia/tree/539f3ce943f59dec8aff3f2238b083f1b27f41e5/base/gmp.jl#L516\" target=\"_blank\">gmp.jl:516</a></li> <li> +(x::<b>BigInt</b>, y::<b>BigInt</b>) in Base.GMP at <a href=\"https://github.com/JuliaLang/julia/tree/539f3ce943f59dec8aff3f2238b083f1b27f41e5/base/gmp.jl#L476\" target=\"_blank\">gmp.jl:476</a></li> <li> +(x::<b>BigInt</b>, c::<b>Union{UInt16, UInt32, UInt64, UInt8}</b>) in Base.GMP at <a href=\"https://github.com/JuliaLang/julia/tree/539f3ce943f59dec8aff3f2238b083f1b27f41e5/base/gmp.jl#L524\" target=\"_blank\">gmp.jl:524</a></li> <li> +(x::<b>BigInt</b>, c::<b>Union{Int16, Int32, Int64, Int8}</b>) in Base.GMP at <a href=\"https://github.com/JuliaLang/julia/tree/539f3ce943f59dec8aff3f2238b083f1b27f41e5/base/gmp.jl#L530\" target=\"_blank\">gmp.jl:530</a></li> <li> +(level::<b>Base.CoreLogging.LogLevel</b>, inc::<b>Integer</b>) in Base.CoreLogging at <a href=\"https://github.com/JuliaLang/julia/tree/539f3ce943f59dec8aff3f2238b083f1b27f41e5/base/logging.jl#L116\" target=\"_blank\">logging.jl:116</a></li> <li> +(B::<b>BitArray{2}</b>, J::<b>LinearAlgebra.UniformScaling</b>) in LinearAlgebra at <a href=\"file:///Users/julia/buildbot/worker/package_macos64/build/usr/share/julia/stdlib/v1.5/LinearAlgebra/src/uniformscaling.jl\" target=\"_blank\">/Applications/Julia-1.5.app/Contents/Resources/julia/share/julia/stdlib/v1.5/LinearAlgebra/src/uniformscaling.jl:117</a></li> <li> +(::<b>Missing</b>, ::<b>Missing</b>) in Base at <a href=\"https://github.com/JuliaLang/julia/tree/539f3ce943f59dec8aff3f2238b083f1b27f41e5/base/missing.jl#L114\" target=\"_blank\">missing.jl:114</a></li> <li> +(::<b>Missing</b>) in Base at <a href=\"https://github.com/JuliaLang/julia/tree/539f3ce943f59dec8aff3f2238b083f1b27f41e5/base/missing.jl#L100\" target=\"_blank\">missing.jl:100</a></li> <li> +(::<b>Missing</b>, ::<b>Number</b>) in Base at <a href=\"https://github.com/JuliaLang/julia/tree/539f3ce943f59dec8aff3f2238b083f1b27f41e5/base/missing.jl#L115\" target=\"_blank\">missing.jl:115</a></li> <li> +(x::<b>Float64</b>, y::<b>Float64</b>) in Base at <a href=\"https://github.com/JuliaLang/julia/tree/539f3ce943f59dec8aff3f2238b083f1b27f41e5/base/float.jl#L401\" target=\"_blank\">float.jl:401</a></li> <li> +(x::<b>Bool</b>, z::<b>Complex{Bool}</b>) in Base at <a href=\"https://github.com/JuliaLang/julia/tree/539f3ce943f59dec8aff3f2238b083f1b27f41e5/base/complex.jl#L286\" target=\"_blank\">complex.jl:286</a></li> <li> +(x::<b>Bool</b>, y::<b>Bool</b>) in Base at <a href=\"https://github.com/JuliaLang/julia/tree/539f3ce943f59dec8aff3f2238b083f1b27f41e5/base/bool.jl#L96\" target=\"_blank\">bool.jl:96</a></li> <li> +(x::<b>Bool</b>) in Base at <a href=\"https://github.com/JuliaLang/julia/tree/539f3ce943f59dec8aff3f2238b083f1b27f41e5/base/bool.jl#L93\" target=\"_blank\">bool.jl:93</a></li> <li> +(x::<b>Bool</b>, y::<b>T</b>)<i> where T<:AbstractFloat</i> in Base at <a href=\"https://github.com/JuliaLang/julia/tree/539f3ce943f59dec8aff3f2238b083f1b27f41e5/base/bool.jl#L103\" target=\"_blank\">bool.jl:103</a></li> <li> +(x::<b>Bool</b>, z::<b>Complex</b>) in Base at <a href=\"https://github.com/JuliaLang/julia/tree/539f3ce943f59dec8aff3f2238b083f1b27f41e5/base/complex.jl#L293\" target=\"_blank\">complex.jl:293</a></li> <li> +(x::<b>Dates.Date</b>, y::<b>Dates.Day</b>) in Dates at <a href=\"file:///Users/julia/buildbot/worker/package_macos64/build/usr/share/julia/stdlib/v1.5/Dates/src/arithmetic.jl\" target=\"_blank\">/Applications/Julia-1.5.app/Contents/Resources/julia/share/julia/stdlib/v1.5/Dates/src/arithmetic.jl:74</a></li> <li> +(x::<b>Dates.Date</b>, y::<b>Dates.Week</b>) in Dates at <a href=\"file:///Users/julia/buildbot/worker/package_macos64/build/usr/share/julia/stdlib/v1.5/Dates/src/arithmetic.jl\" target=\"_blank\">/Applications/Julia-1.5.app/Contents/Resources/julia/share/julia/stdlib/v1.5/Dates/src/arithmetic.jl:72</a></li> <li> +(dt::<b>Dates.Date</b>, z::<b>Dates.Month</b>) in Dates at <a href=\"file:///Users/julia/buildbot/worker/package_macos64/build/usr/share/julia/stdlib/v1.5/Dates/src/arithmetic.jl\" target=\"_blank\">/Applications/Julia-1.5.app/Contents/Resources/julia/share/julia/stdlib/v1.5/Dates/src/arithmetic.jl:54</a></li> <li> +(dt::<b>Dates.Date</b>, y::<b>Dates.Year</b>) in Dates at <a href=\"file:///Users/julia/buildbot/worker/package_macos64/build/usr/share/julia/stdlib/v1.5/Dates/src/arithmetic.jl\" target=\"_blank\">/Applications/Julia-1.5.app/Contents/Resources/julia/share/julia/stdlib/v1.5/Dates/src/arithmetic.jl:27</a></li> <li> +(dt::<b>Dates.Date</b>, t::<b>Dates.Time</b>) in Dates at <a href=\"file:///Users/julia/buildbot/worker/package_macos64/build/usr/share/julia/stdlib/v1.5/Dates/src/arithmetic.jl\" target=\"_blank\">/Applications/Julia-1.5.app/Contents/Resources/julia/share/julia/stdlib/v1.5/Dates/src/arithmetic.jl:19</a></li> <li> +(a::<b>Pkg.Resolve.VersionWeight</b>, b::<b>Pkg.Resolve.VersionWeight</b>) in Pkg.Resolve at <a href=\"file:///Users/julia/buildbot/worker/package_macos64/build/usr/share/julia/stdlib/v1.5/Pkg/src/Resolve/versionweights.jl\" target=\"_blank\">/Applications/Julia-1.5.app/Contents/Resources/julia/share/julia/stdlib/v1.5/Pkg/src/Resolve/versionweights.jl:22</a></li> <li> +(a::<b>Pkg.Resolve.FieldValue</b>, b::<b>Pkg.Resolve.FieldValue</b>) in Pkg.Resolve at <a href=\"file:///Users/julia/buildbot/worker/package_macos64/build/usr/share/julia/stdlib/v1.5/Pkg/src/Resolve/fieldvalues.jl\" target=\"_blank\">/Applications/Julia-1.5.app/Contents/Resources/julia/share/julia/stdlib/v1.5/Pkg/src/Resolve/fieldvalues.jl:43</a></li> <li> +(t::<b>Dates.Time</b>, dt::<b>Dates.Date</b>) in Dates at <a href=\"file:///Users/julia/buildbot/worker/package_macos64/build/usr/share/julia/stdlib/v1.5/Dates/src/arithmetic.jl\" target=\"_blank\">/Applications/Julia-1.5.app/Contents/Resources/julia/share/julia/stdlib/v1.5/Dates/src/arithmetic.jl:20</a></li> <li> +(x::<b>Dates.Time</b>, y::<b>Dates.TimePeriod</b>) in Dates at <a href=\"file:///Users/julia/buildbot/worker/package_macos64/build/usr/share/julia/stdlib/v1.5/Dates/src/arithmetic.jl\" target=\"_blank\">/Applications/Julia-1.5.app/Contents/Resources/julia/share/julia/stdlib/v1.5/Dates/src/arithmetic.jl:78</a></li> <li> +(a::<b>BigFloat</b>, b::<b>BigFloat</b>, c::<b>BigFloat</b>, d::<b>BigFloat</b>, e::<b>BigFloat</b>) in Base.MPFR at <a href=\"https://github.com/JuliaLang/julia/tree/539f3ce943f59dec8aff3f2238b083f1b27f41e5/base/mpfr.jl#L548\" target=\"_blank\">mpfr.jl:548</a></li> <li> +(a::<b>BigFloat</b>, b::<b>BigFloat</b>, c::<b>BigFloat</b>, d::<b>BigFloat</b>) in Base.MPFR at <a href=\"https://github.com/JuliaLang/julia/tree/539f3ce943f59dec8aff3f2238b083f1b27f41e5/base/mpfr.jl#L541\" target=\"_blank\">mpfr.jl:541</a></li> <li> +(a::<b>BigFloat</b>, b::<b>BigFloat</b>, c::<b>BigFloat</b>) in Base.MPFR at <a href=\"https://github.com/JuliaLang/julia/tree/539f3ce943f59dec8aff3f2238b083f1b27f41e5/base/mpfr.jl#L535\" target=\"_blank\">mpfr.jl:535</a></li> <li> +(x::<b>BigFloat</b>, c::<b>BigInt</b>) in Base.MPFR at <a href=\"https://github.com/JuliaLang/julia/tree/539f3ce943f59dec8aff3f2238b083f1b27f41e5/base/mpfr.jl#L394\" target=\"_blank\">mpfr.jl:394</a></li> <li> +(x::<b>BigFloat</b>, y::<b>BigFloat</b>) in Base.MPFR at <a href=\"https://github.com/JuliaLang/julia/tree/539f3ce943f59dec8aff3f2238b083f1b27f41e5/base/mpfr.jl#L363\" target=\"_blank\">mpfr.jl:363</a></li> <li> +(x::<b>BigFloat</b>, c::<b>Union{UInt16, UInt32, UInt64, UInt8}</b>) in Base.MPFR at <a href=\"https://github.com/JuliaLang/julia/tree/539f3ce943f59dec8aff3f2238b083f1b27f41e5/base/mpfr.jl#L370\" target=\"_blank\">mpfr.jl:370</a></li> <li> +(x::<b>BigFloat</b>, c::<b>Union{Int16, Int32, Int64, Int8}</b>) in Base.MPFR at <a href=\"https://github.com/JuliaLang/julia/tree/539f3ce943f59dec8aff3f2238b083f1b27f41e5/base/mpfr.jl#L378\" target=\"_blank\">mpfr.jl:378</a></li> <li> +(x::<b>BigFloat</b>, c::<b>Union{Float16, Float32, Float64}</b>) in Base.MPFR at <a href=\"https://github.com/JuliaLang/julia/tree/539f3ce943f59dec8aff3f2238b083f1b27f41e5/base/mpfr.jl#L386\" target=\"_blank\">mpfr.jl:386</a></li> <li> +(a::<b>Float16</b>, b::<b>Float16</b>) in Base at <a href=\"https://github.com/JuliaLang/julia/tree/539f3ce943f59dec8aff3f2238b083f1b27f41e5/base/float.jl#L398\" target=\"_blank\">float.jl:398</a></li> <li> +(x::<b>Float32</b>, y::<b>Float32</b>) in Base at <a href=\"https://github.com/JuliaLang/julia/tree/539f3ce943f59dec8aff3f2238b083f1b27f41e5/base/float.jl#L400\" target=\"_blank\">float.jl:400</a></li> <li> +(x::<b>Dates.CompoundPeriod</b>, y::<b>Dates.CompoundPeriod</b>) in Dates at <a href=\"file:///Users/julia/buildbot/worker/package_macos64/build/usr/share/julia/stdlib/v1.5/Dates/src/periods.jl\" target=\"_blank\">/Applications/Julia-1.5.app/Contents/Resources/julia/share/julia/stdlib/v1.5/Dates/src/periods.jl:347</a></li> <li> +(x::<b>Dates.CompoundPeriod</b>, y::<b>Dates.Period</b>) in Dates at <a href=\"file:///Users/julia/buildbot/worker/package_macos64/build/usr/share/julia/stdlib/v1.5/Dates/src/periods.jl\" target=\"_blank\">/Applications/Julia-1.5.app/Contents/Resources/julia/share/julia/stdlib/v1.5/Dates/src/periods.jl:345</a></li> <li> +(x::<b>Dates.CompoundPeriod</b>, y::<b>Dates.TimeType</b>) in Dates at <a href=\"file:///Users/julia/buildbot/worker/package_macos64/build/usr/share/julia/stdlib/v1.5/Dates/src/periods.jl\" target=\"_blank\">/Applications/Julia-1.5.app/Contents/Resources/julia/share/julia/stdlib/v1.5/Dates/src/periods.jl:375</a></li> <li> +(y::<b>AbstractFloat</b>, x::<b>Bool</b>) in Base at <a href=\"https://github.com/JuliaLang/julia/tree/539f3ce943f59dec8aff3f2238b083f1b27f41e5/base/bool.jl#L106\" target=\"_blank\">bool.jl:106</a></li> <li> +(x::<b>T</b>, y::<b>T</b>)<i> where T<:Union{Int128, Int16, Int32, Int64, Int8, UInt128, UInt16, UInt32, UInt64, UInt8}</i> in Base at <a href=\"https://github.com/JuliaLang/julia/tree/539f3ce943f59dec8aff3f2238b083f1b27f41e5/base/int.jl#L86\" target=\"_blank\">int.jl:86</a></li> <li> +(c::<b>Union{UInt16, UInt32, UInt64, UInt8}</b>, x::<b>BigInt</b>) in Base.GMP at <a href=\"https://github.com/JuliaLang/julia/tree/539f3ce943f59dec8aff3f2238b083f1b27f41e5/base/gmp.jl#L525\" target=\"_blank\">gmp.jl:525</a></li> <li> +(c::<b>Union{Int16, Int32, Int64, Int8}</b>, x::<b>BigInt</b>) in Base.GMP at <a href=\"https://github.com/JuliaLang/julia/tree/539f3ce943f59dec8aff3f2238b083f1b27f41e5/base/gmp.jl#L531\" target=\"_blank\">gmp.jl:531</a></li> <li> +(x::<b>GeometryTypes.OffsetInteger{O,T} where T<:Integer</b>, y::<b>GeometryTypes.OffsetInteger{O,T} where T<:Integer</b>)<i> where O</i> in GeometryTypes at <a href=\"file:///Users/ap/.julia/packages/GeometryTypes/gpBFp/src/faces.jl\" target=\"_blank\">/Users/ap/.julia/packages/GeometryTypes/gpBFp/src/faces.jl:31</a></li> <li> +(x::<b>GeometryBasics.OffsetInteger{O,T} where T<:Integer</b>, y::<b>GeometryBasics.OffsetInteger{O,T} where T<:Integer</b>)<i> where O</i> in GeometryBasics at <a href=\"file:///Users/ap/.julia/packages/GeometryBasics/csguK/src/offsetintegers.jl\" target=\"_blank\">/Users/ap/.julia/packages/GeometryBasics/csguK/src/offsetintegers.jl:63</a></li> <li> +(a::<b>Integer</b>, b::<b>Integer</b>) in Base at <a href=\"https://github.com/JuliaLang/julia/tree/539f3ce943f59dec8aff3f2238b083f1b27f41e5/base/int.jl#L918\" target=\"_blank\">int.jl:918</a></li> <li> +(x::<b>Integer</b>, y::<b>Ptr</b>) in Base at <a href=\"https://github.com/JuliaLang/julia/tree/539f3ce943f59dec8aff3f2238b083f1b27f41e5/base/pointer.jl#L161\" target=\"_blank\">pointer.jl:161</a></li> <li> +(z::<b>Complex</b>) in Base at <a href=\"https://github.com/JuliaLang/julia/tree/539f3ce943f59dec8aff3f2238b083f1b27f41e5/base/complex.jl#L273\" target=\"_blank\">complex.jl:273</a></li> <li> +(z::<b>Complex</b>, w::<b>Complex</b>) in Base at <a href=\"https://github.com/JuliaLang/julia/tree/539f3ce943f59dec8aff3f2238b083f1b27f41e5/base/complex.jl#L275\" target=\"_blank\">complex.jl:275</a></li> <li> +(z::<b>Complex</b>, x::<b>Bool</b>) in Base at <a href=\"https://github.com/JuliaLang/julia/tree/539f3ce943f59dec8aff3f2238b083f1b27f41e5/base/complex.jl#L294\" target=\"_blank\">complex.jl:294</a></li> <li> +(x::<b>Rational</b>) in Base at <a href=\"https://github.com/JuliaLang/julia/tree/539f3ce943f59dec8aff3f2238b083f1b27f41e5/base/rational.jl#L266\" target=\"_blank\">rational.jl:266</a></li> <li> +(x::<b>Real</b>, z::<b>Complex{Bool}</b>) in Base at <a href=\"https://github.com/JuliaLang/julia/tree/539f3ce943f59dec8aff3f2238b083f1b27f41e5/base/complex.jl#L300\" target=\"_blank\">complex.jl:300</a></li> <li> +(x::<b>Real</b>, z::<b>Complex</b>) in Base at <a href=\"https://github.com/JuliaLang/julia/tree/539f3ce943f59dec8aff3f2238b083f1b27f41e5/base/complex.jl#L312\" target=\"_blank\">complex.jl:312</a></li> <li> +(z::<b>Complex</b>, x::<b>Real</b>) in Base at <a href=\"https://github.com/JuliaLang/julia/tree/539f3ce943f59dec8aff3f2238b083f1b27f41e5/base/complex.jl#L313\" target=\"_blank\">complex.jl:313</a></li> <li> +(x::<b>Rational</b>, y::<b>Rational</b>) in Base at <a href=\"https://github.com/JuliaLang/julia/tree/539f3ce943f59dec8aff3f2238b083f1b27f41e5/base/rational.jl#L282\" target=\"_blank\">rational.jl:282</a></li> <li> +(x::<b>Rational</b>, y::<b>Integer</b>) in Base at <a href=\"https://github.com/JuliaLang/julia/tree/539f3ce943f59dec8aff3f2238b083f1b27f41e5/base/rational.jl#L287\" target=\"_blank\">rational.jl:287</a></li> <li> +(y::<b>Integer</b>, x::<b>Rational</b>) in Base at <a href=\"https://github.com/JuliaLang/julia/tree/539f3ce943f59dec8aff3f2238b083f1b27f41e5/base/rational.jl#L294\" target=\"_blank\">rational.jl:294</a></li> <li> +(x::<b>Integer</b>, y::<b>AbstractChar</b>) in Base at <a href=\"https://github.com/JuliaLang/julia/tree/539f3ce943f59dec8aff3f2238b083f1b27f41e5/base/char.jl#L224\" target=\"_blank\">char.jl:224</a></li> <li> +(c::<b>Union{UInt16, UInt32, UInt64, UInt8}</b>, x::<b>BigFloat</b>) in Base.MPFR at <a href=\"https://github.com/JuliaLang/julia/tree/539f3ce943f59dec8aff3f2238b083f1b27f41e5/base/mpfr.jl#L375\" target=\"_blank\">mpfr.jl:375</a></li> <li> +(c::<b>Union{Int16, Int32, Int64, Int8}</b>, x::<b>BigFloat</b>) in Base.MPFR at <a href=\"https://github.com/JuliaLang/julia/tree/539f3ce943f59dec8aff3f2238b083f1b27f41e5/base/mpfr.jl#L383\" target=\"_blank\">mpfr.jl:383</a></li> <li> +(c::<b>Union{Float16, Float32, Float64}</b>, x::<b>BigFloat</b>) in Base.MPFR at <a href=\"https://github.com/JuliaLang/julia/tree/539f3ce943f59dec8aff3f2238b083f1b27f41e5/base/mpfr.jl#L391\" target=\"_blank\">mpfr.jl:391</a></li> <li> +(x::<b>AbstractIrrational</b>, y::<b>AbstractIrrational</b>) in Base at <a href=\"https://github.com/JuliaLang/julia/tree/539f3ce943f59dec8aff3f2238b083f1b27f41e5/base/irrationals.jl#L156\" target=\"_blank\">irrationals.jl:156</a></li> <li> +(x::<b>X</b>, y::<b>X</b>)<i> where X<:FixedPointNumbers.FixedPoint</i> in FixedPointNumbers at <a href=\"file:///Users/ap/.julia/packages/FixedPointNumbers/HAGk2/src/FixedPointNumbers.jl\" target=\"_blank\">/Users/ap/.julia/packages/FixedPointNumbers/HAGk2/src/FixedPointNumbers.jl:237</a></li> <li> +(x::<b>Number</b>) in Base at <a href=\"https://github.com/JuliaLang/julia/tree/539f3ce943f59dec8aff3f2238b083f1b27f41e5/base/operators.jl#L513\" target=\"_blank\">operators.jl:513</a></li> <li> +(x::<b>T</b>, y::<b>T</b>)<i> where T<:Number</i> in Base at <a href=\"https://github.com/JuliaLang/julia/tree/539f3ce943f59dec8aff3f2238b083f1b27f41e5/base/promotion.jl#L384\" target=\"_blank\">promotion.jl:384</a></li> <li> +(x::<b>Number</b>, y::<b>Number</b>) in Base at <a href=\"https://github.com/JuliaLang/julia/tree/539f3ce943f59dec8aff3f2238b083f1b27f41e5/base/promotion.jl#L311\" target=\"_blank\">promotion.jl:311</a></li> <li> +(r1::<b>OrdinalRange</b>, r2::<b>OrdinalRange</b>) in Base at <a href=\"https://github.com/JuliaLang/julia/tree/539f3ce943f59dec8aff3f2238b083f1b27f41e5/base/range.jl#L1055\" target=\"_blank\">range.jl:1055</a></li> <li> +(r1::<b>LinRange{T}</b>, r2::<b>LinRange{T}</b>)<i> where T</i> in Base at <a href=\"https://github.com/JuliaLang/julia/tree/539f3ce943f59dec8aff3f2238b083f1b27f41e5/base/range.jl#L1062\" target=\"_blank\">range.jl:1062</a></li> <li> +(r1::<b>StepRangeLen{T,R,S} where S</b>, r2::<b>StepRangeLen{T,R,S} where S</b>)<i> where {R<:Base.TwicePrecision, T}</i> in Base at <a href=\"https://github.com/JuliaLang/julia/tree/539f3ce943f59dec8aff3f2238b083f1b27f41e5/base/twiceprecision.jl#L577\" target=\"_blank\">twiceprecision.jl:577</a></li> <li> +(r1::<b>StepRangeLen{T,S,S1} where S1</b>, r2::<b>StepRangeLen{T,S,S1} where S1</b>)<i> where {T, S}</i> in Base at <a href=\"https://github.com/JuliaLang/julia/tree/539f3ce943f59dec8aff3f2238b083f1b27f41e5/base/range.jl#L1078\" target=\"_blank\">range.jl:1078</a></li> <li> +(r1::<b>Union{LinRange, OrdinalRange, StepRangeLen}</b>, r2::<b>Union{LinRange, OrdinalRange, StepRangeLen}</b>) in Base at <a href=\"https://github.com/JuliaLang/julia/tree/539f3ce943f59dec8aff3f2238b083f1b27f41e5/base/range.jl#L1071\" target=\"_blank\">range.jl:1071</a></li> <li> +(x::<b>Ptr</b>, y::<b>Integer</b>) in Base at <a href=\"https://github.com/JuliaLang/julia/tree/539f3ce943f59dec8aff3f2238b083f1b27f41e5/base/pointer.jl#L159\" target=\"_blank\">pointer.jl:159</a></li> <li> +(x::<b>Base.TwicePrecision</b>, y::<b>Number</b>) in Base at <a href=\"https://github.com/JuliaLang/julia/tree/539f3ce943f59dec8aff3f2238b083f1b27f41e5/base/twiceprecision.jl#L267\" target=\"_blank\">twiceprecision.jl:267</a></li> <li> +(x::<b>Number</b>, y::<b>Base.TwicePrecision</b>) in Base at <a href=\"https://github.com/JuliaLang/julia/tree/539f3ce943f59dec8aff3f2238b083f1b27f41e5/base/twiceprecision.jl#L271\" target=\"_blank\">twiceprecision.jl:271</a></li> <li> +(x::<b>Base.TwicePrecision{T}</b>, y::<b>Base.TwicePrecision{T}</b>)<i> where T</i> in Base at <a href=\"https://github.com/JuliaLang/julia/tree/539f3ce943f59dec8aff3f2238b083f1b27f41e5/base/twiceprecision.jl#L273\" target=\"_blank\">twiceprecision.jl:273</a></li> <li> +(x::<b>Base.TwicePrecision</b>, y::<b>Base.TwicePrecision</b>) in Base at <a href=\"https://github.com/JuliaLang/julia/tree/539f3ce943f59dec8aff3f2238b083f1b27f41e5/base/twiceprecision.jl#L278\" target=\"_blank\">twiceprecision.jl:278</a></li> <li> +(A::<b>Array</b>, Bs::<b>Array...</b>) in Base at <a href=\"https://github.com/JuliaLang/julia/tree/539f3ce943f59dec8aff3f2238b083f1b27f41e5/base/arraymath.jl#L43\" target=\"_blank\">arraymath.jl:43</a></li> <li> +(A::<b>BitArray</b>, B::<b>BitArray</b>) in Base at <a href=\"https://github.com/JuliaLang/julia/tree/539f3ce943f59dec8aff3f2238b083f1b27f41e5/base/bitarray.jl#L1110\" target=\"_blank\">bitarray.jl:1110</a></li> <li> +(r::<b>AbstractRange{var\"#s828\"} where var\"#s828\"<:Dates.TimeType</b>, x::<b>Dates.Period</b>) in Dates at <a href=\"file:///Users/julia/buildbot/worker/package_macos64/build/usr/share/julia/stdlib/v1.5/Dates/src/ranges.jl\" target=\"_blank\">/Applications/Julia-1.5.app/Contents/Resources/julia/share/julia/stdlib/v1.5/Dates/src/ranges.jl:59</a></li> <li> +(A::<b>Array</b>, B::<b>SparseArrays.AbstractSparseMatrixCSC</b>) in SparseArrays at <a href=\"file:///Users/julia/buildbot/worker/package_macos64/build/usr/share/julia/stdlib/v1.5/SparseArrays/src/sparsematrix.jl\" target=\"_blank\">/Applications/Julia-1.5.app/Contents/Resources/julia/share/julia/stdlib/v1.5/SparseArrays/src/sparsematrix.jl:1683</a></li> <li> +(x::<b>StridedArray{var\"#s828\", N} where N where var\"#s828\"<:Union{Dates.CompoundPeriod, Dates.Period}</b>) in Dates at <a href=\"file:///Users/julia/buildbot/worker/package_macos64/build/usr/share/julia/stdlib/v1.5/Dates/src/deprecated.jl\" target=\"_blank\">/Applications/Julia-1.5.app/Contents/Resources/julia/share/julia/stdlib/v1.5/Dates/src/deprecated.jl:55</a></li> <li> +(x::<b>StridedArray{var\"#s828\", N} where N where var\"#s828\"<:Union{Dates.CompoundPeriod, Dates.Period}</b>, y::<b>Dates.TimeType</b>) in Dates at <a href=\"file:///Users/julia/buildbot/worker/package_macos64/build/usr/share/julia/stdlib/v1.5/Dates/src/deprecated.jl\" target=\"_blank\">/Applications/Julia-1.5.app/Contents/Resources/julia/share/julia/stdlib/v1.5/Dates/src/deprecated.jl:10</a></li> <li> +(X::<b>StridedArray{var\"#s828\", N} where N where var\"#s828\"<:Union{Dates.CompoundPeriod, Dates.Period}</b>, Y::<b>StridedArray{var\"#s827\", N} where N where var\"#s827\"<:Union{Dates.CompoundPeriod, Dates.Period}</b>) in Dates at <a href=\"file:///Users/julia/buildbot/worker/package_macos64/build/usr/share/julia/stdlib/v1.5/Dates/src/deprecated.jl\" target=\"_blank\">/Applications/Julia-1.5.app/Contents/Resources/julia/share/julia/stdlib/v1.5/Dates/src/deprecated.jl:62</a></li> <li> +(A::<b>LinearAlgebra.SymTridiagonal</b>, B::<b>LinearAlgebra.SymTridiagonal</b>) in LinearAlgebra at <a href=\"file:///Users/julia/buildbot/worker/package_macos64/build/usr/share/julia/stdlib/v1.5/LinearAlgebra/src/tridiag.jl\" target=\"_blank\">/Applications/Julia-1.5.app/Contents/Resources/julia/share/julia/stdlib/v1.5/LinearAlgebra/src/tridiag.jl:205</a></li> <li> +(A::<b>LinearAlgebra.Tridiagonal</b>, B::<b>LinearAlgebra.Tridiagonal</b>) in LinearAlgebra at <a href=\"file:///Users/julia/buildbot/worker/package_macos64/build/usr/share/julia/stdlib/v1.5/LinearAlgebra/src/tridiag.jl\" target=\"_blank\">/Applications/Julia-1.5.app/Contents/Resources/julia/share/julia/stdlib/v1.5/LinearAlgebra/src/tridiag.jl:732</a></li> <li> +(A::<b>LinearAlgebra.UpperTriangular</b>, B::<b>LinearAlgebra.UpperTriangular</b>) in LinearAlgebra at <a href=\"file:///Users/julia/buildbot/worker/package_macos64/build/usr/share/julia/stdlib/v1.5/LinearAlgebra/src/triangular.jl\" target=\"_blank\">/Applications/Julia-1.5.app/Contents/Resources/julia/share/julia/stdlib/v1.5/LinearAlgebra/src/triangular.jl:659</a></li> <li> +(A::<b>LinearAlgebra.LowerTriangular</b>, B::<b>LinearAlgebra.LowerTriangular</b>) in LinearAlgebra at <a href=\"file:///Users/julia/buildbot/worker/package_macos64/build/usr/share/julia/stdlib/v1.5/LinearAlgebra/src/triangular.jl\" target=\"_blank\">/Applications/Julia-1.5.app/Contents/Resources/julia/share/julia/stdlib/v1.5/LinearAlgebra/src/triangular.jl:660</a></li> <li> +(A::<b>LinearAlgebra.UpperTriangular</b>, B::<b>LinearAlgebra.UnitUpperTriangular</b>) in LinearAlgebra at <a href=\"file:///Users/julia/buildbot/worker/package_macos64/build/usr/share/julia/stdlib/v1.5/LinearAlgebra/src/triangular.jl\" target=\"_blank\">/Applications/Julia-1.5.app/Contents/Resources/julia/share/julia/stdlib/v1.5/LinearAlgebra/src/triangular.jl:661</a></li> <li> +(A::<b>LinearAlgebra.LowerTriangular</b>, B::<b>LinearAlgebra.UnitLowerTriangular</b>) in LinearAlgebra at <a href=\"file:///Users/julia/buildbot/worker/package_macos64/build/usr/share/julia/stdlib/v1.5/LinearAlgebra/src/triangular.jl\" target=\"_blank\">/Applications/Julia-1.5.app/Contents/Resources/julia/share/julia/stdlib/v1.5/LinearAlgebra/src/triangular.jl:662</a></li> <li> +(A::<b>LinearAlgebra.UnitUpperTriangular</b>, B::<b>LinearAlgebra.UpperTriangular</b>) in LinearAlgebra at <a href=\"file:///Users/julia/buildbot/worker/package_macos64/build/usr/share/julia/stdlib/v1.5/LinearAlgebra/src/triangular.jl\" target=\"_blank\">/Applications/Julia-1.5.app/Contents/Resources/julia/share/julia/stdlib/v1.5/LinearAlgebra/src/triangular.jl:663</a></li> <li> +(A::<b>LinearAlgebra.UnitLowerTriangular</b>, B::<b>LinearAlgebra.LowerTriangular</b>) in LinearAlgebra at <a href=\"file:///Users/julia/buildbot/worker/package_macos64/build/usr/share/julia/stdlib/v1.5/LinearAlgebra/src/triangular.jl\" target=\"_blank\">/Applications/Julia-1.5.app/Contents/Resources/julia/share/julia/stdlib/v1.5/LinearAlgebra/src/triangular.jl:664</a></li> <li> +(A::<b>LinearAlgebra.UnitUpperTriangular</b>, B::<b>LinearAlgebra.UnitUpperTriangular</b>) in LinearAlgebra at <a href=\"file:///Users/julia/buildbot/worker/package_macos64/build/usr/share/julia/stdlib/v1.5/LinearAlgebra/src/triangular.jl\" target=\"_blank\">/Applications/Julia-1.5.app/Contents/Resources/julia/share/julia/stdlib/v1.5/LinearAlgebra/src/triangular.jl:665</a></li> <li> +(A::<b>LinearAlgebra.UnitLowerTriangular</b>, B::<b>LinearAlgebra.UnitLowerTriangular</b>) in LinearAlgebra at <a href=\"file:///Users/julia/buildbot/worker/package_macos64/build/usr/share/julia/stdlib/v1.5/LinearAlgebra/src/triangular.jl\" target=\"_blank\">/Applications/Julia-1.5.app/Contents/Resources/julia/share/julia/stdlib/v1.5/LinearAlgebra/src/triangular.jl:666</a></li> <li> +(A::<b>LinearAlgebra.AbstractTriangular</b>, B::<b>LinearAlgebra.AbstractTriangular</b>) in LinearAlgebra at <a href=\"file:///Users/julia/buildbot/worker/package_macos64/build/usr/share/julia/stdlib/v1.5/LinearAlgebra/src/triangular.jl\" target=\"_blank\">/Applications/Julia-1.5.app/Contents/Resources/julia/share/julia/stdlib/v1.5/LinearAlgebra/src/triangular.jl:667</a></li> <li> +(A::<b>LinearAlgebra.Hermitian</b>, B::<b>LinearAlgebra.Hermitian</b>) in LinearAlgebra at <a href=\"file:///Users/julia/buildbot/worker/package_macos64/build/usr/share/julia/stdlib/v1.5/LinearAlgebra/src/symmetric.jl\" target=\"_blank\">/Applications/Julia-1.5.app/Contents/Resources/julia/share/julia/stdlib/v1.5/LinearAlgebra/src/symmetric.jl:466</a></li> <li> +(A::<b>LinearAlgebra.Symmetric</b>, B::<b>LinearAlgebra.Symmetric</b>) in LinearAlgebra at <a href=\"file:///Users/julia/buildbot/worker/package_macos64/build/usr/share/julia/stdlib/v1.5/LinearAlgebra/src/symmetric.jl\" target=\"_blank\">/Applications/Julia-1.5.app/Contents/Resources/julia/share/julia/stdlib/v1.5/LinearAlgebra/src/symmetric.jl:466</a></li> <li> +(A::<b>LinearAlgebra.Hermitian{var\"#s816\",var\"#s815\"} where var\"#s815\"<:(SparseArrays.AbstractSparseArray{Tv,Ti,2} where Ti where Tv) where var\"#s816\"</b>, B::<b>LinearAlgebra.Symmetric{var\"#s814\",var\"#s813\"} where var\"#s813\"<:(SparseArrays.AbstractSparseArray{Tv,Ti,2} where Ti where Tv) where var\"#s814\"<:Real</b>) in SparseArrays at <a href=\"file:///Users/julia/buildbot/worker/package_macos64/build/usr/share/julia/stdlib/v1.5/SparseArrays/src/linalg.jl\" target=\"_blank\">/Applications/Julia-1.5.app/Contents/Resources/julia/share/julia/stdlib/v1.5/SparseArrays/src/linalg.jl:24</a></li> <li> +(A::<b>LinearAlgebra.Hermitian</b>, B::<b>LinearAlgebra.Symmetric{var\"#s828\",S} where S<:(AbstractArray{var\"#s8281\",2} where var\"#s8281\"<:var\"#s828\") where var\"#s828\"<:Real</b>) in LinearAlgebra at <a href=\"file:///Users/julia/buildbot/worker/package_macos64/build/usr/share/julia/stdlib/v1.5/LinearAlgebra/src/symmetric.jl\" target=\"_blank\">/Applications/Julia-1.5.app/Contents/Resources/julia/share/julia/stdlib/v1.5/LinearAlgebra/src/symmetric.jl:480</a></li> <li> +(A::<b>LinearAlgebra.Symmetric{var\"#s820\",var\"#s819\"} where var\"#s819\"<:(SparseArrays.AbstractSparseArray{Tv,Ti,2} where Ti where Tv) where var\"#s820\"<:Real</b>, B::<b>LinearAlgebra.Hermitian{var\"#s818\",var\"#s817\"} where var\"#s817\"<:(SparseArrays.AbstractSparseArray{Tv,Ti,2} where Ti where Tv) where var\"#s818\"</b>) in SparseArrays at <a href=\"file:///Users/julia/buildbot/worker/package_macos64/build/usr/share/julia/stdlib/v1.5/SparseArrays/src/linalg.jl\" target=\"_blank\">/Applications/Julia-1.5.app/Contents/Resources/julia/share/julia/stdlib/v1.5/SparseArrays/src/linalg.jl:23</a></li> <li> +(A::<b>LinearAlgebra.Symmetric{var\"#s827\",S} where S<:(AbstractArray{var\"#s828\",2} where var\"#s828\"<:var\"#s827\") where var\"#s827\"<:Real</b>, B::<b>LinearAlgebra.Hermitian</b>) in LinearAlgebra at <a href=\"file:///Users/julia/buildbot/worker/package_macos64/build/usr/share/julia/stdlib/v1.5/LinearAlgebra/src/symmetric.jl\" target=\"_blank\">/Applications/Julia-1.5.app/Contents/Resources/julia/share/julia/stdlib/v1.5/LinearAlgebra/src/symmetric.jl:481</a></li> <li> +(Da::<b>LinearAlgebra.Diagonal</b>, Db::<b>LinearAlgebra.Diagonal</b>) in LinearAlgebra at <a href=\"file:///Users/julia/buildbot/worker/package_macos64/build/usr/share/julia/stdlib/v1.5/LinearAlgebra/src/diagonal.jl\" target=\"_blank\">/Applications/Julia-1.5.app/Contents/Resources/julia/share/julia/stdlib/v1.5/LinearAlgebra/src/diagonal.jl:156</a></li> <li> +(D::<b>LinearAlgebra.Diagonal</b>, S::<b>LinearAlgebra.Symmetric</b>) in LinearAlgebra at <a href=\"file:///Users/julia/buildbot/worker/package_macos64/build/usr/share/julia/stdlib/v1.5/LinearAlgebra/src/diagonal.jl\" target=\"_blank\">/Applications/Julia-1.5.app/Contents/Resources/julia/share/julia/stdlib/v1.5/LinearAlgebra/src/diagonal.jl:160</a></li> <li> +(S::<b>LinearAlgebra.Symmetric</b>, D::<b>LinearAlgebra.Diagonal</b>) in LinearAlgebra at <a href=\"file:///Users/julia/buildbot/worker/package_macos64/build/usr/share/julia/stdlib/v1.5/LinearAlgebra/src/diagonal.jl\" target=\"_blank\">/Applications/Julia-1.5.app/Contents/Resources/julia/share/julia/stdlib/v1.5/LinearAlgebra/src/diagonal.jl:163</a></li> <li> +(D::<b>LinearAlgebra.Diagonal{var\"#s828\",V} where V<:AbstractArray{var\"#s828\",1} where var\"#s828\"<:Real</b>, H::<b>LinearAlgebra.Hermitian</b>) in LinearAlgebra at <a href=\"file:///Users/julia/buildbot/worker/package_macos64/build/usr/share/julia/stdlib/v1.5/LinearAlgebra/src/diagonal.jl\" target=\"_blank\">/Applications/Julia-1.5.app/Contents/Resources/julia/share/julia/stdlib/v1.5/LinearAlgebra/src/diagonal.jl:166</a></li> <li> +(H::<b>LinearAlgebra.Hermitian</b>, D::<b>LinearAlgebra.Diagonal{var\"#s828\",V} where V<:AbstractArray{var\"#s828\",1} where var\"#s828\"<:Real</b>) in LinearAlgebra at <a href=\"file:///Users/julia/buildbot/worker/package_macos64/build/usr/share/julia/stdlib/v1.5/LinearAlgebra/src/diagonal.jl\" target=\"_blank\">/Applications/Julia-1.5.app/Contents/Resources/julia/share/julia/stdlib/v1.5/LinearAlgebra/src/diagonal.jl:169</a></li> <li> +(A::<b>LinearAlgebra.Bidiagonal</b>, B::<b>LinearAlgebra.Bidiagonal</b>) in LinearAlgebra at <a href=\"file:///Users/julia/buildbot/worker/package_macos64/build/usr/share/julia/stdlib/v1.5/LinearAlgebra/src/bidiag.jl\" target=\"_blank\">/Applications/Julia-1.5.app/Contents/Resources/julia/share/julia/stdlib/v1.5/LinearAlgebra/src/bidiag.jl:347</a></li> <li> +(UL::<b>LinearAlgebra.UnitUpperTriangular</b>, J::<b>LinearAlgebra.UniformScaling</b>) in LinearAlgebra at <a href=\"file:///Users/julia/buildbot/worker/package_macos64/build/usr/share/julia/stdlib/v1.5/LinearAlgebra/src/uniformscaling.jl\" target=\"_blank\">/Applications/Julia-1.5.app/Contents/Resources/julia/share/julia/stdlib/v1.5/LinearAlgebra/src/uniformscaling.jl:147</a></li> <li> +(UL::<b>LinearAlgebra.UnitLowerTriangular</b>, J::<b>LinearAlgebra.UniformScaling</b>) in LinearAlgebra at <a href=\"file:///Users/julia/buildbot/worker/package_macos64/build/usr/share/julia/stdlib/v1.5/LinearAlgebra/src/uniformscaling.jl\" target=\"_blank\">/Applications/Julia-1.5.app/Contents/Resources/julia/share/julia/stdlib/v1.5/LinearAlgebra/src/uniformscaling.jl:147</a></li> <li> +(A::<b>LinearAlgebra.Hermitian</b>, J::<b>LinearAlgebra.UniformScaling{var\"#s828\"} where var\"#s828\"<:Complex</b>) in LinearAlgebra at <a href=\"file:///Users/julia/buildbot/worker/package_macos64/build/usr/share/julia/stdlib/v1.5/LinearAlgebra/src/uniformscaling.jl\" target=\"_blank\">/Applications/Julia-1.5.app/Contents/Resources/julia/share/julia/stdlib/v1.5/LinearAlgebra/src/uniformscaling.jl:161</a></li> <li> +(H::<b>LinearAlgebra.UpperHessenberg</b>, J::<b>LinearAlgebra.UniformScaling</b>) in LinearAlgebra at <a href=\"file:///Users/julia/buildbot/worker/package_macos64/build/usr/share/julia/stdlib/v1.5/LinearAlgebra/src/hessenberg.jl\" target=\"_blank\">/Applications/Julia-1.5.app/Contents/Resources/julia/share/julia/stdlib/v1.5/LinearAlgebra/src/hessenberg.jl:106</a></li> <li> +(A::<b>LinearAlgebra.Tridiagonal{var\"#s828\",V} where V<:AbstractArray{var\"#s828\",1} where var\"#s828\"<:Number</b>, B::<b>LinearAlgebra.UniformScaling</b>) in LinearAlgebra at <a href=\"file:///Users/julia/buildbot/worker/package_macos64/build/usr/share/julia/stdlib/v1.5/LinearAlgebra/src/special.jl\" target=\"_blank\">/Applications/Julia-1.5.app/Contents/Resources/julia/share/julia/stdlib/v1.5/LinearAlgebra/src/special.jl:226</a></li> <li> +(A::<b>LinearAlgebra.SymTridiagonal{var\"#s828\",V} where V<:AbstractArray{var\"#s828\",1} where var\"#s828\"<:Number</b>, B::<b>LinearAlgebra.UniformScaling</b>) in LinearAlgebra at <a href=\"file:///Users/julia/buildbot/worker/package_macos64/build/usr/share/julia/stdlib/v1.5/LinearAlgebra/src/special.jl\" target=\"_blank\">/Applications/Julia-1.5.app/Contents/Resources/julia/share/julia/stdlib/v1.5/LinearAlgebra/src/special.jl:231</a></li> <li> +(A::<b>LinearAlgebra.Bidiagonal{var\"#s828\",V} where V<:AbstractArray{var\"#s828\",1} where var\"#s828\"<:Number</b>, B::<b>LinearAlgebra.UniformScaling</b>) in LinearAlgebra at <a href=\"file:///Users/julia/buildbot/worker/package_macos64/build/usr/share/julia/stdlib/v1.5/LinearAlgebra/src/special.jl\" target=\"_blank\">/Applications/Julia-1.5.app/Contents/Resources/julia/share/julia/stdlib/v1.5/LinearAlgebra/src/special.jl:236</a></li> <li> +(A::<b>LinearAlgebra.Diagonal{var\"#s828\",V} where V<:AbstractArray{var\"#s828\",1} where var\"#s828\"<:Number</b>, B::<b>LinearAlgebra.UniformScaling</b>) in LinearAlgebra at <a href=\"file:///Users/julia/buildbot/worker/package_macos64/build/usr/share/julia/stdlib/v1.5/LinearAlgebra/src/special.jl\" target=\"_blank\">/Applications/Julia-1.5.app/Contents/Resources/julia/share/julia/stdlib/v1.5/LinearAlgebra/src/special.jl:241</a></li> <li> +(A::<b>SparseArrays.AbstractSparseMatrixCSC</b>, J::<b>LinearAlgebra.UniformScaling</b>) in SparseArrays at <a href=\"file:///Users/julia/buildbot/worker/package_macos64/build/usr/share/julia/stdlib/v1.5/SparseArrays/src/sparsematrix.jl\" target=\"_blank\">/Applications/Julia-1.5.app/Contents/Resources/julia/share/julia/stdlib/v1.5/SparseArrays/src/sparsematrix.jl:3641</a></li> <li> +(a::<b>StaticArrays.StaticArray{Tuple{N,M},T,2} where T where M where N</b>, b::<b>LinearAlgebra.UniformScaling</b>) in StaticArrays at <a href=\"file:///Users/ap/.julia/packages/StaticArrays/l7lu2/src/linalg.jl\" target=\"_blank\">/Users/ap/.julia/packages/StaticArrays/l7lu2/src/linalg.jl:28</a></li> <li> +(A::<b>AbstractArray{T,2} where T</b>, J::<b>LinearAlgebra.UniformScaling</b>) in LinearAlgebra at <a href=\"file:///Users/julia/buildbot/worker/package_macos64/build/usr/share/julia/stdlib/v1.5/LinearAlgebra/src/uniformscaling.jl\" target=\"_blank\">/Applications/Julia-1.5.app/Contents/Resources/julia/share/julia/stdlib/v1.5/LinearAlgebra/src/uniformscaling.jl:180</a></li> <li> +(A::<b>LinearAlgebra.UpperHessenberg</b>, B::<b>LinearAlgebra.UpperHessenberg</b>) in LinearAlgebra at <a href=\"file:///Users/julia/buildbot/worker/package_macos64/build/usr/share/julia/stdlib/v1.5/LinearAlgebra/src/hessenberg.jl\" target=\"_blank\">/Applications/Julia-1.5.app/Contents/Resources/julia/share/julia/stdlib/v1.5/LinearAlgebra/src/hessenberg.jl:101</a></li> <li> +(A::<b>LinearAlgebra.UpperTriangular</b>, B::<b>LinearAlgebra.Bidiagonal</b>) in LinearAlgebra at <a href=\"file:///Users/julia/buildbot/worker/package_macos64/build/usr/share/julia/stdlib/v1.5/LinearAlgebra/src/special.jl\" target=\"_blank\">/Applications/Julia-1.5.app/Contents/Resources/julia/share/julia/stdlib/v1.5/LinearAlgebra/src/special.jl:86</a></li> <li> +(A::<b>LinearAlgebra.Bidiagonal</b>, B::<b>LinearAlgebra.UpperTriangular</b>) in LinearAlgebra at <a href=\"file:///Users/julia/buildbot/worker/package_macos64/build/usr/share/julia/stdlib/v1.5/LinearAlgebra/src/special.jl\" target=\"_blank\">/Applications/Julia-1.5.app/Contents/Resources/julia/share/julia/stdlib/v1.5/LinearAlgebra/src/special.jl:94</a></li> <li> +(A::<b>LinearAlgebra.UnitUpperTriangular</b>, B::<b>LinearAlgebra.Bidiagonal</b>) in LinearAlgebra at <a href=\"file:///Users/julia/buildbot/worker/package_macos64/build/usr/share/julia/stdlib/v1.5/LinearAlgebra/src/special.jl\" target=\"_blank\">/Applications/Julia-1.5.app/Contents/Resources/julia/share/julia/stdlib/v1.5/LinearAlgebra/src/special.jl:86</a></li> <li> +(A::<b>LinearAlgebra.Bidiagonal</b>, B::<b>LinearAlgebra.UnitUpperTriangular</b>) in LinearAlgebra at <a href=\"file:///Users/julia/buildbot/worker/package_macos64/build/usr/share/julia/stdlib/v1.5/LinearAlgebra/src/special.jl\" target=\"_blank\">/Applications/Julia-1.5.app/Contents/Resources/julia/share/julia/stdlib/v1.5/LinearAlgebra/src/special.jl:94</a></li> <li> +(A::<b>LinearAlgebra.LowerTriangular</b>, B::<b>LinearAlgebra.Bidiagonal</b>) in LinearAlgebra at <a href=\"file:///Users/julia/buildbot/worker/package_macos64/build/usr/share/julia/stdlib/v1.5/LinearAlgebra/src/special.jl\" target=\"_blank\">/Applications/Julia-1.5.app/Contents/Resources/julia/share/julia/stdlib/v1.5/LinearAlgebra/src/special.jl:86</a></li> <li> +(A::<b>LinearAlgebra.Bidiagonal</b>, B::<b>LinearAlgebra.LowerTriangular</b>) in LinearAlgebra at <a href=\"file:///Users/julia/buildbot/worker/package_macos64/build/usr/share/julia/stdlib/v1.5/LinearAlgebra/src/special.jl\" target=\"_blank\">/Applications/Julia-1.5.app/Contents/Resources/julia/share/julia/stdlib/v1.5/LinearAlgebra/src/special.jl:94</a></li> <li> +(A::<b>LinearAlgebra.UnitLowerTriangular</b>, B::<b>LinearAlgebra.Bidiagonal</b>) in LinearAlgebra at <a href=\"file:///Users/julia/buildbot/worker/package_macos64/build/usr/share/julia/stdlib/v1.5/LinearAlgebra/src/special.jl\" target=\"_blank\">/Applications/Julia-1.5.app/Contents/Resources/julia/share/julia/stdlib/v1.5/LinearAlgebra/src/special.jl:86</a></li> <li> +(A::<b>LinearAlgebra.Bidiagonal</b>, B::<b>LinearAlgebra.UnitLowerTriangular</b>) in LinearAlgebra at <a href=\"file:///Users/julia/buildbot/worker/package_macos64/build/usr/share/julia/stdlib/v1.5/LinearAlgebra/src/special.jl\" target=\"_blank\">/Applications/Julia-1.5.app/Contents/Resources/julia/share/julia/stdlib/v1.5/LinearAlgebra/src/special.jl:94</a></li> <li> +(A::<b>LinearAlgebra.Bidiagonal</b>, B::<b>LinearAlgebra.Diagonal</b>) in LinearAlgebra at <a href=\"file:///Users/julia/buildbot/worker/package_macos64/build/usr/share/julia/stdlib/v1.5/LinearAlgebra/src/special.jl\" target=\"_blank\">/Applications/Julia-1.5.app/Contents/Resources/julia/share/julia/stdlib/v1.5/LinearAlgebra/src/special.jl:115</a></li> <li> +(A::<b>LinearAlgebra.Diagonal</b>, B::<b>LinearAlgebra.Bidiagonal</b>) in LinearAlgebra at <a href=\"file:///Users/julia/buildbot/worker/package_macos64/build/usr/share/julia/stdlib/v1.5/LinearAlgebra/src/special.jl\" target=\"_blank\">/Applications/Julia-1.5.app/Contents/Resources/julia/share/julia/stdlib/v1.5/LinearAlgebra/src/special.jl:125</a></li> <li> +(A::<b>LinearAlgebra.Diagonal</b>, B::<b>LinearAlgebra.SymTridiagonal</b>) in LinearAlgebra at <a href=\"file:///Users/julia/buildbot/worker/package_macos64/build/usr/share/julia/stdlib/v1.5/LinearAlgebra/src/special.jl\" target=\"_blank\">/Applications/Julia-1.5.app/Contents/Resources/julia/share/julia/stdlib/v1.5/LinearAlgebra/src/special.jl:135</a></li> <li> +(A::<b>LinearAlgebra.SymTridiagonal</b>, B::<b>LinearAlgebra.Diagonal</b>) in LinearAlgebra at <a href=\"file:///Users/julia/buildbot/worker/package_macos64/build/usr/share/julia/stdlib/v1.5/LinearAlgebra/src/special.jl\" target=\"_blank\">/Applications/Julia-1.5.app/Contents/Resources/julia/share/julia/stdlib/v1.5/LinearAlgebra/src/special.jl:145</a></li> <li> +(A::<b>LinearAlgebra.Tridiagonal</b>, B::<b>LinearAlgebra.SymTridiagonal</b>) in LinearAlgebra at <a href=\"file:///Users/julia/buildbot/worker/package_macos64/build/usr/share/julia/stdlib/v1.5/LinearAlgebra/src/special.jl\" target=\"_blank\">/Applications/Julia-1.5.app/Contents/Resources/julia/share/julia/stdlib/v1.5/LinearAlgebra/src/special.jl:157</a></li> <li> +(A::<b>LinearAlgebra.SymTridiagonal</b>, B::<b>LinearAlgebra.Tridiagonal</b>) in LinearAlgebra at <a href=\"file:///Users/julia/buildbot/worker/package_macos64/build/usr/share/julia/stdlib/v1.5/LinearAlgebra/src/special.jl\" target=\"_blank\">/Applications/Julia-1.5.app/Contents/Resources/julia/share/julia/stdlib/v1.5/LinearAlgebra/src/special.jl:159</a></li> <li> +(A::<b>LinearAlgebra.Diagonal</b>, B::<b>LinearAlgebra.Tridiagonal</b>) in LinearAlgebra at <a href=\"file:///Users/julia/buildbot/worker/package_macos64/build/usr/share/julia/stdlib/v1.5/LinearAlgebra/src/special.jl\" target=\"_blank\">/Applications/Julia-1.5.app/Contents/Resources/julia/share/julia/stdlib/v1.5/LinearAlgebra/src/special.jl:163</a></li> <li> +(A::<b>LinearAlgebra.Tridiagonal</b>, B::<b>LinearAlgebra.Diagonal</b>) in LinearAlgebra at <a href=\"file:///Users/julia/buildbot/worker/package_macos64/build/usr/share/julia/stdlib/v1.5/LinearAlgebra/src/special.jl\" target=\"_blank\">/Applications/Julia-1.5.app/Contents/Resources/julia/share/julia/stdlib/v1.5/LinearAlgebra/src/special.jl:173</a></li> <li> +(A::<b>LinearAlgebra.Bidiagonal</b>, B::<b>LinearAlgebra.Tridiagonal</b>) in LinearAlgebra at <a href=\"file:///Users/julia/buildbot/worker/package_macos64/build/usr/share/julia/stdlib/v1.5/LinearAlgebra/src/special.jl\" target=\"_blank\">/Applications/Julia-1.5.app/Contents/Resources/julia/share/julia/stdlib/v1.5/LinearAlgebra/src/special.jl:183</a></li> <li> +(A::<b>LinearAlgebra.Tridiagonal</b>, B::<b>LinearAlgebra.Bidiagonal</b>) in LinearAlgebra at <a href=\"file:///Users/julia/buildbot/worker/package_macos64/build/usr/share/julia/stdlib/v1.5/LinearAlgebra/src/special.jl\" target=\"_blank\">/Applications/Julia-1.5.app/Contents/Resources/julia/share/julia/stdlib/v1.5/LinearAlgebra/src/special.jl:193</a></li> <li> +(A::<b>LinearAlgebra.Bidiagonal</b>, B::<b>LinearAlgebra.SymTridiagonal</b>) in LinearAlgebra at <a href=\"file:///Users/julia/buildbot/worker/package_macos64/build/usr/share/julia/stdlib/v1.5/LinearAlgebra/src/special.jl\" target=\"_blank\">/Applications/Julia-1.5.app/Contents/Resources/julia/share/julia/stdlib/v1.5/LinearAlgebra/src/special.jl:203</a></li> <li> +(A::<b>LinearAlgebra.SymTridiagonal</b>, B::<b>LinearAlgebra.Bidiagonal</b>) in LinearAlgebra at <a href=\"file:///Users/julia/buildbot/worker/package_macos64/build/usr/share/julia/stdlib/v1.5/LinearAlgebra/src/special.jl\" target=\"_blank\">/Applications/Julia-1.5.app/Contents/Resources/julia/share/julia/stdlib/v1.5/LinearAlgebra/src/special.jl:213</a></li> <li> +(A::<b>SparseArrays.AbstractSparseMatrixCSC</b>, B::<b>SparseArrays.AbstractSparseMatrixCSC</b>) in SparseArrays at <a href=\"file:///Users/julia/buildbot/worker/package_macos64/build/usr/share/julia/stdlib/v1.5/SparseArrays/src/sparsematrix.jl\" target=\"_blank\">/Applications/Julia-1.5.app/Contents/Resources/julia/share/julia/stdlib/v1.5/SparseArrays/src/sparsematrix.jl:1679</a></li> <li> +(A::<b>SparseArrays.AbstractSparseMatrixCSC</b>, B::<b>Array</b>) in SparseArrays at <a href=\"file:///Users/julia/buildbot/worker/package_macos64/build/usr/share/julia/stdlib/v1.5/SparseArrays/src/sparsematrix.jl\" target=\"_blank\">/Applications/Julia-1.5.app/Contents/Resources/julia/share/julia/stdlib/v1.5/SparseArrays/src/sparsematrix.jl:1682</a></li> <li> +(x::<b>SparseArrays.AbstractSparseArray{Tv,Ti,1} where Ti where Tv</b>, y::<b>SparseArrays.AbstractSparseArray{Tv,Ti,1} where Ti where Tv</b>) in SparseArrays at <a href=\"file:///Users/julia/buildbot/worker/package_macos64/build/usr/share/julia/stdlib/v1.5/SparseArrays/src/sparsevector.jl\" target=\"_blank\">/Applications/Julia-1.5.app/Contents/Resources/julia/share/julia/stdlib/v1.5/SparseArrays/src/sparsevector.jl:1302</a></li> <li> +(A::<b>SparseArrays.AbstractSparseArray{Tv,Ti,2} where Ti where Tv</b>, B::<b>LinearAlgebra.Hermitian{var\"#s828\",var\"#s827\"} where var\"#s827\"<:(SparseArrays.AbstractSparseArray{Tv,Ti,2} where Ti where Tv) where var\"#s828\"</b>) in SparseArrays at <a href=\"file:///Users/julia/buildbot/worker/package_macos64/build/usr/share/julia/stdlib/v1.5/SparseArrays/src/linalg.jl\" target=\"_blank\">/Applications/Julia-1.5.app/Contents/Resources/julia/share/julia/stdlib/v1.5/SparseArrays/src/linalg.jl:12</a></li> <li> +(A::<b>LinearAlgebra.Hermitian{var\"#s826\",var\"#s825\"} where var\"#s825\"<:(SparseArrays.AbstractSparseArray{Tv,Ti,2} where Ti where Tv) where var\"#s826\"</b>, B::<b>SparseArrays.AbstractSparseArray{Tv,Ti,2} where Ti where Tv</b>) in SparseArrays at <a href=\"file:///Users/julia/buildbot/worker/package_macos64/build/usr/share/julia/stdlib/v1.5/SparseArrays/src/linalg.jl\" target=\"_blank\">/Applications/Julia-1.5.app/Contents/Resources/julia/share/julia/stdlib/v1.5/SparseArrays/src/linalg.jl:13</a></li> <li> +(A::<b>SparseArrays.AbstractSparseArray{Tv,Ti,2} where Ti where Tv</b>, B::<b>LinearAlgebra.Hermitian</b>) in SparseArrays at <a href=\"file:///Users/julia/buildbot/worker/package_macos64/build/usr/share/julia/stdlib/v1.5/SparseArrays/src/linalg.jl\" target=\"_blank\">/Applications/Julia-1.5.app/Contents/Resources/julia/share/julia/stdlib/v1.5/SparseArrays/src/linalg.jl:15</a></li> <li> +(A::<b>LinearAlgebra.Hermitian</b>, B::<b>SparseArrays.AbstractSparseArray{Tv,Ti,2} where Ti where Tv</b>) in SparseArrays at <a href=\"file:///Users/julia/buildbot/worker/package_macos64/build/usr/share/julia/stdlib/v1.5/SparseArrays/src/linalg.jl\" target=\"_blank\">/Applications/Julia-1.5.app/Contents/Resources/julia/share/julia/stdlib/v1.5/SparseArrays/src/linalg.jl:16</a></li> <li> +(A::<b>SparseArrays.AbstractSparseArray{Tv,Ti,2} where Ti where Tv</b>, B::<b>LinearAlgebra.Symmetric{var\"#s828\",var\"#s827\"} where var\"#s827\"<:(SparseArrays.AbstractSparseArray{Tv,Ti,2} where Ti where Tv) where var\"#s828\"</b>) in SparseArrays at <a href=\"file:///Users/julia/buildbot/worker/package_macos64/build/usr/share/julia/stdlib/v1.5/SparseArrays/src/linalg.jl\" target=\"_blank\">/Applications/Julia-1.5.app/Contents/Resources/julia/share/julia/stdlib/v1.5/SparseArrays/src/linalg.jl:12</a></li> <li> +(A::<b>LinearAlgebra.Symmetric{var\"#s826\",var\"#s825\"} where var\"#s825\"<:(SparseArrays.AbstractSparseArray{Tv,Ti,2} where Ti where Tv) where var\"#s826\"</b>, B::<b>SparseArrays.AbstractSparseArray{Tv,Ti,2} where Ti where Tv</b>) in SparseArrays at <a href=\"file:///Users/julia/buildbot/worker/package_macos64/build/usr/share/julia/stdlib/v1.5/SparseArrays/src/linalg.jl\" target=\"_blank\">/Applications/Julia-1.5.app/Contents/Resources/julia/share/julia/stdlib/v1.5/SparseArrays/src/linalg.jl:13</a></li> <li> +(A::<b>SparseArrays.AbstractSparseArray{Tv,Ti,2} where Ti where Tv</b>, B::<b>LinearAlgebra.Symmetric</b>) in SparseArrays at <a href=\"file:///Users/julia/buildbot/worker/package_macos64/build/usr/share/julia/stdlib/v1.5/SparseArrays/src/linalg.jl\" target=\"_blank\">/Applications/Julia-1.5.app/Contents/Resources/julia/share/julia/stdlib/v1.5/SparseArrays/src/linalg.jl:15</a></li> <li> +(A::<b>LinearAlgebra.Symmetric</b>, B::<b>SparseArrays.AbstractSparseArray{Tv,Ti,2} where Ti where Tv</b>) in SparseArrays at <a href=\"file:///Users/julia/buildbot/worker/package_macos64/build/usr/share/julia/stdlib/v1.5/SparseArrays/src/linalg.jl\" target=\"_blank\">/Applications/Julia-1.5.app/Contents/Resources/julia/share/julia/stdlib/v1.5/SparseArrays/src/linalg.jl:16</a></li> <li> +(A::<b>LinearAlgebra.Symmetric{var\"#s828\",var\"#s827\"} where var\"#s827\"<:(SparseArrays.AbstractSparseArray{Tv,Ti,2} where Ti where Tv) where var\"#s828\"</b>, B::<b>LinearAlgebra.Hermitian{var\"#s826\",var\"#s825\"} where var\"#s825\"<:(SparseArrays.AbstractSparseArray{Tv,Ti,2} where Ti where Tv) where var\"#s826\"</b>) in SparseArrays at <a href=\"file:///Users/julia/buildbot/worker/package_macos64/build/usr/share/julia/stdlib/v1.5/SparseArrays/src/linalg.jl\" target=\"_blank\">/Applications/Julia-1.5.app/Contents/Resources/julia/share/julia/stdlib/v1.5/SparseArrays/src/linalg.jl:21</a></li> <li> +(A::<b>LinearAlgebra.Hermitian{var\"#s824\",var\"#s823\"} where var\"#s823\"<:(SparseArrays.AbstractSparseArray{Tv,Ti,2} where Ti where Tv) where var\"#s824\"</b>, B::<b>LinearAlgebra.Symmetric{var\"#s822\",var\"#s821\"} where var\"#s821\"<:(SparseArrays.AbstractSparseArray{Tv,Ti,2} where Ti where Tv) where var\"#s822\"</b>) in SparseArrays at <a href=\"file:///Users/julia/buildbot/worker/package_macos64/build/usr/share/julia/stdlib/v1.5/SparseArrays/src/linalg.jl\" target=\"_blank\">/Applications/Julia-1.5.app/Contents/Resources/julia/share/julia/stdlib/v1.5/SparseArrays/src/linalg.jl:22</a></li> <li> +(a::<b>StaticArrays.StaticArray</b>, b::<b>StaticArrays.StaticArray</b>) in StaticArrays at <a href=\"file:///Users/ap/.julia/packages/StaticArrays/l7lu2/src/linalg.jl\" target=\"_blank\">/Users/ap/.julia/packages/StaticArrays/l7lu2/src/linalg.jl:11</a></li> <li> +(a::<b>StaticArrays.StaticArray</b>, b::<b>AbstractArray</b>) in StaticArrays at <a href=\"file:///Users/ap/.julia/packages/StaticArrays/l7lu2/src/linalg.jl\" target=\"_blank\">/Users/ap/.julia/packages/StaticArrays/l7lu2/src/linalg.jl:13</a></li> <li> +(a::<b>StaticArrays.SHermitianCompact</b>, b::<b>Number</b>) in StaticArrays at <a href=\"file:///Applications/Julia-1.5.app/Contents/Resources/julia/bin/../share/julia/base/deprecated.jl\" target=\"_blank\">deprecated.jl:70</a></li> <li> +(a::<b>StaticArrays.StaticArray</b>, b::<b>Number</b>) in StaticArrays at <a href=\"file:///Applications/Julia-1.5.app/Contents/Resources/julia/bin/../share/julia/base/deprecated.jl\" target=\"_blank\">deprecated.jl:70</a></li> <li> +(x::<b>AbstractArray{var\"#s91\",N} where N where var\"#s91\"<:Number</b>) in Base at <a href=\"https://github.com/JuliaLang/julia/tree/539f3ce943f59dec8aff3f2238b083f1b27f41e5/base/abstractarraymath.jl#L97\" target=\"_blank\">abstractarraymath.jl:97</a></li> <li> +(a::<b>AbstractArray</b>, b::<b>StaticArrays.StaticArray</b>) in StaticArrays at <a href=\"file:///Users/ap/.julia/packages/StaticArrays/l7lu2/src/linalg.jl\" target=\"_blank\">/Users/ap/.julia/packages/StaticArrays/l7lu2/src/linalg.jl:12</a></li> <li> +(A::<b>AbstractArray</b>, B::<b>AbstractArray</b>) in Base at <a href=\"https://github.com/JuliaLang/julia/tree/539f3ce943f59dec8aff3f2238b083f1b27f41e5/base/arraymath.jl#L37\" target=\"_blank\">arraymath.jl:37</a></li> <li> +(x::<b>T</b>, y::<b>Integer</b>)<i> where T<:AbstractChar</i> in Base at <a href=\"https://github.com/JuliaLang/julia/tree/539f3ce943f59dec8aff3f2238b083f1b27f41e5/base/char.jl#L223\" target=\"_blank\">char.jl:223</a></li> <li> +(index1::<b>CartesianIndex{N}</b>, index2::<b>CartesianIndex{N}</b>)<i> where N</i> in Base.IteratorsMD at <a href=\"https://github.com/JuliaLang/julia/tree/539f3ce943f59dec8aff3f2238b083f1b27f41e5/base/multidimensional.jl#L113\" target=\"_blank\">multidimensional.jl:113</a></li> <li> +(::<b>Number</b>, ::<b>Missing</b>) in Base at <a href=\"https://github.com/JuliaLang/julia/tree/539f3ce943f59dec8aff3f2238b083f1b27f41e5/base/missing.jl#L116\" target=\"_blank\">missing.jl:116</a></li> <li> +(x::<b>P</b>, y::<b>P</b>)<i> where P<:Dates.Period</i> in Dates at <a href=\"file:///Users/julia/buildbot/worker/package_macos64/build/usr/share/julia/stdlib/v1.5/Dates/src/periods.jl\" target=\"_blank\">/Applications/Julia-1.5.app/Contents/Resources/julia/share/julia/stdlib/v1.5/Dates/src/periods.jl:78</a></li> <li> +(x::<b>Dates.Period</b>, y::<b>Dates.Period</b>) in Dates at <a href=\"file:///Users/julia/buildbot/worker/package_macos64/build/usr/share/julia/stdlib/v1.5/Dates/src/periods.jl\" target=\"_blank\">/Applications/Julia-1.5.app/Contents/Resources/julia/share/julia/stdlib/v1.5/Dates/src/periods.jl:344</a></li> <li> +(y::<b>Dates.Period</b>, x::<b>Dates.CompoundPeriod</b>) in Dates at <a href=\"file:///Users/julia/buildbot/worker/package_macos64/build/usr/share/julia/stdlib/v1.5/Dates/src/periods.jl\" target=\"_blank\">/Applications/Julia-1.5.app/Contents/Resources/julia/share/julia/stdlib/v1.5/Dates/src/periods.jl:346</a></li> <li> +(x::<b>Union{Dates.CompoundPeriod, Dates.Period}</b>) in Dates at <a href=\"file:///Users/julia/buildbot/worker/package_macos64/build/usr/share/julia/stdlib/v1.5/Dates/src/periods.jl\" target=\"_blank\">/Applications/Julia-1.5.app/Contents/Resources/julia/share/julia/stdlib/v1.5/Dates/src/periods.jl:355</a></li> <li> +(x::<b>Dates.TimeType</b>) in Dates at <a href=\"file:///Users/julia/buildbot/worker/package_macos64/build/usr/share/julia/stdlib/v1.5/Dates/src/arithmetic.jl\" target=\"_blank\">/Applications/Julia-1.5.app/Contents/Resources/julia/share/julia/stdlib/v1.5/Dates/src/arithmetic.jl:8</a></li> <li> +(a::<b>Dates.TimeType</b>, b::<b>Dates.Period</b>, c::<b>Dates.Period</b>) in Dates at <a href=\"file:///Users/julia/buildbot/worker/package_macos64/build/usr/share/julia/stdlib/v1.5/Dates/src/periods.jl\" target=\"_blank\">/Applications/Julia-1.5.app/Contents/Resources/julia/share/julia/stdlib/v1.5/Dates/src/periods.jl:366</a></li> <li> +(a::<b>Dates.TimeType</b>, b::<b>Dates.Period</b>, c::<b>Dates.Period</b>, d::<b>Dates.Period...</b>) in Dates at <a href=\"file:///Users/julia/buildbot/worker/package_macos64/build/usr/share/julia/stdlib/v1.5/Dates/src/periods.jl\" target=\"_blank\">/Applications/Julia-1.5.app/Contents/Resources/julia/share/julia/stdlib/v1.5/Dates/src/periods.jl:367</a></li> <li> +(x::<b>Dates.TimeType</b>, y::<b>Dates.CompoundPeriod</b>) in Dates at <a href=\"file:///Users/julia/buildbot/worker/package_macos64/build/usr/share/julia/stdlib/v1.5/Dates/src/periods.jl\" target=\"_blank\">/Applications/Julia-1.5.app/Contents/Resources/julia/share/julia/stdlib/v1.5/Dates/src/periods.jl:369</a></li> <li> +(x::<b>Dates.Instant</b>) in Dates at <a href=\"file:///Users/julia/buildbot/worker/package_macos64/build/usr/share/julia/stdlib/v1.5/Dates/src/arithmetic.jl\" target=\"_blank\">/Applications/Julia-1.5.app/Contents/Resources/julia/share/julia/stdlib/v1.5/Dates/src/arithmetic.jl:4</a></li> <li> +(y::<b>Dates.Period</b>, x::<b>Dates.TimeType</b>) in Dates at <a href=\"file:///Users/julia/buildbot/worker/package_macos64/build/usr/share/julia/stdlib/v1.5/Dates/src/arithmetic.jl\" target=\"_blank\">/Applications/Julia-1.5.app/Contents/Resources/julia/share/julia/stdlib/v1.5/Dates/src/arithmetic.jl:80</a></li> <li> +(x::<b>Dates.Period</b>, r::<b>AbstractRange{var\"#s828\"} where var\"#s828\"<:Dates.TimeType</b>) in Dates at <a href=\"file:///Users/julia/buildbot/worker/package_macos64/build/usr/share/julia/stdlib/v1.5/Dates/src/ranges.jl\" target=\"_blank\">/Applications/Julia-1.5.app/Contents/Resources/julia/share/julia/stdlib/v1.5/Dates/src/ranges.jl:58</a></li> <li> +(x::<b>AbstractArray{var\"#s828\",N} where N where var\"#s828\"<:Dates.TimeType</b>, y::<b>Union{Dates.CompoundPeriod, Dates.Period}</b>) in Dates at <a href=\"file:///Users/julia/buildbot/worker/package_macos64/build/usr/share/julia/stdlib/v1.5/Dates/src/deprecated.jl\" target=\"_blank\">/Applications/Julia-1.5.app/Contents/Resources/julia/share/julia/stdlib/v1.5/Dates/src/deprecated.jl:6</a></li> <li> +(y::<b>Union{Dates.CompoundPeriod, Dates.Period}</b>, x::<b>AbstractArray{var\"#s828\",N} where N where var\"#s828\"<:Dates.TimeType</b>) in Dates at <a href=\"file:///Users/julia/buildbot/worker/package_macos64/build/usr/share/julia/stdlib/v1.5/Dates/src/deprecated.jl\" target=\"_blank\">/Applications/Julia-1.5.app/Contents/Resources/julia/share/julia/stdlib/v1.5/Dates/src/deprecated.jl:14</a></li> <li> +(y::<b>Dates.TimeType</b>, x::<b>StridedArray{var\"#s828\", N} where N where var\"#s828\"<:Union{Dates.CompoundPeriod, Dates.Period}</b>) in Dates at <a href=\"file:///Users/julia/buildbot/worker/package_macos64/build/usr/share/julia/stdlib/v1.5/Dates/src/deprecated.jl\" target=\"_blank\">/Applications/Julia-1.5.app/Contents/Resources/julia/share/julia/stdlib/v1.5/Dates/src/deprecated.jl:18</a></li> <li> +(J::<b>LinearAlgebra.UniformScaling</b>, x::<b>Number</b>) in LinearAlgebra at <a href=\"file:///Users/julia/buildbot/worker/package_macos64/build/usr/share/julia/stdlib/v1.5/LinearAlgebra/src/uniformscaling.jl\" target=\"_blank\">/Applications/Julia-1.5.app/Contents/Resources/julia/share/julia/stdlib/v1.5/LinearAlgebra/src/uniformscaling.jl:111</a></li> <li> +(x::<b>Number</b>, J::<b>LinearAlgebra.UniformScaling</b>) in LinearAlgebra at <a href=\"file:///Users/julia/buildbot/worker/package_macos64/build/usr/share/julia/stdlib/v1.5/LinearAlgebra/src/uniformscaling.jl\" target=\"_blank\">/Applications/Julia-1.5.app/Contents/Resources/julia/share/julia/stdlib/v1.5/LinearAlgebra/src/uniformscaling.jl:112</a></li> <li> +(J1::<b>LinearAlgebra.UniformScaling</b>, J2::<b>LinearAlgebra.UniformScaling</b>) in LinearAlgebra at <a href=\"file:///Users/julia/buildbot/worker/package_macos64/build/usr/share/julia/stdlib/v1.5/LinearAlgebra/src/uniformscaling.jl\" target=\"_blank\">/Applications/Julia-1.5.app/Contents/Resources/julia/share/julia/stdlib/v1.5/LinearAlgebra/src/uniformscaling.jl:116</a></li> <li> +(J::<b>LinearAlgebra.UniformScaling</b>, B::<b>BitArray{2}</b>) in LinearAlgebra at <a href=\"file:///Users/julia/buildbot/worker/package_macos64/build/usr/share/julia/stdlib/v1.5/LinearAlgebra/src/uniformscaling.jl\" target=\"_blank\">/Applications/Julia-1.5.app/Contents/Resources/julia/share/julia/stdlib/v1.5/LinearAlgebra/src/uniformscaling.jl:118</a></li> <li> +(A::<b>LinearAlgebra.UniformScaling</b>, B::<b>LinearAlgebra.Tridiagonal{var\"#s828\",V} where V<:AbstractArray{var\"#s828\",1} where var\"#s828\"<:Number</b>) in LinearAlgebra at <a href=\"file:///Users/julia/buildbot/worker/package_macos64/build/usr/share/julia/stdlib/v1.5/LinearAlgebra/src/special.jl\" target=\"_blank\">/Applications/Julia-1.5.app/Contents/Resources/julia/share/julia/stdlib/v1.5/LinearAlgebra/src/special.jl:245</a></li> <li> +(A::<b>LinearAlgebra.UniformScaling</b>, B::<b>LinearAlgebra.SymTridiagonal{var\"#s828\",V} where V<:AbstractArray{var\"#s828\",1} where var\"#s828\"<:Number</b>) in LinearAlgebra at <a href=\"file:///Users/julia/buildbot/worker/package_macos64/build/usr/share/julia/stdlib/v1.5/LinearAlgebra/src/special.jl\" target=\"_blank\">/Applications/Julia-1.5.app/Contents/Resources/julia/share/julia/stdlib/v1.5/LinearAlgebra/src/special.jl:250</a></li> <li> +(A::<b>LinearAlgebra.UniformScaling</b>, B::<b>LinearAlgebra.Bidiagonal{var\"#s828\",V} where V<:AbstractArray{var\"#s828\",1} where var\"#s828\"<:Number</b>) in LinearAlgebra at <a href=\"file:///Users/julia/buildbot/worker/package_macos64/build/usr/share/julia/stdlib/v1.5/LinearAlgebra/src/special.jl\" target=\"_blank\">/Applications/Julia-1.5.app/Contents/Resources/julia/share/julia/stdlib/v1.5/LinearAlgebra/src/special.jl:255</a></li> <li> +(A::<b>LinearAlgebra.UniformScaling</b>, B::<b>LinearAlgebra.Diagonal{var\"#s828\",V} where V<:AbstractArray{var\"#s828\",1} where var\"#s828\"<:Number</b>) in LinearAlgebra at <a href=\"file:///Users/julia/buildbot/worker/package_macos64/build/usr/share/julia/stdlib/v1.5/LinearAlgebra/src/special.jl\" target=\"_blank\">/Applications/Julia-1.5.app/Contents/Resources/julia/share/julia/stdlib/v1.5/LinearAlgebra/src/special.jl:260</a></li> <li> +(a::<b>LinearAlgebra.UniformScaling</b>, b::<b>StaticArrays.StaticArray{Tuple{N,M},T,2} where T where M where N</b>) in StaticArrays at <a href=\"file:///Users/ap/.julia/packages/StaticArrays/l7lu2/src/linalg.jl\" target=\"_blank\">/Users/ap/.julia/packages/StaticArrays/l7lu2/src/linalg.jl:29</a></li> <li> +(J::<b>LinearAlgebra.UniformScaling</b>, A::<b>AbstractArray{T,2} where T</b>) in LinearAlgebra at <a href=\"file:///Users/julia/buildbot/worker/package_macos64/build/usr/share/julia/stdlib/v1.5/LinearAlgebra/src/uniformscaling.jl\" target=\"_blank\">/Applications/Julia-1.5.app/Contents/Resources/julia/share/julia/stdlib/v1.5/LinearAlgebra/src/uniformscaling.jl:119</a></li> <li> +(F::<b>LinearAlgebra.Hessenberg</b>, J::<b>LinearAlgebra.UniformScaling</b>) in LinearAlgebra at <a href=\"file:///Users/julia/buildbot/worker/package_macos64/build/usr/share/julia/stdlib/v1.5/LinearAlgebra/src/hessenberg.jl\" target=\"_blank\">/Applications/Julia-1.5.app/Contents/Resources/julia/share/julia/stdlib/v1.5/LinearAlgebra/src/hessenberg.jl:559</a></li> <li> +(J::<b>LinearAlgebra.UniformScaling</b>, F::<b>LinearAlgebra.Hessenberg</b>) in LinearAlgebra at <a href=\"file:///Users/julia/buildbot/worker/package_macos64/build/usr/share/julia/stdlib/v1.5/LinearAlgebra/src/hessenberg.jl\" target=\"_blank\">/Applications/Julia-1.5.app/Contents/Resources/julia/share/julia/stdlib/v1.5/LinearAlgebra/src/hessenberg.jl:560</a></li> <li> +(a::<b>C</b>, b::<b>C</b>)<i> where C<:Union{LMS, XYZ}</i> in Colors at <a href=\"file:///Users/ap/.julia/packages/Colors/kc2v8/src/algorithms.jl\" target=\"_blank\">/Users/ap/.julia/packages/Colors/kc2v8/src/algorithms.jl:4</a></li> <li> +(a::<b>Number</b>, b::<b>StaticArrays.SHermitianCompact</b>) in StaticArrays at <a href=\"file:///Applications/Julia-1.5.app/Contents/Resources/julia/bin/../share/julia/base/deprecated.jl\" target=\"_blank\">deprecated.jl:70</a></li> <li> +(a::<b>Number</b>, b::<b>StaticArrays.StaticArray</b>) in StaticArrays at <a href=\"file:///Applications/Julia-1.5.app/Contents/Resources/julia/bin/../share/julia/base/deprecated.jl\" target=\"_blank\">deprecated.jl:70</a></li> <li> +(h::<b>GeometryTypes.HyperRectangle{N,T}</b>, move::<b>GeometryTypes.Vec{N,T} where T</b>)<i> where {N, T}</i> in GeometryTypes at <a href=\"file:///Users/ap/.julia/packages/GeometryTypes/gpBFp/src/hyperrectangles.jl\" target=\"_blank\">/Users/ap/.julia/packages/GeometryTypes/gpBFp/src/hyperrectangles.jl:201</a></li> <li> +(h::<b>GeometryTypes.SimpleRectangle{T}</b>, move::<b>GeometryTypes.Vec{2,T} where T</b>)<i> where T</i> in GeometryTypes at <a href=\"file:///Users/ap/.julia/packages/GeometryTypes/gpBFp/src/hyperrectangles.jl\" target=\"_blank\">/Users/ap/.julia/packages/GeometryTypes/gpBFp/src/hyperrectangles.jl:208</a></li> <li> +(a::<b>Measures.Length{U,T} where T</b>, b::<b>Measures.Length{U,T} where T</b>)<i> where U</i> in Measures at <a href=\"file:///Users/ap/.julia/packages/Measures/0Zkai/src/length.jl\" target=\"_blank\">/Users/ap/.julia/packages/Measures/0Zkai/src/length.jl:28</a></li> <li> +(a::<b>Measures.Measure</b>, b::<b>Measures.Measure</b>) in Measures at <a href=\"file:///Users/ap/.julia/packages/Measures/0Zkai/src/operations.jl\" target=\"_blank\">/Users/ap/.julia/packages/Measures/0Zkai/src/operations.jl:41</a></li> <li> +(a::<b>Tuple{Vararg{Measures.Measure,N}}</b>, b::<b>Tuple{Vararg{Measures.Measure,N}}</b>)<i> where N</i> in Measures at <a href=\"file:///Users/ap/.julia/packages/Measures/0Zkai/src/point.jl\" target=\"_blank\">/Users/ap/.julia/packages/Measures/0Zkai/src/point.jl:21</a></li> <li> +(a::<b>Tuple{Vararg{Measures.Measure,N}} where N</b>, b::<b>Tuple{Vararg{Measures.Measure,N}} where N</b>) in Measures at <a href=\"file:///Users/ap/.julia/packages/Measures/0Zkai/src/point.jl\" target=\"_blank\">/Users/ap/.julia/packages/Measures/0Zkai/src/point.jl:15</a></li> <li> +(h::<b>GeometryBasics.HyperRectangle{N,T}</b>, move::<b>Number</b>)<i> where {N, T}</i> in GeometryBasics at <a href=\"file:///Users/ap/.julia/packages/GeometryBasics/csguK/src/primitives/rectangles.jl\" target=\"_blank\">/Users/ap/.julia/packages/GeometryBasics/csguK/src/primitives/rectangles.jl:264</a></li> <li> +(h::<b>GeometryBasics.HyperRectangle{N,T}</b>, move::<b>StaticArrays.StaticArray{Tuple{N},T,1} where T</b>)<i> where {N, T}</i> in GeometryBasics at <a href=\"file:///Users/ap/.julia/packages/GeometryBasics/csguK/src/primitives/rectangles.jl\" target=\"_blank\">/Users/ap/.julia/packages/GeometryBasics/csguK/src/primitives/rectangles.jl:270</a></li> <li> +(bb1::<b>Measures.BoundingBox</b>, bb2::<b>Measures.BoundingBox</b>) in Plots at <a href=\"file:///Users/ap/.julia/packages/Plots/a7Kbp/src/layouts.jl\" target=\"_blank\">/Users/ap/.julia/packages/Plots/a7Kbp/src/layouts.jl:19</a></li> <li> +(l1::<b>Lazy.List</b>, ls::<b>Lazy.List...</b>) in Lazy at <a href=\"file:///Users/ap/.julia/packages/Lazy/9Xnd3/src/Lazy.jl\" target=\"_blank\">/Users/ap/.julia/packages/Lazy/9Xnd3/src/Lazy.jl:20</a></li> <li> +(a, b, c, xs...) in Base at <a href=\"https://github.com/JuliaLang/julia/tree/539f3ce943f59dec8aff3f2238b083f1b27f41e5/base/operators.jl#L538\" target=\"_blank\">operators.jl:538</a></li> </ul>"
      ],
      "text/plain": [
       "# 207 methods for generic function \"+\":\n",
       "[1] +(dt::Dates.DateTime, z::Dates.Month) in Dates at /Applications/Julia-1.5.app/Contents/Resources/julia/share/julia/stdlib/v1.5/Dates/src/arithmetic.jl:47\n",
       "[2] +(dt::Dates.DateTime, y::Dates.Year) in Dates at /Applications/Julia-1.5.app/Contents/Resources/julia/share/julia/stdlib/v1.5/Dates/src/arithmetic.jl:23\n",
       "[3] +(x::Dates.DateTime, y::Dates.Period) in Dates at /Applications/Julia-1.5.app/Contents/Resources/julia/share/julia/stdlib/v1.5/Dates/src/arithmetic.jl:76\n",
       "[4] +(z::Complex{Bool}, x::Bool) in Base at complex.jl:287\n",
       "[5] +(z::Complex{Bool}, x::Real) in Base at complex.jl:301\n",
       "[6] +(c::BigInt, x::BigFloat) in Base.MPFR at mpfr.jl:399\n",
       "[7] +(a::BigInt, b::BigInt, c::BigInt, d::BigInt, e::BigInt) in Base.GMP at gmp.jl:518\n",
       "[8] +(a::BigInt, b::BigInt, c::BigInt, d::BigInt) in Base.GMP at gmp.jl:517\n",
       "[9] +(a::BigInt, b::BigInt, c::BigInt) in Base.GMP at gmp.jl:516\n",
       "[10] +(x::BigInt, y::BigInt) in Base.GMP at gmp.jl:476\n",
       "[11] +(x::BigInt, c::Union{UInt16, UInt32, UInt64, UInt8}) in Base.GMP at gmp.jl:524\n",
       "[12] +(x::BigInt, c::Union{Int16, Int32, Int64, Int8}) in Base.GMP at gmp.jl:530\n",
       "[13] +(level::Base.CoreLogging.LogLevel, inc::Integer) in Base.CoreLogging at logging.jl:116\n",
       "[14] +(B::BitArray{2}, J::LinearAlgebra.UniformScaling) in LinearAlgebra at /Applications/Julia-1.5.app/Contents/Resources/julia/share/julia/stdlib/v1.5/LinearAlgebra/src/uniformscaling.jl:117\n",
       "[15] +(::Missing, ::Missing) in Base at missing.jl:114\n",
       "[16] +(::Missing) in Base at missing.jl:100\n",
       "[17] +(::Missing, ::Number) in Base at missing.jl:115\n",
       "[18] +(x::Float64, y::Float64) in Base at float.jl:401\n",
       "[19] +(x::Bool, z::Complex{Bool}) in Base at complex.jl:286\n",
       "[20] +(x::Bool, y::Bool) in Base at bool.jl:96\n",
       "[21] +(x::Bool) in Base at bool.jl:93\n",
       "[22] +(x::Bool, y::T) where T<:AbstractFloat in Base at bool.jl:103\n",
       "[23] +(x::Bool, z::Complex) in Base at complex.jl:293\n",
       "[24] +(x::Dates.Date, y::Dates.Day) in Dates at /Applications/Julia-1.5.app/Contents/Resources/julia/share/julia/stdlib/v1.5/Dates/src/arithmetic.jl:74\n",
       "[25] +(x::Dates.Date, y::Dates.Week) in Dates at /Applications/Julia-1.5.app/Contents/Resources/julia/share/julia/stdlib/v1.5/Dates/src/arithmetic.jl:72\n",
       "[26] +(dt::Dates.Date, z::Dates.Month) in Dates at /Applications/Julia-1.5.app/Contents/Resources/julia/share/julia/stdlib/v1.5/Dates/src/arithmetic.jl:54\n",
       "[27] +(dt::Dates.Date, y::Dates.Year) in Dates at /Applications/Julia-1.5.app/Contents/Resources/julia/share/julia/stdlib/v1.5/Dates/src/arithmetic.jl:27\n",
       "[28] +(dt::Dates.Date, t::Dates.Time) in Dates at /Applications/Julia-1.5.app/Contents/Resources/julia/share/julia/stdlib/v1.5/Dates/src/arithmetic.jl:19\n",
       "[29] +(a::Pkg.Resolve.VersionWeight, b::Pkg.Resolve.VersionWeight) in Pkg.Resolve at /Applications/Julia-1.5.app/Contents/Resources/julia/share/julia/stdlib/v1.5/Pkg/src/Resolve/versionweights.jl:22\n",
       "[30] +(a::Pkg.Resolve.FieldValue, b::Pkg.Resolve.FieldValue) in Pkg.Resolve at /Applications/Julia-1.5.app/Contents/Resources/julia/share/julia/stdlib/v1.5/Pkg/src/Resolve/fieldvalues.jl:43\n",
       "[31] +(t::Dates.Time, dt::Dates.Date) in Dates at /Applications/Julia-1.5.app/Contents/Resources/julia/share/julia/stdlib/v1.5/Dates/src/arithmetic.jl:20\n",
       "[32] +(x::Dates.Time, y::Dates.TimePeriod) in Dates at /Applications/Julia-1.5.app/Contents/Resources/julia/share/julia/stdlib/v1.5/Dates/src/arithmetic.jl:78\n",
       "[33] +(a::BigFloat, b::BigFloat, c::BigFloat, d::BigFloat, e::BigFloat) in Base.MPFR at mpfr.jl:548\n",
       "[34] +(a::BigFloat, b::BigFloat, c::BigFloat, d::BigFloat) in Base.MPFR at mpfr.jl:541\n",
       "[35] +(a::BigFloat, b::BigFloat, c::BigFloat) in Base.MPFR at mpfr.jl:535\n",
       "[36] +(x::BigFloat, c::BigInt) in Base.MPFR at mpfr.jl:394\n",
       "[37] +(x::BigFloat, y::BigFloat) in Base.MPFR at mpfr.jl:363\n",
       "[38] +(x::BigFloat, c::Union{UInt16, UInt32, UInt64, UInt8}) in Base.MPFR at mpfr.jl:370\n",
       "[39] +(x::BigFloat, c::Union{Int16, Int32, Int64, Int8}) in Base.MPFR at mpfr.jl:378\n",
       "[40] +(x::BigFloat, c::Union{Float16, Float32, Float64}) in Base.MPFR at mpfr.jl:386\n",
       "[41] +(a::Float16, b::Float16) in Base at float.jl:398\n",
       "[42] +(x::Float32, y::Float32) in Base at float.jl:400\n",
       "[43] +(x::Dates.CompoundPeriod, y::Dates.CompoundPeriod) in Dates at /Applications/Julia-1.5.app/Contents/Resources/julia/share/julia/stdlib/v1.5/Dates/src/periods.jl:347\n",
       "[44] +(x::Dates.CompoundPeriod, y::Dates.Period) in Dates at /Applications/Julia-1.5.app/Contents/Resources/julia/share/julia/stdlib/v1.5/Dates/src/periods.jl:345\n",
       "[45] +(x::Dates.CompoundPeriod, y::Dates.TimeType) in Dates at /Applications/Julia-1.5.app/Contents/Resources/julia/share/julia/stdlib/v1.5/Dates/src/periods.jl:375\n",
       "[46] +(y::AbstractFloat, x::Bool) in Base at bool.jl:106\n",
       "[47] +(x::T, y::T) where T<:Union{Int128, Int16, Int32, Int64, Int8, UInt128, UInt16, UInt32, UInt64, UInt8} in Base at int.jl:86\n",
       "[48] +(c::Union{UInt16, UInt32, UInt64, UInt8}, x::BigInt) in Base.GMP at gmp.jl:525\n",
       "[49] +(c::Union{Int16, Int32, Int64, Int8}, x::BigInt) in Base.GMP at gmp.jl:531\n",
       "[50] +(x::GeometryTypes.OffsetInteger{O,T} where T<:Integer, y::GeometryTypes.OffsetInteger{O,T} where T<:Integer) where O in GeometryTypes at /Users/ap/.julia/packages/GeometryTypes/gpBFp/src/faces.jl:31\n",
       "[51] +(x::GeometryBasics.OffsetInteger{O,T} where T<:Integer, y::GeometryBasics.OffsetInteger{O,T} where T<:Integer) where O in GeometryBasics at /Users/ap/.julia/packages/GeometryBasics/csguK/src/offsetintegers.jl:63\n",
       "[52] +(a::Integer, b::Integer) in Base at int.jl:918\n",
       "[53] +(x::Integer, y::Ptr) in Base at pointer.jl:161\n",
       "[54] +(z::Complex) in Base at complex.jl:273\n",
       "[55] +(z::Complex, w::Complex) in Base at complex.jl:275\n",
       "[56] +(z::Complex, x::Bool) in Base at complex.jl:294\n",
       "[57] +(x::Rational) in Base at rational.jl:266\n",
       "[58] +(x::Real, z::Complex{Bool}) in Base at complex.jl:300\n",
       "[59] +(x::Real, z::Complex) in Base at complex.jl:312\n",
       "[60] +(z::Complex, x::Real) in Base at complex.jl:313\n",
       "[61] +(x::Rational, y::Rational) in Base at rational.jl:282\n",
       "[62] +(x::Rational, y::Integer) in Base at rational.jl:287\n",
       "[63] +(y::Integer, x::Rational) in Base at rational.jl:294\n",
       "[64] +(x::Integer, y::AbstractChar) in Base at char.jl:224\n",
       "[65] +(c::Union{UInt16, UInt32, UInt64, UInt8}, x::BigFloat) in Base.MPFR at mpfr.jl:375\n",
       "[66] +(c::Union{Int16, Int32, Int64, Int8}, x::BigFloat) in Base.MPFR at mpfr.jl:383\n",
       "[67] +(c::Union{Float16, Float32, Float64}, x::BigFloat) in Base.MPFR at mpfr.jl:391\n",
       "[68] +(x::AbstractIrrational, y::AbstractIrrational) in Base at irrationals.jl:156\n",
       "[69] +(x::X, y::X) where X<:FixedPointNumbers.FixedPoint in FixedPointNumbers at /Users/ap/.julia/packages/FixedPointNumbers/HAGk2/src/FixedPointNumbers.jl:237\n",
       "[70] +(x::Number) in Base at operators.jl:513\n",
       "[71] +(x::T, y::T) where T<:Number in Base at promotion.jl:384\n",
       "[72] +(x::Number, y::Number) in Base at promotion.jl:311\n",
       "[73] +(r1::OrdinalRange, r2::OrdinalRange) in Base at range.jl:1055\n",
       "[74] +(r1::LinRange{T}, r2::LinRange{T}) where T in Base at range.jl:1062\n",
       "[75] +(r1::StepRangeLen{T,R,S} where S, r2::StepRangeLen{T,R,S} where S) where {R<:Base.TwicePrecision, T} in Base at twiceprecision.jl:577\n",
       "[76] +(r1::StepRangeLen{T,S,S1} where S1, r2::StepRangeLen{T,S,S1} where S1) where {T, S} in Base at range.jl:1078\n",
       "[77] +(r1::Union{LinRange, OrdinalRange, StepRangeLen}, r2::Union{LinRange, OrdinalRange, StepRangeLen}) in Base at range.jl:1071\n",
       "[78] +(x::Ptr, y::Integer) in Base at pointer.jl:159\n",
       "[79] +(x::Base.TwicePrecision, y::Number) in Base at twiceprecision.jl:267\n",
       "[80] +(x::Number, y::Base.TwicePrecision) in Base at twiceprecision.jl:271\n",
       "[81] +(x::Base.TwicePrecision{T}, y::Base.TwicePrecision{T}) where T in Base at twiceprecision.jl:273\n",
       "[82] +(x::Base.TwicePrecision, y::Base.TwicePrecision) in Base at twiceprecision.jl:278\n",
       "[83] +(A::Array, Bs::Array...) in Base at arraymath.jl:43\n",
       "[84] +(A::BitArray, B::BitArray) in Base at bitarray.jl:1110\n",
       "[85] +(r::AbstractRange{var\"#s828\"} where var\"#s828\"<:Dates.TimeType, x::Dates.Period) in Dates at /Applications/Julia-1.5.app/Contents/Resources/julia/share/julia/stdlib/v1.5/Dates/src/ranges.jl:59\n",
       "[86] +(A::Array, B::SparseArrays.AbstractSparseMatrixCSC) in SparseArrays at /Applications/Julia-1.5.app/Contents/Resources/julia/share/julia/stdlib/v1.5/SparseArrays/src/sparsematrix.jl:1683\n",
       "[87] +(x::StridedArray{var\"#s828\", N} where N where var\"#s828\"<:Union{Dates.CompoundPeriod, Dates.Period}) in Dates at /Applications/Julia-1.5.app/Contents/Resources/julia/share/julia/stdlib/v1.5/Dates/src/deprecated.jl:55\n",
       "[88] +(x::StridedArray{var\"#s828\", N} where N where var\"#s828\"<:Union{Dates.CompoundPeriod, Dates.Period}, y::Dates.TimeType) in Dates at /Applications/Julia-1.5.app/Contents/Resources/julia/share/julia/stdlib/v1.5/Dates/src/deprecated.jl:10\n",
       "[89] +(X::StridedArray{var\"#s828\", N} where N where var\"#s828\"<:Union{Dates.CompoundPeriod, Dates.Period}, Y::StridedArray{var\"#s827\", N} where N where var\"#s827\"<:Union{Dates.CompoundPeriod, Dates.Period}) in Dates at /Applications/Julia-1.5.app/Contents/Resources/julia/share/julia/stdlib/v1.5/Dates/src/deprecated.jl:62\n",
       "[90] +(A::LinearAlgebra.SymTridiagonal, B::LinearAlgebra.SymTridiagonal) in LinearAlgebra at /Applications/Julia-1.5.app/Contents/Resources/julia/share/julia/stdlib/v1.5/LinearAlgebra/src/tridiag.jl:205\n",
       "[91] +(A::LinearAlgebra.Tridiagonal, B::LinearAlgebra.Tridiagonal) in LinearAlgebra at /Applications/Julia-1.5.app/Contents/Resources/julia/share/julia/stdlib/v1.5/LinearAlgebra/src/tridiag.jl:732\n",
       "[92] +(A::LinearAlgebra.UpperTriangular, B::LinearAlgebra.UpperTriangular) in LinearAlgebra at /Applications/Julia-1.5.app/Contents/Resources/julia/share/julia/stdlib/v1.5/LinearAlgebra/src/triangular.jl:659\n",
       "[93] +(A::LinearAlgebra.LowerTriangular, B::LinearAlgebra.LowerTriangular) in LinearAlgebra at /Applications/Julia-1.5.app/Contents/Resources/julia/share/julia/stdlib/v1.5/LinearAlgebra/src/triangular.jl:660\n",
       "[94] +(A::LinearAlgebra.UpperTriangular, B::LinearAlgebra.UnitUpperTriangular) in LinearAlgebra at /Applications/Julia-1.5.app/Contents/Resources/julia/share/julia/stdlib/v1.5/LinearAlgebra/src/triangular.jl:661\n",
       "[95] +(A::LinearAlgebra.LowerTriangular, B::LinearAlgebra.UnitLowerTriangular) in LinearAlgebra at /Applications/Julia-1.5.app/Contents/Resources/julia/share/julia/stdlib/v1.5/LinearAlgebra/src/triangular.jl:662\n",
       "[96] +(A::LinearAlgebra.UnitUpperTriangular, B::LinearAlgebra.UpperTriangular) in LinearAlgebra at /Applications/Julia-1.5.app/Contents/Resources/julia/share/julia/stdlib/v1.5/LinearAlgebra/src/triangular.jl:663\n",
       "[97] +(A::LinearAlgebra.UnitLowerTriangular, B::LinearAlgebra.LowerTriangular) in LinearAlgebra at /Applications/Julia-1.5.app/Contents/Resources/julia/share/julia/stdlib/v1.5/LinearAlgebra/src/triangular.jl:664\n",
       "[98] +(A::LinearAlgebra.UnitUpperTriangular, B::LinearAlgebra.UnitUpperTriangular) in LinearAlgebra at /Applications/Julia-1.5.app/Contents/Resources/julia/share/julia/stdlib/v1.5/LinearAlgebra/src/triangular.jl:665\n",
       "[99] +(A::LinearAlgebra.UnitLowerTriangular, B::LinearAlgebra.UnitLowerTriangular) in LinearAlgebra at /Applications/Julia-1.5.app/Contents/Resources/julia/share/julia/stdlib/v1.5/LinearAlgebra/src/triangular.jl:666\n",
       "[100] +(A::LinearAlgebra.AbstractTriangular, B::LinearAlgebra.AbstractTriangular) in LinearAlgebra at /Applications/Julia-1.5.app/Contents/Resources/julia/share/julia/stdlib/v1.5/LinearAlgebra/src/triangular.jl:667\n",
       "[101] +(A::LinearAlgebra.Hermitian, B::LinearAlgebra.Hermitian) in LinearAlgebra at /Applications/Julia-1.5.app/Contents/Resources/julia/share/julia/stdlib/v1.5/LinearAlgebra/src/symmetric.jl:466\n",
       "[102] +(A::LinearAlgebra.Symmetric, B::LinearAlgebra.Symmetric) in LinearAlgebra at /Applications/Julia-1.5.app/Contents/Resources/julia/share/julia/stdlib/v1.5/LinearAlgebra/src/symmetric.jl:466\n",
       "[103] +(A::LinearAlgebra.Hermitian{var\"#s816\",var\"#s815\"} where var\"#s815\"<:(SparseArrays.AbstractSparseArray{Tv,Ti,2} where Ti where Tv) where var\"#s816\", B::LinearAlgebra.Symmetric{var\"#s814\",var\"#s813\"} where var\"#s813\"<:(SparseArrays.AbstractSparseArray{Tv,Ti,2} where Ti where Tv) where var\"#s814\"<:Real) in SparseArrays at /Applications/Julia-1.5.app/Contents/Resources/julia/share/julia/stdlib/v1.5/SparseArrays/src/linalg.jl:24\n",
       "[104] +(A::LinearAlgebra.Hermitian, B::LinearAlgebra.Symmetric{var\"#s828\",S} where S<:(AbstractArray{var\"#s8281\",2} where var\"#s8281\"<:var\"#s828\") where var\"#s828\"<:Real) in LinearAlgebra at /Applications/Julia-1.5.app/Contents/Resources/julia/share/julia/stdlib/v1.5/LinearAlgebra/src/symmetric.jl:480\n",
       "[105] +(A::LinearAlgebra.Symmetric{var\"#s820\",var\"#s819\"} where var\"#s819\"<:(SparseArrays.AbstractSparseArray{Tv,Ti,2} where Ti where Tv) where var\"#s820\"<:Real, B::LinearAlgebra.Hermitian{var\"#s818\",var\"#s817\"} where var\"#s817\"<:(SparseArrays.AbstractSparseArray{Tv,Ti,2} where Ti where Tv) where var\"#s818\") in SparseArrays at /Applications/Julia-1.5.app/Contents/Resources/julia/share/julia/stdlib/v1.5/SparseArrays/src/linalg.jl:23\n",
       "[106] +(A::LinearAlgebra.Symmetric{var\"#s827\",S} where S<:(AbstractArray{var\"#s828\",2} where var\"#s828\"<:var\"#s827\") where var\"#s827\"<:Real, B::LinearAlgebra.Hermitian) in LinearAlgebra at /Applications/Julia-1.5.app/Contents/Resources/julia/share/julia/stdlib/v1.5/LinearAlgebra/src/symmetric.jl:481\n",
       "[107] +(Da::LinearAlgebra.Diagonal, Db::LinearAlgebra.Diagonal) in LinearAlgebra at /Applications/Julia-1.5.app/Contents/Resources/julia/share/julia/stdlib/v1.5/LinearAlgebra/src/diagonal.jl:156\n",
       "[108] +(D::LinearAlgebra.Diagonal, S::LinearAlgebra.Symmetric) in LinearAlgebra at /Applications/Julia-1.5.app/Contents/Resources/julia/share/julia/stdlib/v1.5/LinearAlgebra/src/diagonal.jl:160\n",
       "[109] +(S::LinearAlgebra.Symmetric, D::LinearAlgebra.Diagonal) in LinearAlgebra at /Applications/Julia-1.5.app/Contents/Resources/julia/share/julia/stdlib/v1.5/LinearAlgebra/src/diagonal.jl:163\n",
       "[110] +(D::LinearAlgebra.Diagonal{var\"#s828\",V} where V<:AbstractArray{var\"#s828\",1} where var\"#s828\"<:Real, H::LinearAlgebra.Hermitian) in LinearAlgebra at /Applications/Julia-1.5.app/Contents/Resources/julia/share/julia/stdlib/v1.5/LinearAlgebra/src/diagonal.jl:166\n",
       "[111] +(H::LinearAlgebra.Hermitian, D::LinearAlgebra.Diagonal{var\"#s828\",V} where V<:AbstractArray{var\"#s828\",1} where var\"#s828\"<:Real) in LinearAlgebra at /Applications/Julia-1.5.app/Contents/Resources/julia/share/julia/stdlib/v1.5/LinearAlgebra/src/diagonal.jl:169\n",
       "[112] +(A::LinearAlgebra.Bidiagonal, B::LinearAlgebra.Bidiagonal) in LinearAlgebra at /Applications/Julia-1.5.app/Contents/Resources/julia/share/julia/stdlib/v1.5/LinearAlgebra/src/bidiag.jl:347\n",
       "[113] +(UL::LinearAlgebra.UnitUpperTriangular, J::LinearAlgebra.UniformScaling) in LinearAlgebra at /Applications/Julia-1.5.app/Contents/Resources/julia/share/julia/stdlib/v1.5/LinearAlgebra/src/uniformscaling.jl:147\n",
       "[114] +(UL::LinearAlgebra.UnitLowerTriangular, J::LinearAlgebra.UniformScaling) in LinearAlgebra at /Applications/Julia-1.5.app/Contents/Resources/julia/share/julia/stdlib/v1.5/LinearAlgebra/src/uniformscaling.jl:147\n",
       "[115] +(A::LinearAlgebra.Hermitian, J::LinearAlgebra.UniformScaling{var\"#s828\"} where var\"#s828\"<:Complex) in LinearAlgebra at /Applications/Julia-1.5.app/Contents/Resources/julia/share/julia/stdlib/v1.5/LinearAlgebra/src/uniformscaling.jl:161\n",
       "[116] +(H::LinearAlgebra.UpperHessenberg, J::LinearAlgebra.UniformScaling) in LinearAlgebra at /Applications/Julia-1.5.app/Contents/Resources/julia/share/julia/stdlib/v1.5/LinearAlgebra/src/hessenberg.jl:106\n",
       "[117] +(A::LinearAlgebra.Tridiagonal{var\"#s828\",V} where V<:AbstractArray{var\"#s828\",1} where var\"#s828\"<:Number, B::LinearAlgebra.UniformScaling) in LinearAlgebra at /Applications/Julia-1.5.app/Contents/Resources/julia/share/julia/stdlib/v1.5/LinearAlgebra/src/special.jl:226\n",
       "[118] +(A::LinearAlgebra.SymTridiagonal{var\"#s828\",V} where V<:AbstractArray{var\"#s828\",1} where var\"#s828\"<:Number, B::LinearAlgebra.UniformScaling) in LinearAlgebra at /Applications/Julia-1.5.app/Contents/Resources/julia/share/julia/stdlib/v1.5/LinearAlgebra/src/special.jl:231\n",
       "[119] +(A::LinearAlgebra.Bidiagonal{var\"#s828\",V} where V<:AbstractArray{var\"#s828\",1} where var\"#s828\"<:Number, B::LinearAlgebra.UniformScaling) in LinearAlgebra at /Applications/Julia-1.5.app/Contents/Resources/julia/share/julia/stdlib/v1.5/LinearAlgebra/src/special.jl:236\n",
       "[120] +(A::LinearAlgebra.Diagonal{var\"#s828\",V} where V<:AbstractArray{var\"#s828\",1} where var\"#s828\"<:Number, B::LinearAlgebra.UniformScaling) in LinearAlgebra at /Applications/Julia-1.5.app/Contents/Resources/julia/share/julia/stdlib/v1.5/LinearAlgebra/src/special.jl:241\n",
       "[121] +(A::SparseArrays.AbstractSparseMatrixCSC, J::LinearAlgebra.UniformScaling) in SparseArrays at /Applications/Julia-1.5.app/Contents/Resources/julia/share/julia/stdlib/v1.5/SparseArrays/src/sparsematrix.jl:3641\n",
       "[122] +(a::StaticArrays.StaticArray{Tuple{N,M},T,2} where T where M where N, b::LinearAlgebra.UniformScaling) in StaticArrays at /Users/ap/.julia/packages/StaticArrays/l7lu2/src/linalg.jl:28\n",
       "[123] +(A::AbstractArray{T,2} where T, J::LinearAlgebra.UniformScaling) in LinearAlgebra at /Applications/Julia-1.5.app/Contents/Resources/julia/share/julia/stdlib/v1.5/LinearAlgebra/src/uniformscaling.jl:180\n",
       "[124] +(A::LinearAlgebra.UpperHessenberg, B::LinearAlgebra.UpperHessenberg) in LinearAlgebra at /Applications/Julia-1.5.app/Contents/Resources/julia/share/julia/stdlib/v1.5/LinearAlgebra/src/hessenberg.jl:101\n",
       "[125] +(A::LinearAlgebra.UpperTriangular, B::LinearAlgebra.Bidiagonal) in LinearAlgebra at /Applications/Julia-1.5.app/Contents/Resources/julia/share/julia/stdlib/v1.5/LinearAlgebra/src/special.jl:86\n",
       "[126] +(A::LinearAlgebra.Bidiagonal, B::LinearAlgebra.UpperTriangular) in LinearAlgebra at /Applications/Julia-1.5.app/Contents/Resources/julia/share/julia/stdlib/v1.5/LinearAlgebra/src/special.jl:94\n",
       "[127] +(A::LinearAlgebra.UnitUpperTriangular, B::LinearAlgebra.Bidiagonal) in LinearAlgebra at /Applications/Julia-1.5.app/Contents/Resources/julia/share/julia/stdlib/v1.5/LinearAlgebra/src/special.jl:86\n",
       "[128] +(A::LinearAlgebra.Bidiagonal, B::LinearAlgebra.UnitUpperTriangular) in LinearAlgebra at /Applications/Julia-1.5.app/Contents/Resources/julia/share/julia/stdlib/v1.5/LinearAlgebra/src/special.jl:94\n",
       "[129] +(A::LinearAlgebra.LowerTriangular, B::LinearAlgebra.Bidiagonal) in LinearAlgebra at /Applications/Julia-1.5.app/Contents/Resources/julia/share/julia/stdlib/v1.5/LinearAlgebra/src/special.jl:86\n",
       "[130] +(A::LinearAlgebra.Bidiagonal, B::LinearAlgebra.LowerTriangular) in LinearAlgebra at /Applications/Julia-1.5.app/Contents/Resources/julia/share/julia/stdlib/v1.5/LinearAlgebra/src/special.jl:94\n",
       "[131] +(A::LinearAlgebra.UnitLowerTriangular, B::LinearAlgebra.Bidiagonal) in LinearAlgebra at /Applications/Julia-1.5.app/Contents/Resources/julia/share/julia/stdlib/v1.5/LinearAlgebra/src/special.jl:86\n",
       "[132] +(A::LinearAlgebra.Bidiagonal, B::LinearAlgebra.UnitLowerTriangular) in LinearAlgebra at /Applications/Julia-1.5.app/Contents/Resources/julia/share/julia/stdlib/v1.5/LinearAlgebra/src/special.jl:94\n",
       "[133] +(A::LinearAlgebra.Bidiagonal, B::LinearAlgebra.Diagonal) in LinearAlgebra at /Applications/Julia-1.5.app/Contents/Resources/julia/share/julia/stdlib/v1.5/LinearAlgebra/src/special.jl:115\n",
       "[134] +(A::LinearAlgebra.Diagonal, B::LinearAlgebra.Bidiagonal) in LinearAlgebra at /Applications/Julia-1.5.app/Contents/Resources/julia/share/julia/stdlib/v1.5/LinearAlgebra/src/special.jl:125\n",
       "[135] +(A::LinearAlgebra.Diagonal, B::LinearAlgebra.SymTridiagonal) in LinearAlgebra at /Applications/Julia-1.5.app/Contents/Resources/julia/share/julia/stdlib/v1.5/LinearAlgebra/src/special.jl:135\n",
       "[136] +(A::LinearAlgebra.SymTridiagonal, B::LinearAlgebra.Diagonal) in LinearAlgebra at /Applications/Julia-1.5.app/Contents/Resources/julia/share/julia/stdlib/v1.5/LinearAlgebra/src/special.jl:145\n",
       "[137] +(A::LinearAlgebra.Tridiagonal, B::LinearAlgebra.SymTridiagonal) in LinearAlgebra at /Applications/Julia-1.5.app/Contents/Resources/julia/share/julia/stdlib/v1.5/LinearAlgebra/src/special.jl:157\n",
       "[138] +(A::LinearAlgebra.SymTridiagonal, B::LinearAlgebra.Tridiagonal) in LinearAlgebra at /Applications/Julia-1.5.app/Contents/Resources/julia/share/julia/stdlib/v1.5/LinearAlgebra/src/special.jl:159\n",
       "[139] +(A::LinearAlgebra.Diagonal, B::LinearAlgebra.Tridiagonal) in LinearAlgebra at /Applications/Julia-1.5.app/Contents/Resources/julia/share/julia/stdlib/v1.5/LinearAlgebra/src/special.jl:163\n",
       "[140] +(A::LinearAlgebra.Tridiagonal, B::LinearAlgebra.Diagonal) in LinearAlgebra at /Applications/Julia-1.5.app/Contents/Resources/julia/share/julia/stdlib/v1.5/LinearAlgebra/src/special.jl:173\n",
       "[141] +(A::LinearAlgebra.Bidiagonal, B::LinearAlgebra.Tridiagonal) in LinearAlgebra at /Applications/Julia-1.5.app/Contents/Resources/julia/share/julia/stdlib/v1.5/LinearAlgebra/src/special.jl:183\n",
       "[142] +(A::LinearAlgebra.Tridiagonal, B::LinearAlgebra.Bidiagonal) in LinearAlgebra at /Applications/Julia-1.5.app/Contents/Resources/julia/share/julia/stdlib/v1.5/LinearAlgebra/src/special.jl:193\n",
       "[143] +(A::LinearAlgebra.Bidiagonal, B::LinearAlgebra.SymTridiagonal) in LinearAlgebra at /Applications/Julia-1.5.app/Contents/Resources/julia/share/julia/stdlib/v1.5/LinearAlgebra/src/special.jl:203\n",
       "[144] +(A::LinearAlgebra.SymTridiagonal, B::LinearAlgebra.Bidiagonal) in LinearAlgebra at /Applications/Julia-1.5.app/Contents/Resources/julia/share/julia/stdlib/v1.5/LinearAlgebra/src/special.jl:213\n",
       "[145] +(A::SparseArrays.AbstractSparseMatrixCSC, B::SparseArrays.AbstractSparseMatrixCSC) in SparseArrays at /Applications/Julia-1.5.app/Contents/Resources/julia/share/julia/stdlib/v1.5/SparseArrays/src/sparsematrix.jl:1679\n",
       "[146] +(A::SparseArrays.AbstractSparseMatrixCSC, B::Array) in SparseArrays at /Applications/Julia-1.5.app/Contents/Resources/julia/share/julia/stdlib/v1.5/SparseArrays/src/sparsematrix.jl:1682\n",
       "[147] +(x::SparseArrays.AbstractSparseArray{Tv,Ti,1} where Ti where Tv, y::SparseArrays.AbstractSparseArray{Tv,Ti,1} where Ti where Tv) in SparseArrays at /Applications/Julia-1.5.app/Contents/Resources/julia/share/julia/stdlib/v1.5/SparseArrays/src/sparsevector.jl:1302\n",
       "[148] +(A::SparseArrays.AbstractSparseArray{Tv,Ti,2} where Ti where Tv, B::LinearAlgebra.Hermitian{var\"#s828\",var\"#s827\"} where var\"#s827\"<:(SparseArrays.AbstractSparseArray{Tv,Ti,2} where Ti where Tv) where var\"#s828\") in SparseArrays at /Applications/Julia-1.5.app/Contents/Resources/julia/share/julia/stdlib/v1.5/SparseArrays/src/linalg.jl:12\n",
       "[149] +(A::LinearAlgebra.Hermitian{var\"#s826\",var\"#s825\"} where var\"#s825\"<:(SparseArrays.AbstractSparseArray{Tv,Ti,2} where Ti where Tv) where var\"#s826\", B::SparseArrays.AbstractSparseArray{Tv,Ti,2} where Ti where Tv) in SparseArrays at /Applications/Julia-1.5.app/Contents/Resources/julia/share/julia/stdlib/v1.5/SparseArrays/src/linalg.jl:13\n",
       "[150] +(A::SparseArrays.AbstractSparseArray{Tv,Ti,2} where Ti where Tv, B::LinearAlgebra.Hermitian) in SparseArrays at /Applications/Julia-1.5.app/Contents/Resources/julia/share/julia/stdlib/v1.5/SparseArrays/src/linalg.jl:15\n",
       "[151] +(A::LinearAlgebra.Hermitian, B::SparseArrays.AbstractSparseArray{Tv,Ti,2} where Ti where Tv) in SparseArrays at /Applications/Julia-1.5.app/Contents/Resources/julia/share/julia/stdlib/v1.5/SparseArrays/src/linalg.jl:16\n",
       "[152] +(A::SparseArrays.AbstractSparseArray{Tv,Ti,2} where Ti where Tv, B::LinearAlgebra.Symmetric{var\"#s828\",var\"#s827\"} where var\"#s827\"<:(SparseArrays.AbstractSparseArray{Tv,Ti,2} where Ti where Tv) where var\"#s828\") in SparseArrays at /Applications/Julia-1.5.app/Contents/Resources/julia/share/julia/stdlib/v1.5/SparseArrays/src/linalg.jl:12\n",
       "[153] +(A::LinearAlgebra.Symmetric{var\"#s826\",var\"#s825\"} where var\"#s825\"<:(SparseArrays.AbstractSparseArray{Tv,Ti,2} where Ti where Tv) where var\"#s826\", B::SparseArrays.AbstractSparseArray{Tv,Ti,2} where Ti where Tv) in SparseArrays at /Applications/Julia-1.5.app/Contents/Resources/julia/share/julia/stdlib/v1.5/SparseArrays/src/linalg.jl:13\n",
       "[154] +(A::SparseArrays.AbstractSparseArray{Tv,Ti,2} where Ti where Tv, B::LinearAlgebra.Symmetric) in SparseArrays at /Applications/Julia-1.5.app/Contents/Resources/julia/share/julia/stdlib/v1.5/SparseArrays/src/linalg.jl:15\n",
       "[155] +(A::LinearAlgebra.Symmetric, B::SparseArrays.AbstractSparseArray{Tv,Ti,2} where Ti where Tv) in SparseArrays at /Applications/Julia-1.5.app/Contents/Resources/julia/share/julia/stdlib/v1.5/SparseArrays/src/linalg.jl:16\n",
       "[156] +(A::LinearAlgebra.Symmetric{var\"#s828\",var\"#s827\"} where var\"#s827\"<:(SparseArrays.AbstractSparseArray{Tv,Ti,2} where Ti where Tv) where var\"#s828\", B::LinearAlgebra.Hermitian{var\"#s826\",var\"#s825\"} where var\"#s825\"<:(SparseArrays.AbstractSparseArray{Tv,Ti,2} where Ti where Tv) where var\"#s826\") in SparseArrays at /Applications/Julia-1.5.app/Contents/Resources/julia/share/julia/stdlib/v1.5/SparseArrays/src/linalg.jl:21\n",
       "[157] +(A::LinearAlgebra.Hermitian{var\"#s824\",var\"#s823\"} where var\"#s823\"<:(SparseArrays.AbstractSparseArray{Tv,Ti,2} where Ti where Tv) where var\"#s824\", B::LinearAlgebra.Symmetric{var\"#s822\",var\"#s821\"} where var\"#s821\"<:(SparseArrays.AbstractSparseArray{Tv,Ti,2} where Ti where Tv) where var\"#s822\") in SparseArrays at /Applications/Julia-1.5.app/Contents/Resources/julia/share/julia/stdlib/v1.5/SparseArrays/src/linalg.jl:22\n",
       "[158] +(a::StaticArrays.StaticArray, b::StaticArrays.StaticArray) in StaticArrays at /Users/ap/.julia/packages/StaticArrays/l7lu2/src/linalg.jl:11\n",
       "[159] +(a::StaticArrays.StaticArray, b::AbstractArray) in StaticArrays at /Users/ap/.julia/packages/StaticArrays/l7lu2/src/linalg.jl:13\n",
       "[160] +(a::StaticArrays.SHermitianCompact, b::Number) in StaticArrays at deprecated.jl:70\n",
       "[161] +(a::StaticArrays.StaticArray, b::Number) in StaticArrays at deprecated.jl:70\n",
       "[162] +(x::AbstractArray{var\"#s91\",N} where N where var\"#s91\"<:Number) in Base at abstractarraymath.jl:97\n",
       "[163] +(a::AbstractArray, b::StaticArrays.StaticArray) in StaticArrays at /Users/ap/.julia/packages/StaticArrays/l7lu2/src/linalg.jl:12\n",
       "[164] +(A::AbstractArray, B::AbstractArray) in Base at arraymath.jl:37\n",
       "[165] +(x::T, y::Integer) where T<:AbstractChar in Base at char.jl:223\n",
       "[166] +(index1::CartesianIndex{N}, index2::CartesianIndex{N}) where N in Base.IteratorsMD at multidimensional.jl:113\n",
       "[167] +(::Number, ::Missing) in Base at missing.jl:116\n",
       "[168] +(x::P, y::P) where P<:Dates.Period in Dates at /Applications/Julia-1.5.app/Contents/Resources/julia/share/julia/stdlib/v1.5/Dates/src/periods.jl:78\n",
       "[169] +(x::Dates.Period, y::Dates.Period) in Dates at /Applications/Julia-1.5.app/Contents/Resources/julia/share/julia/stdlib/v1.5/Dates/src/periods.jl:344\n",
       "[170] +(y::Dates.Period, x::Dates.CompoundPeriod) in Dates at /Applications/Julia-1.5.app/Contents/Resources/julia/share/julia/stdlib/v1.5/Dates/src/periods.jl:346\n",
       "[171] +(x::Union{Dates.CompoundPeriod, Dates.Period}) in Dates at /Applications/Julia-1.5.app/Contents/Resources/julia/share/julia/stdlib/v1.5/Dates/src/periods.jl:355\n",
       "[172] +(x::Dates.TimeType) in Dates at /Applications/Julia-1.5.app/Contents/Resources/julia/share/julia/stdlib/v1.5/Dates/src/arithmetic.jl:8\n",
       "[173] +(a::Dates.TimeType, b::Dates.Period, c::Dates.Period) in Dates at /Applications/Julia-1.5.app/Contents/Resources/julia/share/julia/stdlib/v1.5/Dates/src/periods.jl:366\n",
       "[174] +(a::Dates.TimeType, b::Dates.Period, c::Dates.Period, d::Dates.Period...) in Dates at /Applications/Julia-1.5.app/Contents/Resources/julia/share/julia/stdlib/v1.5/Dates/src/periods.jl:367\n",
       "[175] +(x::Dates.TimeType, y::Dates.CompoundPeriod) in Dates at /Applications/Julia-1.5.app/Contents/Resources/julia/share/julia/stdlib/v1.5/Dates/src/periods.jl:369\n",
       "[176] +(x::Dates.Instant) in Dates at /Applications/Julia-1.5.app/Contents/Resources/julia/share/julia/stdlib/v1.5/Dates/src/arithmetic.jl:4\n",
       "[177] +(y::Dates.Period, x::Dates.TimeType) in Dates at /Applications/Julia-1.5.app/Contents/Resources/julia/share/julia/stdlib/v1.5/Dates/src/arithmetic.jl:80\n",
       "[178] +(x::Dates.Period, r::AbstractRange{var\"#s828\"} where var\"#s828\"<:Dates.TimeType) in Dates at /Applications/Julia-1.5.app/Contents/Resources/julia/share/julia/stdlib/v1.5/Dates/src/ranges.jl:58\n",
       "[179] +(x::AbstractArray{var\"#s828\",N} where N where var\"#s828\"<:Dates.TimeType, y::Union{Dates.CompoundPeriod, Dates.Period}) in Dates at /Applications/Julia-1.5.app/Contents/Resources/julia/share/julia/stdlib/v1.5/Dates/src/deprecated.jl:6\n",
       "[180] +(y::Union{Dates.CompoundPeriod, Dates.Period}, x::AbstractArray{var\"#s828\",N} where N where var\"#s828\"<:Dates.TimeType) in Dates at /Applications/Julia-1.5.app/Contents/Resources/julia/share/julia/stdlib/v1.5/Dates/src/deprecated.jl:14\n",
       "[181] +(y::Dates.TimeType, x::StridedArray{var\"#s828\", N} where N where var\"#s828\"<:Union{Dates.CompoundPeriod, Dates.Period}) in Dates at /Applications/Julia-1.5.app/Contents/Resources/julia/share/julia/stdlib/v1.5/Dates/src/deprecated.jl:18\n",
       "[182] +(J::LinearAlgebra.UniformScaling, x::Number) in LinearAlgebra at /Applications/Julia-1.5.app/Contents/Resources/julia/share/julia/stdlib/v1.5/LinearAlgebra/src/uniformscaling.jl:111\n",
       "[183] +(x::Number, J::LinearAlgebra.UniformScaling) in LinearAlgebra at /Applications/Julia-1.5.app/Contents/Resources/julia/share/julia/stdlib/v1.5/LinearAlgebra/src/uniformscaling.jl:112\n",
       "[184] +(J1::LinearAlgebra.UniformScaling, J2::LinearAlgebra.UniformScaling) in LinearAlgebra at /Applications/Julia-1.5.app/Contents/Resources/julia/share/julia/stdlib/v1.5/LinearAlgebra/src/uniformscaling.jl:116\n",
       "[185] +(J::LinearAlgebra.UniformScaling, B::BitArray{2}) in LinearAlgebra at /Applications/Julia-1.5.app/Contents/Resources/julia/share/julia/stdlib/v1.5/LinearAlgebra/src/uniformscaling.jl:118\n",
       "[186] +(A::LinearAlgebra.UniformScaling, B::LinearAlgebra.Tridiagonal{var\"#s828\",V} where V<:AbstractArray{var\"#s828\",1} where var\"#s828\"<:Number) in LinearAlgebra at /Applications/Julia-1.5.app/Contents/Resources/julia/share/julia/stdlib/v1.5/LinearAlgebra/src/special.jl:245\n",
       "[187] +(A::LinearAlgebra.UniformScaling, B::LinearAlgebra.SymTridiagonal{var\"#s828\",V} where V<:AbstractArray{var\"#s828\",1} where var\"#s828\"<:Number) in LinearAlgebra at /Applications/Julia-1.5.app/Contents/Resources/julia/share/julia/stdlib/v1.5/LinearAlgebra/src/special.jl:250\n",
       "[188] +(A::LinearAlgebra.UniformScaling, B::LinearAlgebra.Bidiagonal{var\"#s828\",V} where V<:AbstractArray{var\"#s828\",1} where var\"#s828\"<:Number) in LinearAlgebra at /Applications/Julia-1.5.app/Contents/Resources/julia/share/julia/stdlib/v1.5/LinearAlgebra/src/special.jl:255\n",
       "[189] +(A::LinearAlgebra.UniformScaling, B::LinearAlgebra.Diagonal{var\"#s828\",V} where V<:AbstractArray{var\"#s828\",1} where var\"#s828\"<:Number) in LinearAlgebra at /Applications/Julia-1.5.app/Contents/Resources/julia/share/julia/stdlib/v1.5/LinearAlgebra/src/special.jl:260\n",
       "[190] +(a::LinearAlgebra.UniformScaling, b::StaticArrays.StaticArray{Tuple{N,M},T,2} where T where M where N) in StaticArrays at /Users/ap/.julia/packages/StaticArrays/l7lu2/src/linalg.jl:29\n",
       "[191] +(J::LinearAlgebra.UniformScaling, A::AbstractArray{T,2} where T) in LinearAlgebra at /Applications/Julia-1.5.app/Contents/Resources/julia/share/julia/stdlib/v1.5/LinearAlgebra/src/uniformscaling.jl:119\n",
       "[192] +(F::LinearAlgebra.Hessenberg, J::LinearAlgebra.UniformScaling) in LinearAlgebra at /Applications/Julia-1.5.app/Contents/Resources/julia/share/julia/stdlib/v1.5/LinearAlgebra/src/hessenberg.jl:559\n",
       "[193] +(J::LinearAlgebra.UniformScaling, F::LinearAlgebra.Hessenberg) in LinearAlgebra at /Applications/Julia-1.5.app/Contents/Resources/julia/share/julia/stdlib/v1.5/LinearAlgebra/src/hessenberg.jl:560\n",
       "[194] +(a::C, b::C) where C<:Union{LMS, XYZ} in Colors at /Users/ap/.julia/packages/Colors/kc2v8/src/algorithms.jl:4\n",
       "[195] +(a::Number, b::StaticArrays.SHermitianCompact) in StaticArrays at deprecated.jl:70\n",
       "[196] +(a::Number, b::StaticArrays.StaticArray) in StaticArrays at deprecated.jl:70\n",
       "[197] +(h::GeometryTypes.HyperRectangle{N,T}, move::GeometryTypes.Vec{N,T} where T) where {N, T} in GeometryTypes at /Users/ap/.julia/packages/GeometryTypes/gpBFp/src/hyperrectangles.jl:201\n",
       "[198] +(h::GeometryTypes.SimpleRectangle{T}, move::GeometryTypes.Vec{2,T} where T) where T in GeometryTypes at /Users/ap/.julia/packages/GeometryTypes/gpBFp/src/hyperrectangles.jl:208\n",
       "[199] +(a::Measures.Length{U,T} where T, b::Measures.Length{U,T} where T) where U in Measures at /Users/ap/.julia/packages/Measures/0Zkai/src/length.jl:28\n",
       "[200] +(a::Measures.Measure, b::Measures.Measure) in Measures at /Users/ap/.julia/packages/Measures/0Zkai/src/operations.jl:41\n",
       "[201] +(a::Tuple{Vararg{Measures.Measure,N}}, b::Tuple{Vararg{Measures.Measure,N}}) where N in Measures at /Users/ap/.julia/packages/Measures/0Zkai/src/point.jl:21\n",
       "[202] +(a::Tuple{Vararg{Measures.Measure,N}} where N, b::Tuple{Vararg{Measures.Measure,N}} where N) in Measures at /Users/ap/.julia/packages/Measures/0Zkai/src/point.jl:15\n",
       "[203] +(h::GeometryBasics.HyperRectangle{N,T}, move::Number) where {N, T} in GeometryBasics at /Users/ap/.julia/packages/GeometryBasics/csguK/src/primitives/rectangles.jl:264\n",
       "[204] +(h::GeometryBasics.HyperRectangle{N,T}, move::StaticArrays.StaticArray{Tuple{N},T,1} where T) where {N, T} in GeometryBasics at /Users/ap/.julia/packages/GeometryBasics/csguK/src/primitives/rectangles.jl:270\n",
       "[205] +(bb1::Measures.BoundingBox, bb2::Measures.BoundingBox) in Plots at /Users/ap/.julia/packages/Plots/a7Kbp/src/layouts.jl:19\n",
       "[206] +(l1::Lazy.List, ls::Lazy.List...) in Lazy at /Users/ap/.julia/packages/Lazy/9Xnd3/src/Lazy.jl:20\n",
       "[207] +(a, b, c, xs...) in Base at operators.jl:538"
      ]
     },
     "execution_count": 174,
     "metadata": {},
     "output_type": "execute_result"
    }
   ],
   "source": [
    "methods(+)"
   ]
  },
  {
   "cell_type": "markdown",
   "metadata": {},
   "source": [
    "Determine the methods associated with this operator\n"
   ]
  },
  {
   "cell_type": "code",
   "execution_count": 176,
   "metadata": {},
   "outputs": [
    {
     "data": {
      "text/html": [
       "+(x::<b>T</b>, y::<b>T</b>)<i> where T<:Union{Int128, Int16, Int32, Int64, Int8, UInt128, UInt16, UInt32, UInt64, UInt8}</i> in Base at <a href=\"https://github.com/JuliaLang/julia/tree/539f3ce943f59dec8aff3f2238b083f1b27f41e5/base/int.jl#L86\" target=\"_blank\">int.jl:86</a>"
      ],
      "text/plain": [
       "+(x::T, y::T) where T<:Union{Int128, Int16, Int32, Int64, Int8, UInt128, UInt16, UInt32, UInt64, UInt8} in Base at int.jl:86"
      ]
     },
     "execution_count": 176,
     "metadata": {},
     "output_type": "execute_result"
    }
   ],
   "source": [
    "@which 3 + 3 # Tells us that + is using T which is some kind of integer"
   ]
  },
  {
   "cell_type": "code",
   "execution_count": 177,
   "metadata": {},
   "outputs": [
    {
     "data": {
      "text/html": [
       "+(x::<b>Float64</b>, y::<b>Float64</b>) in Base at <a href=\"https://github.com/JuliaLang/julia/tree/539f3ce943f59dec8aff3f2238b083f1b27f41e5/base/float.jl#L401\" target=\"_blank\">float.jl:401</a>"
      ],
      "text/plain": [
       "+(x::Float64, y::Float64) in Base at float.jl:401"
      ]
     },
     "execution_count": 177,
     "metadata": {},
     "output_type": "execute_result"
    }
   ],
   "source": [
    "@which 3.0 + 3.0"
   ]
  },
  {
   "cell_type": "code",
   "execution_count": 178,
   "metadata": {},
   "outputs": [
    {
     "data": {
      "text/html": [
       "+(x::<b>Number</b>, y::<b>Number</b>) in Base at <a href=\"https://github.com/JuliaLang/julia/tree/539f3ce943f59dec8aff3f2238b083f1b27f41e5/base/promotion.jl#L311\" target=\"_blank\">promotion.jl:311</a>"
      ],
      "text/plain": [
       "+(x::Number, y::Number) in Base at promotion.jl:311"
      ]
     },
     "execution_count": 178,
     "metadata": {},
     "output_type": "execute_result"
    }
   ],
   "source": [
    "@which 3+3.0"
   ]
  },
  {
   "cell_type": "markdown",
   "metadata": {},
   "source": [
    "To extend it, we need to import + from Base"
   ]
  },
  {
   "cell_type": "code",
   "execution_count": 179,
   "metadata": {},
   "outputs": [],
   "source": [
    "import Base: +"
   ]
  },
  {
   "cell_type": "markdown",
   "metadata": {},
   "source": [
    "We want to be able to concatenate strings with +"
   ]
  },
  {
   "cell_type": "code",
   "execution_count": 180,
   "metadata": {},
   "outputs": [],
   "source": [
    "# \"hello \" + \"world\" # throws an error"
   ]
  },
  {
   "cell_type": "code",
   "execution_count": 181,
   "metadata": {},
   "outputs": [
    {
     "data": {
      "text/plain": [
       "+ (generic function with 208 methods)"
      ]
     },
     "execution_count": 181,
     "metadata": {},
     "output_type": "execute_result"
    }
   ],
   "source": [
    "+(x::String, y::String) = string(x, y)"
   ]
  },
  {
   "cell_type": "code",
   "execution_count": 182,
   "metadata": {},
   "outputs": [
    {
     "data": {
      "text/plain": [
       "\"hello world\""
      ]
     },
     "execution_count": 182,
     "metadata": {},
     "output_type": "execute_result"
    }
   ],
   "source": [
    "\"hello \" + \"world\""
   ]
  },
  {
   "cell_type": "markdown",
   "metadata": {},
   "source": [
    "Now it works! Now we can check where the method is defined"
   ]
  },
  {
   "cell_type": "code",
   "execution_count": 183,
   "metadata": {},
   "outputs": [
    {
     "data": {
      "text/html": [
       "+(x::<b>String</b>, y::<b>String</b>) in Main at In[181]:1"
      ],
      "text/plain": [
       "+(x::String, y::String) in Main at In[181]:1"
      ]
     },
     "execution_count": 183,
     "metadata": {},
     "output_type": "execute_result"
    }
   ],
   "source": [
    "@which \"hello \" + \"world\""
   ]
  },
  {
   "cell_type": "code",
   "execution_count": 184,
   "metadata": {},
   "outputs": [
    {
     "data": {
      "text/plain": [
       "foo (generic function with 4 methods)"
      ]
     },
     "execution_count": 184,
     "metadata": {},
     "output_type": "execute_result"
    }
   ],
   "source": [
    "foo(x, y) = println(\"Duck typed foo\")\n",
    "foo(x::Int, y::Float64) = println(\"foo with an integer and a float\")\n",
    "foo(x::Float64, y::Float64) = println(\"foo with 2 floats\")\n",
    "foo(x::Int, y::Int) = println(\"Foo with 2 ints\")"
   ]
  },
  {
   "cell_type": "code",
   "execution_count": 185,
   "metadata": {},
   "outputs": [
    {
     "name": "stdout",
     "output_type": "stream",
     "text": [
      "Foo with 2 ints\n",
      "foo with 2 floats\n",
      "foo with an integer and a float\n",
      "Duck typed foo\n"
     ]
    }
   ],
   "source": [
    "foo(1, 1)\n",
    "foo(1., 1.)\n",
    "foo(1, 1.)\n",
    "foo(\"a\", \"b\")"
   ]
  },
  {
   "cell_type": "markdown",
   "metadata": {},
   "source": [
    "# Assignments"
   ]
  },
  {
   "cell_type": "code",
   "execution_count": 186,
   "metadata": {},
   "outputs": [
    {
     "data": {
      "text/plain": [
       "3×3 Array{Int64,2}:\n",
       " 2  4  1\n",
       " 2  1  2\n",
       " 1  1  3"
      ]
     },
     "execution_count": 186,
     "metadata": {},
     "output_type": "execute_result"
    }
   ],
   "source": [
    "A = rand(1:4, 3, 3)"
   ]
  },
  {
   "cell_type": "code",
   "execution_count": 188,
   "metadata": {},
   "outputs": [
    {
     "data": {
      "text/plain": [
       "3×6 Array{Int64,2}:\n",
       " 2  4  1  2  4  1\n",
       " 2  1  2  2  1  2\n",
       " 1  1  3  1  1  3"
      ]
     },
     "execution_count": 188,
     "metadata": {},
     "output_type": "execute_result"
    }
   ],
   "source": [
    "B = A\n",
    "C = copy(A)\n",
    "[ B C ] # Show side by side"
   ]
  },
  {
   "cell_type": "code",
   "execution_count": 189,
   "metadata": {},
   "outputs": [
    {
     "data": {
      "text/plain": [
       "3×6 Array{Int64,2}:\n",
       " 17  4  1  2  4  1\n",
       "  2  1  2  2  1  2\n",
       "  1  1  3  1  1  3"
      ]
     },
     "execution_count": 189,
     "metadata": {},
     "output_type": "execute_result"
    }
   ],
   "source": [
    "A[1] = 17\n",
    "[ B C ]"
   ]
  },
  {
   "cell_type": "markdown",
   "metadata": {},
   "source": [
    "Now we see that because we didn't use `copy()` with `B = A`, it did a shallow (reference) assignment"
   ]
  },
  {
   "cell_type": "markdown",
   "metadata": {},
   "source": [
    "# Basic Linear Algebra"
   ]
  },
  {
   "cell_type": "code",
   "execution_count": 190,
   "metadata": {},
   "outputs": [
    {
     "data": {
      "text/plain": [
       "3-element Array{Float64,1}:\n",
       " 1.0\n",
       " 1.0\n",
       " 1.0"
      ]
     },
     "execution_count": 190,
     "metadata": {},
     "output_type": "execute_result"
    }
   ],
   "source": [
    "x = ones(3)"
   ]
  },
  {
   "cell_type": "markdown",
   "metadata": {},
   "source": [
    "### Multiplication"
   ]
  },
  {
   "cell_type": "code",
   "execution_count": 191,
   "metadata": {},
   "outputs": [
    {
     "data": {
      "text/plain": [
       "3-element Array{Float64,1}:\n",
       " 22.0\n",
       "  5.0\n",
       "  5.0"
      ]
     },
     "execution_count": 191,
     "metadata": {},
     "output_type": "execute_result"
    }
   ],
   "source": [
    "b = A*x"
   ]
  },
  {
   "cell_type": "markdown",
   "metadata": {},
   "source": [
    "### Transpose\n",
    "\n",
    "`A'` is the conjugate transpose whereas `A.'` is the regular transpose"
   ]
  },
  {
   "cell_type": "code",
   "execution_count": 192,
   "metadata": {},
   "outputs": [
    {
     "data": {
      "text/plain": [
       "3×3 Array{Int64,2}:\n",
       " 34  6  2\n",
       "  6  2  3\n",
       "  2  3  6"
      ]
     },
     "execution_count": 192,
     "metadata": {},
     "output_type": "execute_result"
    }
   ],
   "source": [
    "Asym = A + A'"
   ]
  },
  {
   "cell_type": "markdown",
   "metadata": {},
   "source": [
    "### Transposed Multiplication"
   ]
  },
  {
   "cell_type": "code",
   "execution_count": 195,
   "metadata": {},
   "outputs": [
    {
     "data": {
      "text/plain": [
       "3×3 Array{Int64,2}:\n",
       " 294  71  24\n",
       "  71  18   9\n",
       "  24   9  14"
      ]
     },
     "execution_count": 195,
     "metadata": {},
     "output_type": "execute_result"
    }
   ],
   "source": [
    "A'A # Multiplication is implied"
   ]
  },
  {
   "cell_type": "markdown",
   "metadata": {},
   "source": [
    "The problem $Ax=b$ for square $A$ is solved by the `\\` function"
   ]
  },
  {
   "cell_type": "code",
   "execution_count": 196,
   "metadata": {},
   "outputs": [
    {
     "data": {
      "text/plain": [
       "3-element Array{Float64,1}:\n",
       " 1.0\n",
       " 1.0\n",
       " 1.0"
      ]
     },
     "execution_count": 196,
     "metadata": {},
     "output_type": "execute_result"
    }
   ],
   "source": [
    "A\\b"
   ]
  },
  {
   "cell_type": "markdown",
   "metadata": {},
   "source": [
    "### Overdetermined systems\n",
    "\n",
    "When $A$ is tall (not square) the `\\` function calculates the least squares solution"
   ]
  },
  {
   "cell_type": "code",
   "execution_count": 197,
   "metadata": {},
   "outputs": [
    {
     "data": {
      "text/plain": [
       "3×2 Array{Int64,2}:\n",
       " 17  4\n",
       "  2  1\n",
       "  1  1"
      ]
     },
     "metadata": {},
     "output_type": "display_data"
    },
    {
     "data": {
      "text/plain": [
       "2-element Array{Float64,1}:\n",
       " 0.17529880478087645\n",
       " 4.752988047808765"
      ]
     },
     "execution_count": 197,
     "metadata": {},
     "output_type": "execute_result"
    }
   ],
   "source": [
    "Atall = A[:,1:2] # Keep all rows and only the first 2 columns of A\n",
    "display(Atall)\n",
    "Atall\\b"
   ]
  },
  {
   "cell_type": "markdown",
   "metadata": {},
   "source": [
    "The `\\` function also works for rank deficient least squares problems. In this case, the least square solution is not unique, so Julia returns the solution with the smallest norm."
   ]
  },
  {
   "cell_type": "code",
   "execution_count": 198,
   "metadata": {},
   "outputs": [
    {
     "data": {
      "text/plain": [
       "3×3 Array{Float64,2}:\n",
       " 0.0952259  -2.22039   0.051345\n",
       " 0.617777   -0.137439  0.412599\n",
       " 2.17635     0.496936  0.381384"
      ]
     },
     "execution_count": 198,
     "metadata": {},
     "output_type": "execute_result"
    }
   ],
   "source": [
    "A = randn(3, 3)"
   ]
  },
  {
   "cell_type": "code",
   "execution_count": 199,
   "metadata": {},
   "outputs": [
    {
     "data": {
      "text/plain": [
       "2-element Array{Float64,1}:\n",
       " 1.5667013000584706\n",
       " 1.5667013000584706"
      ]
     },
     "execution_count": 199,
     "metadata": {},
     "output_type": "execute_result"
    }
   ],
   "source": [
    "[A[:, 1] A[:, 1]]\\b # Taking the outer product of a vector with itself"
   ]
  },
  {
   "cell_type": "markdown",
   "metadata": {},
   "source": [
    "### Underdetermined systems\n",
    "\n",
    "Where A is short the `\\` function returns the minimum norm solution"
   ]
  },
  {
   "cell_type": "code",
   "execution_count": 200,
   "metadata": {},
   "outputs": [
    {
     "data": {
      "text/plain": [
       "2×3 Array{Float64,2}:\n",
       " 0.0952259  -2.22039   0.051345\n",
       " 0.617777   -0.137439  0.412599"
      ]
     },
     "metadata": {},
     "output_type": "display_data"
    },
    {
     "data": {
      "text/plain": [
       "3-element Array{Float64,1}:\n",
       "  4.132030984255059\n",
       " -9.668255684934179\n",
       "  2.7109385026957145"
      ]
     },
     "execution_count": 200,
     "metadata": {},
     "output_type": "execute_result"
    }
   ],
   "source": [
    "Ashort = A[1:2, :]\n",
    "display(Ashort)\n",
    "Ashort\\b[1:2]"
   ]
  },
  {
   "cell_type": "code",
   "execution_count": null,
   "metadata": {},
   "outputs": [],
   "source": []
  }
 ],
 "metadata": {
  "kernelspec": {
   "display_name": "Julia 1.5.2",
   "language": "julia",
   "name": "julia-1.5"
  },
  "language_info": {
   "file_extension": ".jl",
   "mimetype": "application/julia",
   "name": "julia",
   "version": "1.5.2"
  }
 },
 "nbformat": 4,
 "nbformat_minor": 4
}
