{
 "cells": [
  {
   "cell_type": "markdown",
   "metadata": {},
   "source": [
    "1. Derive the analytical gradients for the model parameters given the square loss."
   ]
  },
  {
   "cell_type": "markdown",
   "metadata": {},
   "source": [
    "$$                   \\mathcal{L} = \\frac{1}{n}\\displaystyle\\sum_{i=1}{\\frac{(y_i -\\hat{y_i})^2}{2}}\n",
    "$$"
   ]
  },
  {
   "cell_type": "markdown",
   "metadata": {},
   "source": [
    "Let $$ \\hat{y_i} = \\sigma(z_i) - sigmoid function $$\n",
    "where $$z_i = \\sum_{j=1}^{m} x_{ij}.w_j + b$$\n",
    "\n",
    "By applying the chain rule to get the gradients:\n",
    "\n",
    "$$\\frac{\\delta \\mathcal L}{\\delta w_j} = \\sum_{i=1}^{n}\\frac{\\delta \\mathcal L}{\\delta \\hat{y}_i} \\times \\frac{\\delta \\hat{y}_i}{\\delta z_i} \\times \\frac{\\delta z_i}{\\delta w_j} \\hspace{1cm}(1) $$\n",
    "$$\\frac{\\delta \\mathcal L}{\\delta b} = \\sum_{i=1}^{n}\\frac{\\delta \\mathcal L}{\\delta \\hat{y}_i} \\times \\frac{\\delta \\hat{y}_i}{\\delta z_i} \\times \\frac{\\delta z_i}{\\delta b} \\hspace{1.5cm}  (2) $$\n"
   ]
  },
  {
   "cell_type": "markdown",
   "metadata": {},
   "source": [
    "(1) Since we know that:\n",
    "\n",
    "$$ \\sigma'(z_i) = \\sigma(z_i) (1 - \\sigma(z_i))$$\n",
    "then\n",
    "$$ \\frac{\\delta \\hat{y}_i}{\\delta z_i}  = \\hat{y_i}(1 - \\hat{y_i})$$\n",
    "\n",
    "Also\n",
    "$$ \\frac{\\delta \\mathcal L}{\\delta \\hat{y}_i} = \\hat{y_i} - {y_i} $$\n",
    "and \n",
    "  $$ \\frac{\\delta z_i}{\\delta w_j} = x_{ij}$$\n",
    "  \n",
    "As a result,\n",
    "$$\\frac{\\delta \\mathcal L}{\\delta w_j} = \\sum_{i=1}^{n}(\\hat{y_i} - {y_i})\\hat{y_i}(1 - \\hat{y_i})x_{ij} $$\n",
    "   \n"
   ]
  },
  {
   "cell_type": "markdown",
   "metadata": {},
   "source": [
    "For (2) in addition, we calculate:\n",
    "$$\\frac{\\delta z_i}{\\delta b} = 1$$\n",
    "\n",
    "Then\n",
    "$$\\frac{\\delta \\mathcal L}{\\delta b} = \\sum_{i=1}^{n}(\\hat{y_i} - {y_i})\\hat{y_i}(1 - \\hat{y_i}) $$"
   ]
  },
  {
   "cell_type": "markdown",
   "metadata": {},
   "source": [
    "2. Provide code verifying that your analytical gradients are correct using finite difference for\n",
    "two or more samples from the training data (you are free to use an external package that\n",
    "calculates the finite difference)."
   ]
  },
  {
   "cell_type": "code",
   "execution_count": null,
   "metadata": {},
   "outputs": [],
   "source": []
  }
 ],
 "metadata": {
  "kernelspec": {
   "display_name": "Python 3",
   "language": "python",
   "name": "python3"
  },
  "language_info": {
   "codemirror_mode": {
    "name": "ipython",
    "version": 3
   },
   "file_extension": ".py",
   "mimetype": "text/x-python",
   "name": "python",
   "nbconvert_exporter": "python",
   "pygments_lexer": "ipython3",
   "version": "3.7.4"
  }
 },
 "nbformat": 4,
 "nbformat_minor": 4
}
