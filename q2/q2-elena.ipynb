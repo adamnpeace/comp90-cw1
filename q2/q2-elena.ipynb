{
 "cells": [
  {
   "cell_type": "code",
   "execution_count": 1,
   "metadata": {},
   "outputs": [],
   "source": [
    "import tarfile\n",
    "import urllib.request\n",
    "import numpy as np\n",
    "from matplotlib import pyplot as plt\n",
    "from sklearn.utils import shuffle\n",
    "from sklearn.metrics import mean_squared_error\n",
    "plt.set_cmap(\"gray\") # Otherwise grayscale images look purple\n",
    "%matplotlib inline"
   ]
  },
  {
   "cell_type": "code",
   "execution_count": 2,
   "metadata": {},
   "outputs": [
    {
     "data": {
      "text/plain": [
       "<bound method TarFile.close of <tarfile.TarFile object at 0x000002D156940F98>>"
      ]
     },
     "execution_count": 2,
     "metadata": {},
     "output_type": "execute_result"
    }
   ],
   "source": [
    "url = 'http://udon.stacken.kth.se/~ninjin/comp0090_assignment_1_data.tar.gz'\n",
    "ftpstream = urllib.request.urlopen(url)\n",
    "tar = tarfile.open(fileobj=ftpstream, mode=\"r|gz\")\n",
    "tar.extractall()\n",
    "tar.close"
   ]
  },
  {
   "cell_type": "code",
   "execution_count": 3,
   "metadata": {},
   "outputs": [],
   "source": [
    "trainxs = np.load(\"comp0090_assignment_1_data/fashion-train-imgs.npz\").transpose((2, 1, 0))\n",
    "trainys = np.load(\"comp0090_assignment_1_data/fashion-train-labels.npz\")\n",
    "devxs   = np.load(\"comp0090_assignment_1_data/fashion-dev-imgs.npz\").transpose((2, 1, 0))\n",
    "devys   = np.load(\"comp0090_assignment_1_data/fashion-dev-labels.npz\")\n",
    "testxs  = np.load(\"comp0090_assignment_1_data/fashion-test-imgs.npz\").transpose((2, 1, 0))\n",
    "testys  = np.load(\"comp0090_assignment_1_data/fashion-test-labels.npz\")"
   ]
  },
  {
   "cell_type": "code",
   "execution_count": 4,
   "metadata": {},
   "outputs": [
    {
     "name": "stdout",
     "output_type": "stream",
     "text": [
      "(12000, 28, 28)\n",
      "(12000,)\n",
      "(1000, 28, 28)\n",
      "(1000,)\n",
      "(1000, 28, 28)\n",
      "(1000,)\n"
     ]
    }
   ],
   "source": [
    "print(trainxs.shape)\n",
    "print(trainys.shape)\n",
    "print(devxs.shape)\n",
    "print(devys.shape)\n",
    "print(testxs.shape)\n",
    "print(testys.shape)"
   ]
  },
  {
   "cell_type": "code",
   "execution_count": 5,
   "metadata": {},
   "outputs": [
    {
     "data": {
      "image/png": "[encoded data removed]",
      "text/plain": [
       "<Figure size 432x288 with 16 Axes>"
      ]
     },
     "metadata": {
      "needs_background": "light"
     },
     "output_type": "display_data"
    }
   ],
   "source": [
    "f, axarr = plt.subplots(4,4)\n",
    "for i in range(4):\n",
    "    for j in range(4):\n",
    "        axarr[i, j].imshow(trainxs[np.random.randint(0, len(trainxs))])"
   ]
  },
  {
   "cell_type": "code",
   "execution_count": 6,
   "metadata": {},
   "outputs": [],
   "source": [
    "# reshape data to make it easier to work with\n",
    "trainxs = trainxs.reshape(-1, 784)\n",
    "devxs = devxs.reshape(-1, 784)\n",
    "testxs = testxs.reshape(-1, 784)"
   ]
  },
  {
   "cell_type": "code",
   "execution_count": 7,
   "metadata": {},
   "outputs": [],
   "source": [
    "# function to create weight and sum parameters for the algorithm\n",
    "def initialise_parameters(xs):\n",
    "    w = np.zeros(xs.shape[1])\n",
    "    b = 0\n",
    "    return w, b"
   ]
  },
  {
   "cell_type": "code",
   "execution_count": 8,
   "metadata": {},
   "outputs": [],
   "source": [
    "def logistic_func(x):\n",
    "    return 1/(1 + np.exp(-x))\n",
    "\n",
    "def logistic_der(x):\n",
    "    return logistic_func(x) * (1 - logistic_func(x))\n",
    "\n",
    "def f(x, w, b):\n",
    "    return logistic_func(np.dot(w, x) + b)\n",
    "\n",
    "def p(x, w, b):\n",
    "    if f(x, w, b) >= 0.5:\n",
    "        return 1\n",
    "    return 0"
   ]
  },
  {
   "cell_type": "code",
   "execution_count": 9,
   "metadata": {},
   "outputs": [],
   "source": [
    "#Measure Accuracy\n",
    "\n",
    "def accuracy(xs, ys, w, b):\n",
    "    correct = 0\n",
    "    for i in range(xs.shape[0]):\n",
    "        if p(xs[i], w, b) == ys[i]:\n",
    "            correct += 1\n",
    "    return correct/len(xs)*100    "
   ]
  },
  {
   "cell_type": "code",
   "execution_count": 10,
   "metadata": {},
   "outputs": [],
   "source": [
    "#Loss Function\n",
    "\n",
    "def loss_func(ys, y_predict):\n",
    "    sum = 0\n",
    "    n = ys.shape[0]\n",
    "    for i in range(n):\n",
    "        sum += (ys[i] - y_predict[i]) ** 2\n",
    "    return sum / (2*n)"
   ]
  },
  {
   "cell_type": "code",
   "execution_count": 11,
   "metadata": {},
   "outputs": [],
   "source": [
    "#Loss Function for single points\n",
    "\n",
    "def loss(y, y_hat):\n",
    "    return ((y - y_hat) ** 2) / 2"
   ]
  },
  {
   "cell_type": "code",
   "execution_count": 12,
   "metadata": {},
   "outputs": [],
   "source": [
    "def validation_predictions(devxs, devys, w, b):\n",
    "    y_predict = []\n",
    "    \n",
    "    for i in range(devxs.shape[0]):\n",
    "        y_hat = f(devxs[i], w, b)\n",
    "        y_predict.append(y_hat)\n",
    "        \n",
    "    return y_predict"
   ]
  },
  {
   "cell_type": "code",
   "execution_count": 24,
   "metadata": {},
   "outputs": [],
   "source": [
    "def logistic_regression(trainxs, trainys, devxs, devys):\n",
    "    w, b = initialise_parameters(trainxs)\n",
    "    \n",
    "    accuracy_training = []\n",
    "    accuracy_validation = []\n",
    "    \n",
    "    # store predicted y's and loss for each epoch\n",
    "    y_predict = []\n",
    "    loss_training = []\n",
    "    loss_validation = []\n",
    "    \n",
    "    mse_train_list = []\n",
    "    mse_val_list = []\n",
    "    \n",
    "    # store old accuracy and consecutive epochs count to detect convergence\n",
    "    loss_old = loss_func(devys, validation_predictions(devxs, devys, w, b))\n",
    "    row_epoch = 0\n",
    "    \n",
    "    # store number of epochs to have a nice graph\n",
    "    epoch = 0\n",
    "    learning_rate = 0.1\n",
    "    \n",
    "    while True:\n",
    "        print('Epoch', epoch)\n",
    "        trainxs, trainys = shuffle(trainxs, trainys)\n",
    "        grad_w, grad_b = initialise_parameters(trainxs)\n",
    "        y_predict = []\n",
    "\n",
    "        for i in range(trainxs.shape[0]):\n",
    "            y_hat = f(trainxs[i], w, b)\n",
    "            y_predict.append(y_hat)\n",
    "            grad_w += trainxs[i] * (y_hat - trainys[i]) * (1 - y_hat) * y_hat \n",
    "            grad_b += (y_hat - trainys[i]) * (1 - y_hat) * y_hat \n",
    "\n",
    "        grad_w /= trainxs.shape[0]\n",
    "        grad_b /= trainxs.shape[0]\n",
    "        w -= learning_rate * grad_w\n",
    "        b -= learning_rate * grad_b\n",
    "\n",
    "        accuracy_train = accuracy(trainxs, trainys, w, b)\n",
    "        accuracy_training.append(accuracy_train)\n",
    "        print('Training set accuracy:', accuracy(trainxs, trainys, w, b))\n",
    "        accuracy_dev = accuracy(devxs, devys, w, b)\n",
    "        accuracy_validation.append(accuracy_dev)\n",
    "        print('Validation set accuracy:', accuracy_dev)\n",
    "        \n",
    "        loss_train = loss_func(trainys, y_predict)\n",
    "        loss_training.append(loss_train)\n",
    "        print('Training set loss:', loss_train)\n",
    "        loss_dev = loss_func(devys, validation_predictions(devxs, devys, w, b))\n",
    "        loss_validation.append(loss_dev)\n",
    "        print('Validation set loss:', loss_dev)\n",
    "        \n",
    "        mse_training = mean_squared_error(trainys, y_predict)/2\n",
    "        mse_train_list.append(mse_training)\n",
    "        mse_validation = mean_squared_error(devys, validation_predictions(devxs, devys, w, b))/2\n",
    "        mse_val_list.append(mse_validation)\n",
    "        \n",
    "        # check if converged\n",
    "        if np.abs(loss_dev - loss_old) < 0.001:\n",
    "            row_epoch += 1\n",
    "            if row_epoch == 5:\n",
    "                break\n",
    "        else:\n",
    "            row_epoch = 0\n",
    "            \n",
    "        loss_old = loss_dev\n",
    "        epoch += 1\n",
    "    \n",
    "    return epoch, accuracy_training, accuracy_validation, loss_training, loss_validation, mse_train_list, mse_val_list"
   ]
  },
  {
   "cell_type": "code",
   "execution_count": 25,
   "metadata": {},
   "outputs": [
    {
     "name": "stdout",
     "output_type": "stream",
     "text": [
      "Epoch 0\n",
      "Training set accuracy: 55.95833333333333\n",
      "Validation set accuracy: 56.89999999999999\n",
      "Training set loss: 0.125\n",
      "Validation set loss: 0.11715526461237141\n",
      "Epoch 1\n",
      "Training set accuracy: 66.4\n",
      "Validation set accuracy: 68.4\n",
      "Training set loss: 0.11758031575658484\n",
      "Validation set loss: 0.11166747791745214\n",
      "Epoch 2\n",
      "Training set accuracy: 71.98333333333333\n",
      "Validation set accuracy: 71.89999999999999\n",
      "Training set loss: 0.11214173444297776\n",
      "Validation set loss: 0.10685128822965706\n",
      "Epoch 3\n",
      "Training set accuracy: 76.40833333333333\n",
      "Validation set accuracy: 76.2\n",
      "Training set loss: 0.10732754581142978\n",
      "Validation set loss: 0.1025725819794579\n",
      "Epoch 4\n",
      "Training set accuracy: 78.34166666666667\n",
      "Validation set accuracy: 78.8\n",
      "Training set loss: 0.10306007592268594\n",
      "Validation set loss: 0.09876912731742027\n",
      "Epoch 5\n",
      "Training set accuracy: 79.48333333333333\n",
      "Validation set accuracy: 80.2\n",
      "Training set loss: 0.09927988984547219\n",
      "Validation set loss: 0.09538216917298471\n",
      "Epoch 6\n",
      "Training set accuracy: 80.15\n",
      "Validation set accuracy: 80.7\n",
      "Training set loss: 0.09592490463979385\n",
      "Validation set loss: 0.0923557504513331\n",
      "Epoch 7\n",
      "Training set accuracy: 80.48333333333333\n",
      "Validation set accuracy: 81.10000000000001\n",
      "Training set loss: 0.0929362580081717\n",
      "Validation set loss: 0.08963916553053887\n",
      "Epoch 8\n",
      "Training set accuracy: 80.80833333333334\n",
      "Validation set accuracy: 81.6\n",
      "Training set loss: 0.0902611372852624\n",
      "Validation set loss: 0.08718804628863795\n",
      "Epoch 9\n",
      "Training set accuracy: 81.10833333333333\n",
      "Validation set accuracy: 81.89999999999999\n",
      "Training set loss: 0.08785367163428177\n",
      "Validation set loss: 0.08496438531543041\n",
      "Epoch 10\n",
      "Training set accuracy: 81.15833333333333\n",
      "Validation set accuracy: 82.19999999999999\n",
      "Training set loss: 0.08567478400541688\n",
      "Validation set loss: 0.08293602219731289\n",
      "Epoch 11\n",
      "Training set accuracy: 81.34166666666667\n",
      "Validation set accuracy: 82.0\n",
      "Training set loss: 0.08369155407878755\n",
      "Validation set loss: 0.08107592122327405\n",
      "Epoch 12\n",
      "Training set accuracy: 81.475\n",
      "Validation set accuracy: 82.1\n",
      "Training set loss: 0.08187640814059809\n",
      "Validation set loss: 0.07936141644750591\n",
      "Epoch 13\n",
      "Training set accuracy: 81.64166666666667\n",
      "Validation set accuracy: 82.19999999999999\n",
      "Training set loss: 0.08020630157100099\n",
      "Validation set loss: 0.07777350848691052\n",
      "Epoch 14\n",
      "Training set accuracy: 81.675\n",
      "Validation set accuracy: 82.3\n",
      "Training set loss: 0.07866197101512372\n",
      "Validation set loss: 0.07629624660415578\n",
      "Epoch 15\n",
      "Training set accuracy: 81.875\n",
      "Validation set accuracy: 82.5\n",
      "Training set loss: 0.07722728458738973\n",
      "Validation set loss: 0.07491620324667636\n",
      "Epoch 16\n",
      "Training set accuracy: 82.03333333333333\n",
      "Validation set accuracy: 82.89999999999999\n",
      "Training set loss: 0.0758886935803318\n",
      "Validation set loss: 0.07362203569088266\n",
      "Epoch 17\n",
      "Training set accuracy: 82.21666666666667\n",
      "Validation set accuracy: 83.0\n",
      "Training set loss: 0.0746347777036459\n",
      "Validation set loss: 0.07240412439839536\n",
      "Epoch 18\n",
      "Training set accuracy: 82.425\n",
      "Validation set accuracy: 83.3\n",
      "Training set loss: 0.0734558716043613\n",
      "Validation set loss: 0.07125427646638346\n",
      "Epoch 19\n",
      "Training set accuracy: 82.53333333333333\n",
      "Validation set accuracy: 83.7\n",
      "Training set loss: 0.07234375973883143\n",
      "Validation set loss: 0.07016548312837216\n",
      "Epoch 20\n",
      "Training set accuracy: 82.825\n",
      "Validation set accuracy: 84.5\n",
      "Training set loss: 0.07129142762588957\n",
      "Validation set loss: 0.06913172156509372\n",
      "Epoch 21\n",
      "Training set accuracy: 83.075\n",
      "Validation set accuracy: 84.8\n",
      "Training set loss: 0.0702928590843518\n",
      "Validation set loss: 0.0681477927768012\n",
      "Epoch 22\n",
      "Training set accuracy: 83.25833333333334\n",
      "Validation set accuracy: 85.0\n",
      "Training set loss: 0.06934287074019457\n",
      "Validation set loss: 0.06720918869563675\n",
      "Epoch 23\n",
      "Training set accuracy: 83.46666666666667\n",
      "Validation set accuracy: 85.2\n",
      "Training set loss: 0.06843697664989107\n",
      "Validation set loss: 0.06631198297624827\n",
      "Epoch 24\n",
      "Training set accuracy: 83.7\n",
      "Validation set accuracy: 85.7\n",
      "Training set loss: 0.06757127724051365\n",
      "Validation set loss: 0.06545274096736219\n",
      "Epoch 25\n",
      "Training set accuracy: 84.0\n",
      "Validation set accuracy: 86.0\n",
      "Training set loss: 0.06674236789856433\n",
      "Validation set loss: 0.06462844524415984\n"
     ]
    }
   ],
   "source": [
    "epoch, accuracy_training, accuracy_validation, loss_training, loss_validation, mse_train_list, mse_val_list = logistic_regression(trainxs, trainys, devxs, devys)"
   ]
  },
  {
   "cell_type": "code",
   "execution_count": 26,
   "metadata": {},
   "outputs": [
    {
     "name": "stdout",
     "output_type": "stream",
     "text": [
      "mse training loss:  [0.125, 0.11758031575658488, 0.11214173444297776, 0.10732754581143035, 0.1030600759226863, 0.09927988984547187, 0.09592490463979349, 0.09293625800817144, 0.09026113728526274, 0.08785367163428162, 0.08567478400541657, 0.08369155407878744, 0.08187640814059816, 0.08020630157100057, 0.07866197101512377, 0.0772272845873897, 0.07588869358033219, 0.074634777703646, 0.07345587160436155, 0.07234375973883138, 0.0712914276258896, 0.07029285908435218, 0.06934287074019445, 0.0684369766498912, 0.06757127724051364, 0.06674236789856439]\n",
      "our training loss:  [0.125, 0.11758031575658484, 0.11214173444297776, 0.10732754581142978, 0.10306007592268594, 0.09927988984547219, 0.09592490463979385, 0.0929362580081717, 0.0902611372852624, 0.08785367163428177, 0.08567478400541688, 0.08369155407878755, 0.08187640814059809, 0.08020630157100099, 0.07866197101512372, 0.07722728458738973, 0.0758886935803318, 0.0746347777036459, 0.0734558716043613, 0.07234375973883143, 0.07129142762588957, 0.0702928590843518, 0.06934287074019457, 0.06843697664989107, 0.06757127724051365, 0.06674236789856433]\n"
     ]
    }
   ],
   "source": [
    "print(\"mse training loss: \", mse_train_list)\n",
    "print(\"our training loss: \", loss_training)"
   ]
  },
  {
   "cell_type": "code",
   "execution_count": 27,
   "metadata": {},
   "outputs": [
    {
     "name": "stdout",
     "output_type": "stream",
     "text": [
      "mse val loss:  [0.11715526461237133, 0.11166747791745217, 0.10685128822965703, 0.10257258197945782, 0.0987691273174204, 0.09538216917298459, 0.09235575045133314, 0.0896391655305388, 0.08718804628863794, 0.08496438531543044, 0.08293602219731278, 0.08107592122327409, 0.0793614164475059, 0.07777350848691052, 0.07629624660415586, 0.07491620324667636, 0.07362203569088274, 0.07240412439839543, 0.07125427646638352, 0.0701654831283722, 0.06913172156509377, 0.06814779277680115, 0.0672091886956367, 0.06631198297624831, 0.06545274096736219, 0.06462844524415982]\n",
      "pour val loss:  [0.11715526461237141, 0.11166747791745214, 0.10685128822965706, 0.1025725819794579, 0.09876912731742027, 0.09538216917298471, 0.0923557504513331, 0.08963916553053887, 0.08718804628863795, 0.08496438531543041, 0.08293602219731289, 0.08107592122327405, 0.07936141644750591, 0.07777350848691052, 0.07629624660415578, 0.07491620324667636, 0.07362203569088266, 0.07240412439839536, 0.07125427646638346, 0.07016548312837216, 0.06913172156509372, 0.0681477927768012, 0.06720918869563675, 0.06631198297624827, 0.06545274096736219, 0.06462844524415984]\n"
     ]
    }
   ],
   "source": [
    "print(\"mse val loss: \", mse_val_list)\n",
    "print(\"pour val loss: \", loss_validation)"
   ]
  },
  {
   "cell_type": "code",
   "execution_count": null,
   "metadata": {},
   "outputs": [],
   "source": [
    "plt.axis([-100, epoch, min(loss_validation), max(loss_training)])\n",
    "plt.plot(loss_training, label='training set loss')\n",
    "plt.plot(loss_validation, label='validation set loss', color='r')\n",
    "plt.legend(loc='upper right')"
   ]
  },
  {
   "cell_type": "code",
   "execution_count": null,
   "metadata": {},
   "outputs": [],
   "source": [
    "plt.axis([-100, epoch, min(accuracy_training), max(accuracy_training) + 5])\n",
    "plt.plot(accuracy_training, label='training set accuracy')\n",
    "plt.plot(accuracy_validation, label='validation set accuracy', color='r')\n",
    "plt.legend(loc='lower right')"
   ]
  },
  {
   "cell_type": "code",
   "execution_count": null,
   "metadata": {},
   "outputs": [],
   "source": [
    "ind = accuracy_validation.index(max(accuracy_validation))\n",
    "print(\"Best epoch =\", ind)\n",
    "print(\"Accuracy on training set =\", accuracy_training[ind])\n",
    "print(\"Accuracy on validation set =\", accuracy_validation[ind])"
   ]
  },
  {
   "cell_type": "code",
   "execution_count": null,
   "metadata": {},
   "outputs": [],
   "source": [
    "def flatten(w, b):\n",
    "    toflatten = (w, [b])\n",
    "    vec = np.zeros(sum(len(x) for x in toflatten))\n",
    "    offset = 0\n",
    "    for parameter in toflatten:\n",
    "        vec[offset:offset + len(parameter)] = parameter\n",
    "        offset += len(parameter)\n",
    "    return vec"
   ]
  },
  {
   "cell_type": "code",
   "execution_count": null,
   "metadata": {},
   "outputs": [],
   "source": [
    "def unflatten(w, b, vec):\n",
    "    tounflatten = (w, [b])\n",
    "    offset = 0\n",
    "    for parameter in tounflatten:\n",
    "        parameter[:] = vec[offset:offset + len(parameter)]\n",
    "        offset += len(parameter)\n",
    "    return tounflatten"
   ]
  },
  {
   "cell_type": "code",
   "execution_count": null,
   "metadata": {},
   "outputs": [],
   "source": [
    "def fdfprime(w, b, x, y):\n",
    "    epsilon  = 0.000001\n",
    "    grad_w = np.zeros_like(w)\n",
    "    grad_b = 0.0\n",
    "    vecm     = flatten(w, b)\n",
    "    vecgradm = flatten(grad_w, grad_b)\n",
    "    \n",
    "    for i in range(len(vecm)):\n",
    "        wi           = vecm[i]\n",
    "\n",
    "        vecm[i]     += epsilon/2       \n",
    "        w_j, b_j     = unflatten(grad_w, grad_b, vecm)\n",
    "        r            = loss(y, f(x, w_j, b_j))\n",
    "        vecm[i]      = wi\n",
    "        vecm[i]     -= epsilon/2\n",
    "        w_j, b_j     = unflatten(grad_w, grad_b, vecm)\n",
    "        l            = loss(y, f(x, w_j, b_j))\n",
    "        vecgradm[i]  = (r - l)/epsilon\n",
    "\n",
    "        vecm[i]      = wi\n",
    "\n",
    "    return unflatten(grad_w, grad_b, vecgradm)\n"
   ]
  },
  {
   "cell_type": "code",
   "execution_count": null,
   "metadata": {},
   "outputs": [],
   "source": [
    "def fprime(n, x, y, w, b):\n",
    "    grad_w = np.zeros(n)\n",
    "    grad_b = 0.0\n",
    "    \n",
    "    #Forward pass\n",
    "    z = np.dot(w, x) + b\n",
    "    y_hat = logistic_func(z)\n",
    "    \n",
    "    #Backward pass\n",
    "    grad_z = (y_hat - y) * logistic_der(z)\n",
    "    grad_w += x * (y_hat - y) * (1 - y_hat) * y_hat \n",
    "    grad_b += (y_hat - y) * (1 - y_hat) * y_hat\n",
    "    \n",
    "    return (grad_w, [grad_b])"
   ]
  },
  {
   "cell_type": "code",
   "execution_count": null,
   "metadata": {},
   "outputs": [],
   "source": [
    "x = trainxs[0]\n",
    "y = trainys[0]\n",
    "w = np.random.random(784) / 100\n",
    "grad_w, grad_b = fprime(trainxs.shape[1], x, y, w, 0.0)\n",
    "fd_grad_w, fd_grad_b = fdfprime(w, 0.0, x, y)"
   ]
  },
  {
   "cell_type": "code",
   "execution_count": null,
   "metadata": {},
   "outputs": [],
   "source": [
    "fd_b = np.subtract(fd_grad_b,grad_b)\n",
    "fd_w = np.subtract(fd_grad_w,grad_w)\n",
    "max_fd = fd_w.max()\n",
    "print(fd_b)\n",
    "print(fd_w)\n",
    "print(\"Max difference for w:\", max_fd)"
   ]
  },
  {
   "cell_type": "code",
   "execution_count": null,
   "metadata": {},
   "outputs": [],
   "source": []
  }
 ],
 "metadata": {
  "kernelspec": {
   "display_name": "Python 3",
   "language": "python",
   "name": "python3"
  },
  "language_info": {
   "codemirror_mode": {
    "name": "ipython",
    "version": 3
   },
   "file_extension": ".py",
   "mimetype": "text/x-python",
   "name": "python",
   "nbconvert_exporter": "python",
   "pygments_lexer": "ipython3",
   "version": "3.7.3"
  }
 },
 "nbformat": 4,
 "nbformat_minor": 4
}
