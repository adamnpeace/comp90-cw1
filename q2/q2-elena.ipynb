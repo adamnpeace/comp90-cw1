{
 "cells": [
  {
   "cell_type": "code",
   "execution_count": 61,
   "metadata": {},
   "outputs": [],
   "source": [
    "import tarfile\n",
    "import urllib.request\n",
    "import numpy as np\n",
    "from matplotlib import pyplot as plt\n",
    "from sklearn.utils import shuffle\n",
    "plt.set_cmap(\"gray\") # Otherwise grayscale images look purple\n",
    "%matplotlib inline"
   ]
  },
  {
   "cell_type": "code",
   "execution_count": 62,
   "metadata": {},
   "outputs": [
    {
     "data": {
      "text/plain": [
       "<bound method TarFile.close of <tarfile.TarFile object at 0x0000025DDD722B70>>"
      ]
     },
     "execution_count": 62,
     "metadata": {},
     "output_type": "execute_result"
    }
   ],
   "source": [
    "url = 'http://udon.stacken.kth.se/~ninjin/comp0090_assignment_1_data.tar.gz'\n",
    "ftpstream = urllib.request.urlopen(url)\n",
    "tar = tarfile.open(fileobj=ftpstream, mode=\"r|gz\")\n",
    "tar.extractall()\n",
    "tar.close"
   ]
  },
  {
   "cell_type": "code",
   "execution_count": 63,
   "metadata": {},
   "outputs": [],
   "source": [
    "trainxs = np.load(\"comp0090_assignment_1_data/fashion-train-imgs.npz\").transpose((2, 1, 0))\n",
    "trainys = np.load(\"comp0090_assignment_1_data/fashion-train-labels.npz\")\n",
    "devxs   = np.load(\"comp0090_assignment_1_data/fashion-dev-imgs.npz\").transpose((2, 1, 0))\n",
    "devys   = np.load(\"comp0090_assignment_1_data/fashion-dev-labels.npz\")\n",
    "testxs  = np.load(\"comp0090_assignment_1_data/fashion-test-imgs.npz\").transpose((2, 1, 0))\n",
    "testys  = np.load(\"comp0090_assignment_1_data/fashion-test-labels.npz\")"
   ]
  },
  {
   "cell_type": "code",
   "execution_count": 64,
   "metadata": {},
   "outputs": [
    {
     "name": "stdout",
     "output_type": "stream",
     "text": [
      "(12000, 28, 28)\n",
      "(12000,)\n",
      "(1000, 28, 28)\n",
      "(1000,)\n",
      "(1000, 28, 28)\n",
      "(1000,)\n"
     ]
    }
   ],
   "source": [
    "print(trainxs.shape)\n",
    "print(trainys.shape)\n",
    "print(devxs.shape)\n",
    "print(devys.shape)\n",
    "print(testxs.shape)\n",
    "print(testys.shape)"
   ]
  },
  {
   "cell_type": "code",
   "execution_count": 65,
   "metadata": {},
   "outputs": [
    {
     "data": {
      "image/png": "[encoded data removed]",
      "text/plain": [
       "<Figure size 432x288 with 16 Axes>"
      ]
     },
     "metadata": {
      "needs_background": "light"
     },
     "output_type": "display_data"
    }
   ],
   "source": [
    "f, axarr = plt.subplots(4,4)\n",
    "for i in range(4):\n",
    "    for j in range(4):\n",
    "        axarr[i, j].imshow(trainxs[np.random.randint(0, len(trainxs))])"
   ]
  },
  {
   "cell_type": "code",
   "execution_count": 66,
   "metadata": {},
   "outputs": [],
   "source": [
    "# reshape data to make it easier to work with\n",
    "trainxs = trainxs.reshape(-1, 784)\n",
    "devxs = devxs.reshape(-1, 784)\n",
    "testxs = testxs.reshape(-1, 784)"
   ]
  },
  {
   "cell_type": "code",
   "execution_count": 67,
   "metadata": {},
   "outputs": [],
   "source": [
    "# function to create weight and sum parameters for the algorithm\n",
    "def initialise_parameters(xs):\n",
    "    w = np.zeros(xs.shape[1])\n",
    "    b = 0\n",
    "    return w, b"
   ]
  },
  {
   "cell_type": "code",
   "execution_count": 68,
   "metadata": {},
   "outputs": [],
   "source": [
    "def logistic_func(x):\n",
    "    return 1/(1 + np.exp(-x))\n",
    "\n",
    "def logistic_der(x):\n",
    "    return _logistic_func(x) * (1 - _logistic_func(x))\n",
    "\n",
    "def f(x, w, b):\n",
    "    return logistic_func(np.dot(w, x) + b)\n",
    "\n",
    "def p(x, w, b):\n",
    "    if f(x, w, b) >= 0.5:\n",
    "        return 1\n",
    "    return 0"
   ]
  },
  {
   "cell_type": "code",
   "execution_count": 72,
   "metadata": {},
   "outputs": [],
   "source": [
    "#Measure Accuracy\n",
    "\n",
    "def accuracy(xs, ys, w, b):\n",
    "    correct = 0\n",
    "    for i in range(xs.shape[0]):\n",
    "        if p(xs[i], w, b) == ys[i]:\n",
    "            correct += 1\n",
    "    return correct/len(xs)*100    "
   ]
  },
  {
   "cell_type": "code",
   "execution_count": 79,
   "metadata": {},
   "outputs": [],
   "source": [
    "def logistic_regression(trainxs, trainys, devxs, devys):\n",
    "    w, b = initialise_parameters(trainxs)\n",
    "    \n",
    "    accuracy_training = []\n",
    "    accuracy_validation = []\n",
    "    \n",
    "    # store old accuracy and consecutive epochs count to detect convergence\n",
    "    acc_old = accuracy(trainxs, trainys, w, b)\n",
    "    row_epoch = 0\n",
    "    \n",
    "    # store number of epochs to have a nice graph\n",
    "    epoch = 0\n",
    "    learning_rate = 0.01\n",
    "    \n",
    "    while True:\n",
    "        print('Epoch', epoch)\n",
    "        trainxs, trainys = shuffle(trainxs, trainys)\n",
    "        grad_w, grad_b = initialise_parameters(trainxs)\n",
    "\n",
    "        for i in range(trainxs.shape[0]):\n",
    "            y_hat = f(trainxs[i], w, b)\n",
    "            grad_w -= trainxs[i] * (y_hat - trainys[i])\n",
    "            grad_b -= y_hat - trainys[i]\n",
    "\n",
    "        grad_w /= trainxs.shape[0]\n",
    "        grad_b /= trainxs.shape[0]\n",
    "        w = learning_rate * grad_w\n",
    "        b = learning_rate * grad_b\n",
    "\n",
    "        accuracy_train = accuracy(trainxs, trainys, w, b)\n",
    "        accuracy_training.append(accuracy_train)\n",
    "        print('Training set accuracy:', accuracy(trainxs, trainys, w, b))\n",
    "        accuracy_dev = accuracy(devxs, devys, w, b)\n",
    "        accuracy_validation.append(accuracy_dev)\n",
    "        print('Validation set accuracy:', accuracy_dev)\n",
    "        \n",
    "        # check if converged\n",
    "        if np.abs(accuracy_train - acc_old) < 0.1:\n",
    "            row_epoch += 1\n",
    "            if row_epoch == 5:\n",
    "                break\n",
    "        else:\n",
    "            row_epoch = 0\n",
    "            \n",
    "        acc_old = accuracy_train\n",
    "        epoch += 1\n",
    "    \n",
    "    return epoch, accuracy_training, accuracy_validation"
   ]
  },
  {
   "cell_type": "code",
   "execution_count": 80,
   "metadata": {},
   "outputs": [
    {
     "name": "stdout",
     "output_type": "stream",
     "text": [
      "Epoch 0\n",
      "Training set accuracy: 55.95833333333333\n",
      "Validation set accuracy: 56.89999999999999\n",
      "Epoch 1\n",
      "Training set accuracy: 63.675000000000004\n",
      "Validation set accuracy: 64.2\n",
      "Epoch 2\n",
      "Training set accuracy: 60.59166666666667\n",
      "Validation set accuracy: 61.1\n",
      "Epoch 3\n",
      "Training set accuracy: 61.675000000000004\n",
      "Validation set accuracy: 62.1\n",
      "Epoch 4\n",
      "Training set accuracy: 61.23333333333333\n",
      "Validation set accuracy: 61.7\n",
      "Epoch 5\n",
      "Training set accuracy: 61.38333333333333\n",
      "Validation set accuracy: 61.9\n",
      "Epoch 6\n",
      "Training set accuracy: 61.34166666666667\n",
      "Validation set accuracy: 61.8\n",
      "Epoch 7\n",
      "Training set accuracy: 61.35\n",
      "Validation set accuracy: 61.8\n",
      "Epoch 8\n",
      "Training set accuracy: 61.34166666666667\n",
      "Validation set accuracy: 61.8\n",
      "Epoch 9\n",
      "Training set accuracy: 61.34166666666667\n",
      "Validation set accuracy: 61.8\n",
      "Epoch 10\n",
      "Training set accuracy: 61.34166666666667\n",
      "Validation set accuracy: 61.8\n"
     ]
    }
   ],
   "source": [
    "epoch, accuracy_training, accuracy_validation = logistic_regression(trainxs, trainys, devxs, devys)"
   ]
  },
  {
   "cell_type": "code",
   "execution_count": 81,
   "metadata": {},
   "outputs": [
    {
     "data": {
      "text/plain": [
       "<matplotlib.legend.Legend at 0x25ddcd5ceb8>"
      ]
     },
     "execution_count": 81,
     "metadata": {},
     "output_type": "execute_result"
    },
    {
     "data": {
      "image/png": "[encoded data removed]",
      "text/plain": [
       "<Figure size 432x288 with 1 Axes>"
      ]
     },
     "metadata": {
      "needs_background": "light"
     },
     "output_type": "display_data"
    }
   ],
   "source": [
    "plt.axis([0, epoch, min(accuracy_training), max(accuracy_training) + 0.1])\n",
    "plt.plot(accuracy_training, label='training set accuracy')\n",
    "plt.legend(loc='lower right')"
   ]
  },
  {
   "cell_type": "code",
   "execution_count": 82,
   "metadata": {},
   "outputs": [
    {
     "name": "stdout",
     "output_type": "stream",
     "text": [
      "Best epoch = 1\n",
      "Accuracy on training set = 63.675000000000004\n",
      "Accuracy on validation set = 64.2\n"
     ]
    }
   ],
   "source": [
    "ind = accuracy_validation.index(max(accuracy_validation))\n",
    "print(\"Best epoch =\", ind)\n",
    "print(\"Accuracy on training set =\", accuracy_training[ind])\n",
    "print(\"Accuracy on validation set =\", accuracy_validation[ind])"
   ]
  },
  {
   "cell_type": "code",
   "execution_count": null,
   "metadata": {},
   "outputs": [],
   "source": []
  }
 ],
 "metadata": {
  "kernelspec": {
   "display_name": "Python 3",
   "language": "python",
   "name": "python3"
  },
  "language_info": {
   "codemirror_mode": {
    "name": "ipython",
    "version": 3
   },
   "file_extension": ".py",
   "mimetype": "text/x-python",
   "name": "python",
   "nbconvert_exporter": "python",
   "pygments_lexer": "ipython3",
   "version": "3.7.3"
  }
 },
 "nbformat": 4,
 "nbformat_minor": 4
}
