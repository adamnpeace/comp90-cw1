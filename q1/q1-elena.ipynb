{
 "cells": [
  {
   "cell_type": "markdown",
   "metadata": {},
   "source": [
    "1. Derive a variant of the algorithm above with memory complexity O(1) – informally, that \n",
    "the memory usage remains constant regardless of the number of misclassifications."
   ]
  },
  {
   "cell_type": "markdown",
   "metadata": {},
   "source": [
    "$\\textbf{Data:} \\mathcal{D} := \\{(\\mathbf{x_1},y_1),...,(\\mathbf{x_n}, y_n)\\}\\\\                     \n",
    "\\textbf{Result:} \\mathcal{v} := \\{\\mathbf{w}\\}\\\\            \n",
    "\\mathbf{w} := 0^d\\\\                          \n",
    "\\mathbf{s} := 0^d\\\\\n",
    "\\textbf{while} \\quad \\textit{not converged} \\quad \\textbf{do}\\\\                          \n",
    "\\qquad \\textbf{for} \\quad i := 1,...,n \\quad \\textbf{do}\\\\              \n",
    "\\qquad \\hat{y} =\n",
    "  \\begin{cases}\n",
    "    1  & \\quad \\mathbf{w} \\cdot \\mathbf{x_i} \\geq 0\\\\\n",
    "    0  & \\quad \\text{otherwise}\n",
    "  \\end{cases}\\\\               \n",
    "\\qquad \\textbf{if} \\quad \\hat{y} \\neq y \\quad \\textbf{then}\\\\                 \n",
    "\\qquad \\quad \\mathbf{w} = \\mathbf{w} + (y - \\hat{y})\\mathbf{x_i}\\\\          \n",
    "\\qquad \\textbf{end}\\\\                 \n",
    "\\qquad \\mathbf{s} = \\mathbf{s} + \\mathbf{w}\\\\             \n",
    "\\quad \\textbf{end}\\\\                   \n",
    "\\textbf{end}$                         "
   ]
  },
  {
   "cell_type": "markdown",
   "metadata": {},
   "source": [
    "The trained algorithm performs predictions as follows:"
   ]
  },
  {
   "cell_type": "markdown",
   "metadata": {},
   "source": [
    "$$f(\\mathbf{x}) = \n",
    "    \\begin{cases}\n",
    "        1 \\quad \\mathbf{s} \\cdot \\mathbf{x} \\geq 0\\\\\n",
    "        0 \\quad \\text{otherwise}\n",
    "    \\end{cases}$$"
   ]
  },
  {
   "cell_type": "markdown",
   "metadata": {},
   "source": [
    "2. Prove that your efficient variant is functionally equivalent to the algorithm above."
   ]
  },
  {
   "cell_type": "markdown",
   "metadata": {},
   "source": [
    "$$\n",
    "    \\displaystyle\\sum^{k}_{i=1} c_i(\\mathbf{w_i} \\cdot \\mathbf{x}) =\n",
    "    \\displaystyle\\sum^{k}_{i=1} c_i \\displaystyle\\sum^{d}_{j=1} (\\mathbf{w_i})_j x_j = \\\\\n",
    "    = \\displaystyle\\sum^{k}_{i=1} \\displaystyle\\sum^{d}_{j=1} c_i (\\mathbf{w_i})_j x_j = \n",
    "    \\displaystyle\\sum^{d}_{j=1} \\displaystyle\\sum^{k}_{i=1} c_i (\\mathbf{w_i})_j x_j = \\\\\n",
    "    = \\displaystyle\\sum^{d}_{j=1} x_j \\bigg(\\displaystyle\\sum^{k}_{i=1} c_i (\\mathbf{w_i})_j \\bigg) = \n",
    "    \\displaystyle\\sum^{d}_{j=1} x_j \\bigg(\\displaystyle\\sum^{k}_{i=1} c_i \\mathbf{w_i} \\bigg)_j = \\\\\n",
    "    = \\mathbf{x} \\cdot \\mathbf{s} \\\\\n",
    "$$"
   ]
  },
  {
   "cell_type": "markdown",
   "metadata": {},
   "source": [
    "3. Implement your efficient variant."
   ]
  },
  {
   "cell_type": "code",
   "execution_count": 73,
   "metadata": {},
   "outputs": [
    {
     "name": "stdout",
     "output_type": "stream",
     "text": [
      "[[[0.         0.1308131  0.08962205 ... 0.04505032 0.         0.0014855 ]\n",
      "  [0.         0.1308131  0.08962205 ... 0.04505032 0.         0.0014855 ]\n",
      "  [0.         0.1308131  0.08962205 ... 0.04505032 0.         0.0014855 ]\n",
      "  ...\n",
      "  [0.         0.1308131  0.08962205 ... 0.04505032 0.         0.0014855 ]\n",
      "  [0.         0.1308131  0.08962205 ... 0.04505032 0.         0.0014855 ]\n",
      "  [0.         0.1308131  0.08962205 ... 0.04505032 0.         0.0014855 ]]\n",
      "\n",
      " [[0.         0.1308131  0.08962205 ... 0.04505032 0.         0.0014855 ]\n",
      "  [0.         0.1308131  0.08962205 ... 0.04505032 0.         0.0014855 ]\n",
      "  [0.         0.1308131  0.08962205 ... 0.04505032 0.         0.0014855 ]\n",
      "  ...\n",
      "  [0.         0.1308131  0.08962205 ... 0.04505032 0.         0.0014855 ]\n",
      "  [0.         0.1308131  0.08962205 ... 0.04505032 0.         0.0014855 ]\n",
      "  [0.         0.1308131  0.08962205 ... 0.04505032 0.         0.0014855 ]]\n",
      "\n",
      " [[0.         0.1308131  0.08962205 ... 0.04505032 0.         0.0014855 ]\n",
      "  [0.         0.1308131  0.08962205 ... 0.04505032 0.         0.0014855 ]\n",
      "  [0.         0.1308131  0.08962205 ... 0.04505032 0.         0.0014855 ]\n",
      "  ...\n",
      "  [0.         0.1308131  0.08962205 ... 0.04505032 0.         0.0014855 ]\n",
      "  [0.         0.1308131  0.08962205 ... 0.04505032 0.         0.0014855 ]\n",
      "  [0.         0.1308131  0.08962205 ... 0.04505032 0.         0.0014855 ]]\n",
      "\n",
      " ...\n",
      "\n",
      " [[0.         0.1308131  0.08962205 ... 0.04505032 0.         0.0014855 ]\n",
      "  [0.         0.1308131  0.08962205 ... 0.04505032 0.         0.0014855 ]\n",
      "  [0.         0.1308131  0.08962205 ... 0.04505032 0.         0.0014855 ]\n",
      "  ...\n",
      "  [0.         0.1308131  0.08962205 ... 0.04505032 0.87417495 0.0014855 ]\n",
      "  [0.         0.1308131  0.08962205 ... 0.04505032 0.85064553 0.0014855 ]\n",
      "  [0.         0.1308131  0.08962205 ... 0.04505032 0.09770436 0.0014855 ]]\n",
      "\n",
      " [[0.         0.1308131  0.08962205 ... 0.04505032 0.         0.0014855 ]\n",
      "  [0.         0.1308131  0.08962205 ... 0.04505032 0.         0.0014855 ]\n",
      "  [0.         0.1308131  0.08962205 ... 0.04505032 0.         0.0014855 ]\n",
      "  ...\n",
      "  [0.         0.1308131  0.08962205 ... 0.04505032 0.05848867 0.0014855 ]\n",
      "  [0.         0.1308131  0.08962205 ... 0.04505032 0.         0.0014855 ]\n",
      "  [0.         0.1308131  0.08962205 ... 0.04505032 0.         0.0014855 ]]\n",
      "\n",
      " [[0.         0.1308131  0.08962205 ... 0.04505032 0.         0.0014855 ]\n",
      "  [0.         0.1308131  0.08962205 ... 0.04505032 0.         0.0014855 ]\n",
      "  [0.         0.1308131  0.08962205 ... 0.04505032 0.         0.0014855 ]\n",
      "  ...\n",
      "  [0.         0.1308131  0.08962205 ... 0.04505032 0.         0.0014855 ]\n",
      "  [0.         0.1308131  0.08962205 ... 0.04505032 0.         0.0014855 ]\n",
      "  [0.         0.1308131  0.08962205 ... 0.04505032 0.         0.0014855 ]]]\n"
     ]
    }
   ],
   "source": [
    "import tarfile\n",
    "import urllib.request\n",
    "import numpy as np\n",
    "import matplotlib.pyplot as plt\n",
    "\n",
    "thetarfile = \"http://udon.stacken.kth.se/~ninjin/comp0090_assignment_1_data.tar.gz\"\n",
    "ftpstream = urllib.request.urlopen(thetarfile)\n",
    "thetarfile = tarfile.open(fileobj=ftpstream, mode=\"r|gz\")\n",
    "thetarfile.extractall()\n",
    "thetarfile.close()\n",
    "b = np.load('comp0090_assignment_1_data/fashion-train-imgs.npz')\n",
    "print(b)"
   ]
  },
  {
   "cell_type": "code",
   "execution_count": null,
   "metadata": {},
   "outputs": [],
   "source": []
  }
 ],
 "metadata": {
  "kernelspec": {
   "display_name": "Python 3",
   "language": "python",
   "name": "python3"
  },
  "language_info": {
   "codemirror_mode": {
    "name": "ipython",
    "version": 3
   },
   "file_extension": ".py",
   "mimetype": "text/x-python",
   "name": "python",
   "nbconvert_exporter": "python",
   "pygments_lexer": "ipython3",
   "version": "3.7.3"
  }
 },
 "nbformat": 4,
 "nbformat_minor": 4
}
