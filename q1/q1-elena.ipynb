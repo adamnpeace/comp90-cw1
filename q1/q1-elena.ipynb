{
 "cells": [
  {
   "cell_type": "markdown",
   "metadata": {},
   "source": [
    "1. Derive a variant of the algorithm above with memory complexity O(1) – informally, that \n",
    "the memory usage remains constant regardless of the number of misclassifications."
   ]
  },
  {
   "cell_type": "markdown",
   "metadata": {},
   "source": [
    "$\\textbf{Data:} \\mathcal{D} := \\{(\\mathbf{x_1},y_1),...,(\\mathbf{x_n}, y_n)\\}\\\\                     \n",
    "\\textbf{Result:} \\mathcal{v} := \\{\\mathbf{w}\\}\\\\            \n",
    "\\mathbf{w} := 0^d\\\\                          \n",
    "\\mathbf{s} := 0^d\\\\\n",
    "\\textbf{while} \\quad \\textit{not converged} \\quad \\textbf{do}\\\\                          \n",
    "\\qquad \\textbf{for} \\quad i := 1,...,n \\quad \\textbf{do}\\\\              \n",
    "\\qquad \\hat{y} =\n",
    "  \\begin{cases}\n",
    "    1  & \\quad \\mathbf{w} \\cdot \\mathbf{x_i} \\geq 0\\\\\n",
    "    0  & \\quad \\text{otherwise}\n",
    "  \\end{cases}\\\\               \n",
    "\\qquad \\textbf{if} \\quad \\hat{y} \\neq y \\quad \\textbf{then}\\\\                 \n",
    "\\qquad \\quad \\mathbf{w} = \\mathbf{w} + (y - \\hat{y})\\mathbf{x_i}\\\\          \n",
    "\\qquad \\textbf{end}\\\\                 \n",
    "\\qquad \\mathbf{s} = \\mathbf{s} + \\mathbf{w}\\\\             \n",
    "\\quad \\textbf{end}\\\\                   \n",
    "\\textbf{end}$                         "
   ]
  },
  {
   "cell_type": "markdown",
   "metadata": {},
   "source": [
    "The trained algorithm performs predictions as follows:"
   ]
  },
  {
   "cell_type": "markdown",
   "metadata": {},
   "source": [
    "$$f(\\mathbf{x}) = \n",
    "    \\begin{cases}\n",
    "        1 \\quad \\mathbf{s} \\cdot \\mathbf{x} \\geq 0\\\\\n",
    "        0 \\quad \\text{otherwise}\n",
    "    \\end{cases}$$"
   ]
  },
  {
   "cell_type": "markdown",
   "metadata": {},
   "source": [
    "2. Prove that your efficient variant is functionally equivalent to the algorithm above."
   ]
  },
  {
   "cell_type": "markdown",
   "metadata": {},
   "source": [
    "$$\n",
    "    \\displaystyle\\sum^{k}_{i=1} c_i(\\mathbf{w_i} \\cdot \\mathbf{x}) =\n",
    "    \\displaystyle\\sum^{k}_{i=1} c_i \\displaystyle\\sum^{d}_{j=1} (\\mathbf{w_i})_j x_j = \\\\\n",
    "    = \\displaystyle\\sum^{k}_{i=1} \\displaystyle\\sum^{d}_{j=1} c_i (\\mathbf{w_i})_j x_j = \n",
    "    \\displaystyle\\sum^{d}_{j=1} \\displaystyle\\sum^{k}_{i=1} c_i (\\mathbf{w_i})_j x_j = \\\\\n",
    "    = \\displaystyle\\sum^{d}_{j=1} x_j \\bigg(\\displaystyle\\sum^{k}_{i=1} c_i (\\mathbf{w_i})_j \\bigg) = \n",
    "    \\displaystyle\\sum^{d}_{j=1} x_j \\bigg(\\displaystyle\\sum^{k}_{i=1} c_i \\mathbf{w_i} \\bigg)_j = \\\\\n",
    "    = \\mathbf{x} \\cdot \\mathbf{s} \\\\\n",
    "$$"
   ]
  },
  {
   "cell_type": "markdown",
   "metadata": {},
   "source": [
    "3. Implement your efficient variant."
   ]
  },
  {
   "cell_type": "code",
   "execution_count": 31,
   "metadata": {},
   "outputs": [],
   "source": [
    "import tarfile\n",
    "import urllib.request\n",
    "import numpy as np\n",
    "from matplotlib import pyplot as plt\n",
    "plt.set_cmap(\"gray\") # Otherwise grayscale images look purple\n",
    "%matplotlib inline"
   ]
  },
  {
   "cell_type": "code",
   "execution_count": 32,
   "metadata": {},
   "outputs": [
    {
     "data": {
      "text/plain": [
       "<bound method TarFile.close of <tarfile.TarFile object at 0x000001626223D550>>"
      ]
     },
     "execution_count": 32,
     "metadata": {},
     "output_type": "execute_result"
    }
   ],
   "source": [
    "url = 'http://udon.stacken.kth.se/~ninjin/comp0090_assignment_1_data.tar.gz'\n",
    "ftpstream = urllib.request.urlopen(url)\n",
    "tar = tarfile.open(fileobj=ftpstream, mode=\"r|gz\")\n",
    "tar.extractall()\n",
    "tar.close"
   ]
  },
  {
   "cell_type": "code",
   "execution_count": 33,
   "metadata": {},
   "outputs": [],
   "source": [
    "trainxs = np.load(\"comp0090_assignment_1_data/fashion-train-imgs.npz\").transpose((2, 1, 0))\n",
    "trainys = np.load(\"comp0090_assignment_1_data/fashion-train-labels.npz\")\n",
    "devxs   = np.load(\"comp0090_assignment_1_data/fashion-dev-imgs.npz\").transpose((2, 1, 0))\n",
    "devys   = np.load(\"comp0090_assignment_1_data/fashion-dev-labels.npz\")\n",
    "testxs  = np.load(\"comp0090_assignment_1_data/fashion-test-imgs.npz\").transpose((2, 1, 0))\n",
    "testys  = np.load(\"comp0090_assignment_1_data/fashion-test-labels.npz\")"
   ]
  },
  {
   "cell_type": "code",
   "execution_count": 34,
   "metadata": {},
   "outputs": [
    {
     "name": "stdout",
     "output_type": "stream",
     "text": [
      "(12000, 28, 28)\n",
      "(12000,)\n",
      "(1000, 28, 28)\n",
      "(1000,)\n",
      "(1000, 28, 28)\n",
      "(1000,)\n"
     ]
    }
   ],
   "source": [
    "print(trainxs.shape)\n",
    "print(trainys.shape)\n",
    "print(devxs.shape)\n",
    "print(devys.shape)\n",
    "print(testxs.shape)\n",
    "print(testys.shape)"
   ]
  },
  {
   "cell_type": "code",
   "execution_count": 35,
   "metadata": {},
   "outputs": [
    {
     "data": {
      "image/png": "[encoded data removed]",
      "text/plain": [
       "<Figure size 432x288 with 16 Axes>"
      ]
     },
     "metadata": {
      "needs_background": "light"
     },
     "output_type": "display_data"
    }
   ],
   "source": [
    "f, axarr = plt.subplots(4,4)\n",
    "for i in range(4):\n",
    "    for j in range(4):\n",
    "        axarr[i, j].imshow(trainxs[np.random.randint(0, len(trainxs))])"
   ]
  },
  {
   "cell_type": "code",
   "execution_count": 37,
   "metadata": {},
   "outputs": [],
   "source": [
    "trainxs = trainxs.reshape(-1, 784)\n",
    "devxs = devxs.reshape(-1, 784)\n",
    "testxs = testxs.reshape(-1, 784)"
   ]
  },
  {
   "cell_type": "markdown",
   "metadata": {},
   "source": [
    "We can then use .reshape(28, 28) on individual datapoints when we need to display them:"
   ]
  },
  {
   "cell_type": "code",
   "execution_count": 38,
   "metadata": {},
   "outputs": [
    {
     "data": {
      "image/png": "[encoded data removed]",
      "text/plain": [
       "<Figure size 432x288 with 16 Axes>"
      ]
     },
     "metadata": {
      "needs_background": "light"
     },
     "output_type": "display_data"
    }
   ],
   "source": [
    "f, axarr = plt.subplots(4,4)\n",
    "for i in range(4):\n",
    "    for j in range(4):\n",
    "        axarr[i, j].imshow(devxs[np.random.randint(0, len(devxs))].reshape(28, 28))"
   ]
  },
  {
   "cell_type": "code",
   "execution_count": 47,
   "metadata": {},
   "outputs": [
    {
     "name": "stdout",
     "output_type": "stream",
     "text": [
      "(12000, 784)\n",
      "(12000,)\n",
      "12000\n",
      "12000\n"
     ]
    }
   ],
   "source": [
    "print(trainxs.shape)\n",
    "print(trainys.shape)\n",
    "print(len(trainxs))\n",
    "print(len(trainys))"
   ]
  },
  {
   "cell_type": "code",
   "execution_count": 48,
   "metadata": {},
   "outputs": [],
   "source": [
    "w = np.zeros(784)\n",
    "s = np.zeros(784)\n",
    "\n",
    "def f(w, x):\n",
    "    if np.dot(w, x) >= 0:\n",
    "        return 1\n",
    "    else:\n",
    "        return 0"
   ]
  },
  {
   "cell_type": "code",
   "execution_count": 49,
   "metadata": {},
   "outputs": [],
   "source": [
    "#Measure Accuracy\n",
    "\n",
    "def accuracy(w, xs, ys):\n",
    "    correct = 0\n",
    "    for i in range(len(xs)):\n",
    "        if f(w, xs[i]) == ys[i]:\n",
    "            correct += 1\n",
    "    return correct/len(xs)*100    "
   ]
  },
  {
   "cell_type": "code",
   "execution_count": 71,
   "metadata": {},
   "outputs": [],
   "source": [
    "#Efficient Voted Perceptron Algorithm\n",
    "\n",
    "def voted_perceptron(w, xs, ys, s, epochs):\n",
    "    prev_acc = 0\n",
    "    curr_acc = 0\n",
    "    counter = 0\n",
    "    for k in range(epochs):\n",
    "        for i in range(len(xs)):\n",
    "            y_hat = f(w, xs[i])\n",
    "            if y_hat != ys[i]:\n",
    "                w += (ys[i] - y_hat) * xs[i]\n",
    "            s += w\n",
    "        if k:\n",
    "            prev_acc = curr_acc\n",
    "        curr_acc = accuracy(w, xs, ys)\n",
    "        print(\"Epoch\", k, \": \", curr_acc)\n",
    "        if abs(curr_acc - prev_acc) < 0.1:\n",
    "            counter += 1\n",
    "            if counter == 5:\n",
    "                return"
   ]
  },
  {
   "cell_type": "code",
   "execution_count": 73,
   "metadata": {},
   "outputs": [
    {
     "name": "stdout",
     "output_type": "stream",
     "text": [
      "Epoch 0 :  96.99166666666666\n",
      "Epoch 1 :  97.2\n",
      "Epoch 2 :  97.16666666666667\n",
      "Epoch 3 :  96.24166666666667\n",
      "Epoch 4 :  96.96666666666667\n",
      "Epoch 5 :  96.875\n",
      "Epoch 6 :  96.85833333333333\n",
      "Epoch 7 :  96.91666666666666\n",
      "Epoch 8 :  97.25\n",
      "Epoch 9 :  97.175\n"
     ]
    }
   ],
   "source": [
    "epochs = 100\n",
    "voted_perceptron(w, trainxs, trainys, s, epochs)"
   ]
  },
  {
   "cell_type": "code",
   "execution_count": null,
   "metadata": {},
   "outputs": [],
   "source": []
  }
 ],
 "metadata": {
  "kernelspec": {
   "display_name": "Python 3",
   "language": "python",
   "name": "python3"
  },
  "language_info": {
   "codemirror_mode": {
    "name": "ipython",
    "version": 3
   },
   "file_extension": ".py",
   "mimetype": "text/x-python",
   "name": "python",
   "nbconvert_exporter": "python",
   "pygments_lexer": "ipython3",
   "version": "3.7.3"
  }
 },
 "nbformat": 4,
 "nbformat_minor": 4
}
